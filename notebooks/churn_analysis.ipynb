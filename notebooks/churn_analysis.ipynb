{
 "cells": [
  {
   "cell_type": "code",
   "execution_count": 16,
   "metadata": {},
   "outputs": [
    {
     "data": {
      "text/html": [
       "<div>\n",
       "<style scoped>\n",
       "    .dataframe tbody tr th:only-of-type {\n",
       "        vertical-align: middle;\n",
       "    }\n",
       "\n",
       "    .dataframe tbody tr th {\n",
       "        vertical-align: top;\n",
       "    }\n",
       "\n",
       "    .dataframe thead th {\n",
       "        text-align: right;\n",
       "    }\n",
       "</style>\n",
       "<table border=\"1\" class=\"dataframe\">\n",
       "  <thead>\n",
       "    <tr style=\"text-align: right;\">\n",
       "      <th></th>\n",
       "      <th>Customer_ID</th>\n",
       "      <th>Product_ID</th>\n",
       "      <th>Transaction_ID</th>\n",
       "      <th>Purchase_Frequency</th>\n",
       "      <th>Average_Order_Value</th>\n",
       "      <th>Most_Frequent_Category</th>\n",
       "      <th>Time_Between_Purchases</th>\n",
       "      <th>Region</th>\n",
       "      <th>Churn_Probability</th>\n",
       "      <th>Lifetime_Value</th>\n",
       "      <th>Launch_Date</th>\n",
       "      <th>Peak_Sales_Date</th>\n",
       "      <th>Season</th>\n",
       "      <th>Preferred_Purchase_Times</th>\n",
       "      <th>Retention_Strategy</th>\n",
       "    </tr>\n",
       "  </thead>\n",
       "  <tbody>\n",
       "    <tr>\n",
       "      <th>0</th>\n",
       "      <td>CUST_9HOS83</td>\n",
       "      <td>PROD_IK97D1</td>\n",
       "      <td>TRANS_II1DZG</td>\n",
       "      <td>17</td>\n",
       "      <td>172.57</td>\n",
       "      <td>Electronics</td>\n",
       "      <td>45</td>\n",
       "      <td>South America</td>\n",
       "      <td>0.98</td>\n",
       "      <td>952.81</td>\n",
       "      <td>2020-03-14</td>\n",
       "      <td>2023-09-11</td>\n",
       "      <td>Winter</td>\n",
       "      <td>Afternoon</td>\n",
       "      <td>Loyalty Program</td>\n",
       "    </tr>\n",
       "    <tr>\n",
       "      <th>1</th>\n",
       "      <td>CUST_AJU17N</td>\n",
       "      <td>PROD_UNN7KP</td>\n",
       "      <td>TRANS_9HJF7I</td>\n",
       "      <td>10</td>\n",
       "      <td>64.89</td>\n",
       "      <td>Clothing</td>\n",
       "      <td>6</td>\n",
       "      <td>South America</td>\n",
       "      <td>0.66</td>\n",
       "      <td>5427.51</td>\n",
       "      <td>2022-10-15</td>\n",
       "      <td>2023-01-02</td>\n",
       "      <td>Spring</td>\n",
       "      <td>Afternoon</td>\n",
       "      <td>Discount</td>\n",
       "    </tr>\n",
       "    <tr>\n",
       "      <th>2</th>\n",
       "      <td>CUST_11XNYF</td>\n",
       "      <td>PROD_0XEW2W</td>\n",
       "      <td>TRANS_OT96OM</td>\n",
       "      <td>3</td>\n",
       "      <td>120.38</td>\n",
       "      <td>Sports</td>\n",
       "      <td>23</td>\n",
       "      <td>Asia</td>\n",
       "      <td>0.60</td>\n",
       "      <td>3994.80</td>\n",
       "      <td>2021-11-30</td>\n",
       "      <td>2023-04-06</td>\n",
       "      <td>Winter</td>\n",
       "      <td>Evening</td>\n",
       "      <td>Loyalty Program</td>\n",
       "    </tr>\n",
       "    <tr>\n",
       "      <th>3</th>\n",
       "      <td>CUST_IGH8G3</td>\n",
       "      <td>PROD_3IIAJN</td>\n",
       "      <td>TRANS_45V00G</td>\n",
       "      <td>12</td>\n",
       "      <td>70.34</td>\n",
       "      <td>Clothing</td>\n",
       "      <td>5</td>\n",
       "      <td>North America</td>\n",
       "      <td>0.78</td>\n",
       "      <td>4880.01</td>\n",
       "      <td>2022-03-20</td>\n",
       "      <td>2023-03-23</td>\n",
       "      <td>Spring</td>\n",
       "      <td>Evening</td>\n",
       "      <td>Discount</td>\n",
       "    </tr>\n",
       "    <tr>\n",
       "      <th>4</th>\n",
       "      <td>CUST_OK6PUM</td>\n",
       "      <td>PROD_VMIWD2</td>\n",
       "      <td>TRANS_ZAK760</td>\n",
       "      <td>18</td>\n",
       "      <td>42.39</td>\n",
       "      <td>Electronics</td>\n",
       "      <td>10</td>\n",
       "      <td>North America</td>\n",
       "      <td>0.52</td>\n",
       "      <td>8557.70</td>\n",
       "      <td>2022-11-09</td>\n",
       "      <td>2023-10-28</td>\n",
       "      <td>Spring</td>\n",
       "      <td>Morning</td>\n",
       "      <td>Discount</td>\n",
       "    </tr>\n",
       "  </tbody>\n",
       "</table>\n",
       "</div>"
      ],
      "text/plain": [
       "   Customer_ID   Product_ID Transaction_ID  Purchase_Frequency  \\\n",
       "0  CUST_9HOS83  PROD_IK97D1   TRANS_II1DZG                  17   \n",
       "1  CUST_AJU17N  PROD_UNN7KP   TRANS_9HJF7I                  10   \n",
       "2  CUST_11XNYF  PROD_0XEW2W   TRANS_OT96OM                   3   \n",
       "3  CUST_IGH8G3  PROD_3IIAJN   TRANS_45V00G                  12   \n",
       "4  CUST_OK6PUM  PROD_VMIWD2   TRANS_ZAK760                  18   \n",
       "\n",
       "   Average_Order_Value Most_Frequent_Category  Time_Between_Purchases  \\\n",
       "0               172.57            Electronics                      45   \n",
       "1                64.89               Clothing                       6   \n",
       "2               120.38                 Sports                      23   \n",
       "3                70.34               Clothing                       5   \n",
       "4                42.39            Electronics                      10   \n",
       "\n",
       "          Region  Churn_Probability  Lifetime_Value Launch_Date  \\\n",
       "0  South America               0.98          952.81  2020-03-14   \n",
       "1  South America               0.66         5427.51  2022-10-15   \n",
       "2           Asia               0.60         3994.80  2021-11-30   \n",
       "3  North America               0.78         4880.01  2022-03-20   \n",
       "4  North America               0.52         8557.70  2022-11-09   \n",
       "\n",
       "  Peak_Sales_Date  Season Preferred_Purchase_Times Retention_Strategy  \n",
       "0      2023-09-11  Winter                Afternoon    Loyalty Program  \n",
       "1      2023-01-02  Spring                Afternoon           Discount  \n",
       "2      2023-04-06  Winter                  Evening    Loyalty Program  \n",
       "3      2023-03-23  Spring                  Evening           Discount  \n",
       "4      2023-10-28  Spring                  Morning           Discount  "
      ]
     },
     "execution_count": 16,
     "metadata": {},
     "output_type": "execute_result"
    }
   ],
   "source": [
    "import pandas as pd\n",
    "\n",
    "# Defining the file path for dataset\n",
    "file_path = \"../data/sales_and_customer_insights.csv\"\n",
    "\n",
    "# Loading the dataset\n",
    "df = pd.read_csv(file_path)\n",
    "\n",
    "# Displaying the basic info\n",
    "df.head()"
   ]
  },
  {
   "cell_type": "code",
   "execution_count": 17,
   "metadata": {},
   "outputs": [
    {
     "data": {
      "text/plain": [
       "(10000, 15)"
      ]
     },
     "execution_count": 17,
     "metadata": {},
     "output_type": "execute_result"
    }
   ],
   "source": [
    "# Exploring Dataset\n",
    "\n",
    "# Checking dataset shape\n",
    "df.shape"
   ]
  },
  {
   "cell_type": "code",
   "execution_count": 18,
   "metadata": {},
   "outputs": [
    {
     "data": {
      "text/plain": [
       "Customer_ID                 0\n",
       "Product_ID                  0\n",
       "Transaction_ID              0\n",
       "Purchase_Frequency          0\n",
       "Average_Order_Value         0\n",
       "Most_Frequent_Category      0\n",
       "Time_Between_Purchases      0\n",
       "Region                      0\n",
       "Churn_Probability           0\n",
       "Lifetime_Value              0\n",
       "Launch_Date                 0\n",
       "Peak_Sales_Date             0\n",
       "Season                      0\n",
       "Preferred_Purchase_Times    0\n",
       "Retention_Strategy          0\n",
       "dtype: int64"
      ]
     },
     "execution_count": 18,
     "metadata": {},
     "output_type": "execute_result"
    }
   ],
   "source": [
    "# Checking for any missing values\n",
    "df.isnull().sum()"
   ]
  },
  {
   "cell_type": "code",
   "execution_count": 19,
   "metadata": {},
   "outputs": [
    {
     "name": "stdout",
     "output_type": "stream",
     "text": [
      "<class 'pandas.core.frame.DataFrame'>\n",
      "RangeIndex: 10000 entries, 0 to 9999\n",
      "Data columns (total 15 columns):\n",
      " #   Column                    Non-Null Count  Dtype  \n",
      "---  ------                    --------------  -----  \n",
      " 0   Customer_ID               10000 non-null  object \n",
      " 1   Product_ID                10000 non-null  object \n",
      " 2   Transaction_ID            10000 non-null  object \n",
      " 3   Purchase_Frequency        10000 non-null  int64  \n",
      " 4   Average_Order_Value       10000 non-null  float64\n",
      " 5   Most_Frequent_Category    10000 non-null  object \n",
      " 6   Time_Between_Purchases    10000 non-null  int64  \n",
      " 7   Region                    10000 non-null  object \n",
      " 8   Churn_Probability         10000 non-null  float64\n",
      " 9   Lifetime_Value            10000 non-null  float64\n",
      " 10  Launch_Date               10000 non-null  object \n",
      " 11  Peak_Sales_Date           10000 non-null  object \n",
      " 12  Season                    10000 non-null  object \n",
      " 13  Preferred_Purchase_Times  10000 non-null  object \n",
      " 14  Retention_Strategy        10000 non-null  object \n",
      "dtypes: float64(3), int64(2), object(10)\n",
      "memory usage: 1.1+ MB\n"
     ]
    }
   ],
   "source": [
    "# Checking for the datatypes\n",
    "df.info()"
   ]
  },
  {
   "cell_type": "code",
   "execution_count": 20,
   "metadata": {},
   "outputs": [
    {
     "data": {
      "text/plain": [
       "np.int64(0)"
      ]
     },
     "execution_count": 20,
     "metadata": {},
     "output_type": "execute_result"
    }
   ],
   "source": [
    "# Checking for the duplicate rows\n",
    "df.duplicated().sum()"
   ]
  },
  {
   "cell_type": "code",
   "execution_count": 21,
   "metadata": {},
   "outputs": [],
   "source": [
    "# Creating a copy of the dataset before modifications\n",
    "df_copy = df.copy()"
   ]
  },
  {
   "cell_type": "code",
   "execution_count": 22,
   "metadata": {},
   "outputs": [],
   "source": [
    "# Converting Date columns Launch_Date, Peak_Sales_Date to 'datetime' format\n",
    "df_copy['Launch_Date'] = pd.to_datetime(df_copy['Launch_Date'])\n",
    "df_copy['Peak_Sales_Date'] = pd.to_datetime(df_copy['Peak_Sales_Date'])"
   ]
  },
  {
   "cell_type": "code",
   "execution_count": 23,
   "metadata": {},
   "outputs": [
    {
     "name": "stdout",
     "output_type": "stream",
     "text": [
      "Most_Frequent_Category unique values: \n",
      "['Electronics' 'Clothing' 'Sports' 'Home']\n",
      "\n",
      "Region unique values: \n",
      "['South America' 'Asia' 'North America' 'Europe']\n",
      "\n",
      "Season unique values: \n",
      "['Winter' 'Spring' 'Summer' 'Fall']\n",
      "\n",
      "Preferred_Purchase_Times unique values: \n",
      "['Afternoon' 'Evening' 'Morning']\n",
      "\n",
      "Retention_Strategy unique values: \n",
      "['Loyalty Program' 'Discount' 'Email Campaign']\n",
      "\n"
     ]
    }
   ],
   "source": [
    "# Checking for unique values in categorical columns: 'Most_Frequent_Category', 'Region', 'Season', 'Preferred_Purchase_Times', 'Retention_Strategy'\n",
    "\n",
    "categorical_cols = ['Most_Frequent_Category', 'Region', 'Season', 'Preferred_Purchase_Times', 'Retention_Strategy']\n",
    "\n",
    "for col in categorical_cols:\n",
    "    print(f'{col} unique values: \\n{df_copy[col].unique()}\\n')"
   ]
  },
  {
   "cell_type": "code",
   "execution_count": 24,
   "metadata": {},
   "outputs": [
    {
     "data": {
      "text/html": [
       "<div>\n",
       "<style scoped>\n",
       "    .dataframe tbody tr th:only-of-type {\n",
       "        vertical-align: middle;\n",
       "    }\n",
       "\n",
       "    .dataframe tbody tr th {\n",
       "        vertical-align: top;\n",
       "    }\n",
       "\n",
       "    .dataframe thead th {\n",
       "        text-align: right;\n",
       "    }\n",
       "</style>\n",
       "<table border=\"1\" class=\"dataframe\">\n",
       "  <thead>\n",
       "    <tr style=\"text-align: right;\">\n",
       "      <th></th>\n",
       "      <th>Purchase_Frequency</th>\n",
       "      <th>Average_Order_Value</th>\n",
       "      <th>Time_Between_Purchases</th>\n",
       "      <th>Churn_Probability</th>\n",
       "      <th>Lifetime_Value</th>\n",
       "      <th>Launch_Date</th>\n",
       "      <th>Peak_Sales_Date</th>\n",
       "    </tr>\n",
       "  </thead>\n",
       "  <tbody>\n",
       "    <tr>\n",
       "      <th>count</th>\n",
       "      <td>10000.000000</td>\n",
       "      <td>10000.000000</td>\n",
       "      <td>10000.000000</td>\n",
       "      <td>10000.000000</td>\n",
       "      <td>10000.000000</td>\n",
       "      <td>10000</td>\n",
       "      <td>10000</td>\n",
       "    </tr>\n",
       "    <tr>\n",
       "      <th>mean</th>\n",
       "      <td>9.955700</td>\n",
       "      <td>110.006022</td>\n",
       "      <td>46.885300</td>\n",
       "      <td>0.501552</td>\n",
       "      <td>5031.930567</td>\n",
       "      <td>2021-07-01 18:07:46.560000</td>\n",
       "      <td>2023-07-01 08:46:01.920000</td>\n",
       "    </tr>\n",
       "    <tr>\n",
       "      <th>min</th>\n",
       "      <td>1.000000</td>\n",
       "      <td>20.010000</td>\n",
       "      <td>5.000000</td>\n",
       "      <td>0.000000</td>\n",
       "      <td>100.160000</td>\n",
       "      <td>2020-01-01 00:00:00</td>\n",
       "      <td>2023-01-01 00:00:00</td>\n",
       "    </tr>\n",
       "    <tr>\n",
       "      <th>25%</th>\n",
       "      <td>5.000000</td>\n",
       "      <td>65.262500</td>\n",
       "      <td>25.000000</td>\n",
       "      <td>0.250000</td>\n",
       "      <td>2518.775000</td>\n",
       "      <td>2020-10-04 00:00:00</td>\n",
       "      <td>2023-03-31 00:00:00</td>\n",
       "    </tr>\n",
       "    <tr>\n",
       "      <th>50%</th>\n",
       "      <td>10.000000</td>\n",
       "      <td>109.930000</td>\n",
       "      <td>47.000000</td>\n",
       "      <td>0.500000</td>\n",
       "      <td>5012.180000</td>\n",
       "      <td>2021-07-02 00:00:00</td>\n",
       "      <td>2023-07-02 00:00:00</td>\n",
       "    </tr>\n",
       "    <tr>\n",
       "      <th>75%</th>\n",
       "      <td>15.000000</td>\n",
       "      <td>155.480000</td>\n",
       "      <td>68.000000</td>\n",
       "      <td>0.750000</td>\n",
       "      <td>7526.232500</td>\n",
       "      <td>2022-03-31 00:00:00</td>\n",
       "      <td>2023-10-01 00:00:00</td>\n",
       "    </tr>\n",
       "    <tr>\n",
       "      <th>max</th>\n",
       "      <td>19.000000</td>\n",
       "      <td>199.960000</td>\n",
       "      <td>89.000000</td>\n",
       "      <td>1.000000</td>\n",
       "      <td>9999.760000</td>\n",
       "      <td>2023-01-01 00:00:00</td>\n",
       "      <td>2023-12-31 00:00:00</td>\n",
       "    </tr>\n",
       "    <tr>\n",
       "      <th>std</th>\n",
       "      <td>5.526209</td>\n",
       "      <td>52.096870</td>\n",
       "      <td>24.711746</td>\n",
       "      <td>0.288289</td>\n",
       "      <td>2865.420299</td>\n",
       "      <td>NaN</td>\n",
       "      <td>NaN</td>\n",
       "    </tr>\n",
       "  </tbody>\n",
       "</table>\n",
       "</div>"
      ],
      "text/plain": [
       "       Purchase_Frequency  Average_Order_Value  Time_Between_Purchases  \\\n",
       "count        10000.000000         10000.000000            10000.000000   \n",
       "mean             9.955700           110.006022               46.885300   \n",
       "min              1.000000            20.010000                5.000000   \n",
       "25%              5.000000            65.262500               25.000000   \n",
       "50%             10.000000           109.930000               47.000000   \n",
       "75%             15.000000           155.480000               68.000000   \n",
       "max             19.000000           199.960000               89.000000   \n",
       "std              5.526209            52.096870               24.711746   \n",
       "\n",
       "       Churn_Probability  Lifetime_Value                 Launch_Date  \\\n",
       "count       10000.000000    10000.000000                       10000   \n",
       "mean            0.501552     5031.930567  2021-07-01 18:07:46.560000   \n",
       "min             0.000000      100.160000         2020-01-01 00:00:00   \n",
       "25%             0.250000     2518.775000         2020-10-04 00:00:00   \n",
       "50%             0.500000     5012.180000         2021-07-02 00:00:00   \n",
       "75%             0.750000     7526.232500         2022-03-31 00:00:00   \n",
       "max             1.000000     9999.760000         2023-01-01 00:00:00   \n",
       "std             0.288289     2865.420299                         NaN   \n",
       "\n",
       "                  Peak_Sales_Date  \n",
       "count                       10000  \n",
       "mean   2023-07-01 08:46:01.920000  \n",
       "min           2023-01-01 00:00:00  \n",
       "25%           2023-03-31 00:00:00  \n",
       "50%           2023-07-02 00:00:00  \n",
       "75%           2023-10-01 00:00:00  \n",
       "max           2023-12-31 00:00:00  \n",
       "std                           NaN  "
      ]
     },
     "execution_count": 24,
     "metadata": {},
     "output_type": "execute_result"
    }
   ],
   "source": [
    "# Describing numerical columns\n",
    "df_copy.describe()"
   ]
  },
  {
   "cell_type": "code",
   "execution_count": 25,
   "metadata": {},
   "outputs": [
    {
     "data": {
      "image/png": "[encoded data removed]",
      "text/plain": [
       "<Figure size 1500x600 with 5 Axes>"
      ]
     },
     "metadata": {},
     "output_type": "display_data"
    }
   ],
   "source": [
    "# Visualizing Outliers with Box Plots\n",
    "\n",
    "import seaborn as sns\n",
    "import matplotlib.pyplot as plt\n",
    "\n",
    "# List of numerical columns\n",
    "numerical_cols = ['Purchase_Frequency', 'Average_Order_Value', 'Time_Between_Purchases', 'Churn_Probability', 'Lifetime_Value']\n",
    "\n",
    "# Plotting box plots for each numerical column\n",
    "plt.figure(figsize = (15, 6))\n",
    "for i, col in enumerate(numerical_cols, 1):\n",
    "    plt.subplot(1, len(numerical_cols), i)\n",
    "    sns.boxplot(y = df_copy[col])\n",
    "    plt.title(col)\n",
    "\n",
    "plt.tight_layout()\n",
    "plt.show()"
   ]
  },
  {
   "cell_type": "code",
   "execution_count": null,
   "metadata": {},
   "outputs": [
    {
     "name": "stdout",
     "output_type": "stream",
     "text": [
      "Purchase_Frequency - Outliers: 0\n",
      "Average_Order_Value - Outliers: 0\n",
      "Time_Between_Purchases - Outliers: 0\n",
      "Churn_Probability - Outliers: 0\n",
      "Lifetime_Value - Outliers: 0\n"
     ]
    }
   ],
   "source": [
    "# Function to detect outliers using IQR\n",
    "def detect_outliers_iqr(data, column):\n",
    "    Q1 = data[column].quantile(0.25)  # 25th percentile\n",
    "    Q3 = data[column].quantile(0.75)  # 75th percentile\n",
    "    IQR = Q3 - Q1  # Interquartile range\n",
    "\n",
    "    lower_bound = Q1 - 1.5 * IQR  # lower bound\n",
    "    upper_bound = Q3 + 1.5 * IQR  # upper bound\n",
    "\n",
    "    outliers = data[(data[column] < lower_bound) | (data[column] > upper_bound)]\n",
    "    return outliers\n",
    "\n",
    "# Checking outliers in numerical columns\n",
    "for col in numerical_cols:\n",
    "    outliers = detect_outliers_iqr(df_copy, col)\n",
    "    print(f\"{col} - Outliers: {len(outliers)}\")"
   ]
  },
  {
   "cell_type": "code",
   "execution_count": null,
   "metadata": {},
   "outputs": [
    {
     "name": "stdout",
     "output_type": "stream",
     "text": [
      "Purchase_Frequency: Q1=5.0, Q3=15.0, IQR=10.0\n",
      "Average_Order_Value: Q1=65.2625, Q3=155.48, IQR=90.21749999999999\n",
      "Time_Between_Purchases: Q1=25.0, Q3=68.0, IQR=43.0\n",
      "Churn_Probability: Q1=0.25, Q3=0.75, IQR=0.5\n",
      "Lifetime_Value: Q1=2518.775, Q3=7526.2325, IQR=5007.4575\n"
     ]
    }
   ],
   "source": [
    "# Above got all Zero Outliers printing the IQR values to check all the datapoints fall within '[Q1 - 1.5 * IQR, Q3 + 1.5 * IQR]'\n",
    "\n",
    "for col in numerical_cols:\n",
    "    Q1 = df_copy[col].quantile(0.25)\n",
    "    Q3 = df_copy[col].quantile(0.75)\n",
    "    IQR = Q3 - Q1\n",
    "    print(f\"{col}: Q1={Q1}, Q3={Q3}, IQR={IQR}\")"
   ]
  },
  {
   "cell_type": "code",
   "execution_count": 30,
   "metadata": {},
   "outputs": [
    {
     "name": "stdout",
     "output_type": "stream",
     "text": [
      "     Purchase_Frequency  Average_Order_Value  Time_Between_Purchases  \\\n",
      "min                   1                20.01                       5   \n",
      "max                  19               199.96                      89   \n",
      "\n",
      "     Churn_Probability  Lifetime_Value  \n",
      "min                0.0          100.16  \n",
      "max                1.0         9999.76  \n"
     ]
    }
   ],
   "source": [
    "print(df_copy[numerical_cols].agg(['min', 'max']))"
   ]
  },
  {
   "cell_type": "code",
   "execution_count": null,
   "metadata": {},
   "outputs": [
    {
     "name": "stdout",
     "output_type": "stream",
     "text": [
      "Purchase_Frequency        0\n",
      "Average_Order_Value       0\n",
      "Time_Between_Purchases    0\n",
      "Churn_Probability         0\n",
      "Lifetime_Value            0\n",
      "dtype: int64\n"
     ]
    }
   ],
   "source": [
    "# Function to detect outliers using stricter threshold of 1.2\n",
    "def detect_outliers_iqr(data, column):\n",
    "    Q1 = data[column].quantile(0.25)  # 25th percentile\n",
    "    Q3 = data[column].quantile(0.75)  # 75th percentile\n",
    "    IQR = Q3 - Q1  # Interquartile range\n",
    "\n",
    "    lower_bound = Q1 - 1.2 * IQR  # lower bound\n",
    "    upper_bound = Q3 + 1.2 * IQR  # upper bound\n",
    "\n",
    "    outliers = data[(data[column] < lower_bound) | (data[column] > upper_bound)]\n",
    "    return outliers\n",
    "\n",
    "# Z-Score Method for outlier detection\n",
    "from scipy.stats import zscore\n",
    "df_zscores = df_copy[numerical_cols].apply(zscore)\n",
    "outliers_z = (df_zscores.abs() > 3).sum()\n",
    "print(outliers_z)"
   ]
  },
  {
   "cell_type": "markdown",
   "metadata": {},
   "source": [
    "### Note: I also performed SQL-based EDA using PostgreSQL. See `Docs/SQL_EDA_Report.md` for details on SQL analysis."
   ]
  }
 ],
 "metadata": {
  "kernelspec": {
   "display_name": "churn_env",
   "language": "python",
   "name": "python3"
  },
  "language_info": {
   "codemirror_mode": {
    "name": "ipython",
    "version": 3
   },
   "file_extension": ".py",
   "mimetype": "text/x-python",
   "name": "python",
   "nbconvert_exporter": "python",
   "pygments_lexer": "ipython3",
   "version": "3.11.11"
  }
 },
 "nbformat": 4,
 "nbformat_minor": 2
}
