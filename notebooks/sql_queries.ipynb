{
 "cells": [
  {
   "cell_type": "code",
   "execution_count": 8,
   "metadata": {},
   "outputs": [],
   "source": [
    "import pandas as pd\n",
    "import psycopg2\n",
    "from sqlalchemy import create_engine\n",
    "from dotenv import load_dotenv\n",
    "import os\n",
    "from urllib.parse import quote_plus"
   ]
  },
  {
   "cell_type": "code",
   "execution_count": 9,
   "metadata": {},
   "outputs": [
    {
     "data": {
      "text/plain": [
       "True"
      ]
     },
     "execution_count": 9,
     "metadata": {},
     "output_type": "execute_result"
    }
   ],
   "source": [
    "# Load environment variables from .env\n",
    "load_dotenv()"
   ]
  },
  {
   "cell_type": "code",
   "execution_count": 10,
   "metadata": {},
   "outputs": [],
   "source": [
    "# Fetch database credentials from .env\n",
    "DB_NAME = os.getenv(\"DB_NAME\")\n",
    "DB_USER = os.getenv(\"DB_USER\")\n",
    "DB_PASSWORD = os.getenv(\"DB_PASSWORD\")\n",
    "DB_HOST = os.getenv(\"DB_HOST\")\n",
    "DB_PORT = os.getenv(\"DB_PORT\")\n",
    "\n",
    "# Encode the password to handle special characters\n",
    "password_encoded = quote_plus(DB_PASSWORD)\n",
    "\n",
    "# Use only this connection string (DO NOT create another one)\n",
    "connection_url = f'postgresql://{DB_USER}:{password_encoded}@{DB_HOST}:{DB_PORT}/{DB_NAME}'\n",
    "\n",
    "# Use this engine throughout the script\n",
    "engine = create_engine(connection_url)"
   ]
  },
  {
   "cell_type": "code",
   "execution_count": 11,
   "metadata": {},
   "outputs": [
    {
     "name": "stdout",
     "output_type": "stream",
     "text": [
      "Connection to PostgreSQL successful!\n"
     ]
    }
   ],
   "source": [
    "# Establish a connection using psycopg2\n",
    "conn = psycopg2.connect(\n",
    "    dbname=DB_NAME,\n",
    "    user=DB_USER,\n",
    "    password=DB_PASSWORD,\n",
    "    host=DB_HOST,\n",
    "    port=DB_PORT\n",
    ")\n",
    "cursor = conn.cursor()\n",
    "\n",
    "print(\"Connection to PostgreSQL successful!\")"
   ]
  },
  {
   "cell_type": "code",
   "execution_count": 15,
   "metadata": {},
   "outputs": [
    {
     "name": "stdout",
     "output_type": "stream",
     "text": [
      "   churn_rate\n",
      "0         0.0\n"
     ]
    }
   ],
   "source": [
    "# Calculating the customers percentage most likely to churn\n",
    "query = \"\"\"\n",
    "SELECT \n",
    "    ROUND( (SUM(CASE WHEN churn_probability >= 50 THEN 1 ELSE 0 END) * 100.0) / COUNT(*), 2) AS churn_rate\n",
    "FROM churn_data;\n",
    "\"\"\"\n",
    "\n",
    "df_customer_churn = pd.read_sql(query, engine)\n",
    "\n",
    "print(df_customer_churn)"
   ]
  },
  {
   "cell_type": "code",
   "execution_count": 21,
   "metadata": {},
   "outputs": [
    {
     "name": "stdout",
     "output_type": "stream",
     "text": [
      "   min  max\n",
      "0    0    1\n"
     ]
    }
   ],
   "source": [
    "query = \"SELECT MIN(churn_probability), MAX(churn_probability) FROM churn_data;\"\n",
    "df_range = pd.read_sql(query, engine)\n",
    "print(df_range)"
   ]
  },
  {
   "cell_type": "code",
   "execution_count": 22,
   "metadata": {},
   "outputs": [
    {
     "name": "stdout",
     "output_type": "stream",
     "text": [
      "   churn_probability\n",
      "0                  1\n",
      "1                  0\n"
     ]
    }
   ],
   "source": [
    "query = \"SELECT DISTINCT churn_probability FROM churn_data ORDER BY churn_probability DESC LIMIT 10;\"\n",
    "df_check = pd.read_sql(query, engine)\n",
    "print(df_check)"
   ]
  },
  {
   "cell_type": "code",
   "execution_count": 23,
   "metadata": {},
   "outputs": [
    {
     "name": "stdout",
     "output_type": "stream",
     "text": [
      "   churn_rate\n",
      "0       50.24\n"
     ]
    }
   ],
   "source": [
    "query = \"\"\"\n",
    "SELECT \n",
    "    ROUND( (SUM(CASE WHEN churn_probability = 1 THEN 1 ELSE 0 END) * 100.0) / COUNT(*), 2) AS churn_rate\n",
    "FROM churn_data;\n",
    "\"\"\"\n",
    "\n",
    "df_customer_churn = pd.read_sql(query, engine)\n",
    "print(df_customer_churn)"
   ]
  },
  {
   "cell_type": "code",
   "execution_count": 24,
   "metadata": {},
   "outputs": [
    {
     "name": "stdout",
     "output_type": "stream",
     "text": [
      "    purchase_behavior  total_customers  churned_customers  churn_rate\n",
      "0                 9.0              427                233       54.57\n",
      "1                15.0              410                221       53.90\n",
      "2                19.0              438                230       52.51\n",
      "3                17.0              411                215       52.31\n",
      "4                11.0              401                208       51.87\n",
      "5                16.0              412                213       51.70\n",
      "6                12.0              390                199       51.03\n",
      "7                10.0              439                224       51.03\n",
      "8                 8.0              431                219       50.81\n",
      "9                18.0              430                218       50.70\n",
      "10               13.0              415                208       50.12\n",
      "11                1.0              462                231       50.00\n",
      "12               14.0              426                209       49.06\n",
      "13                7.0              418                205       49.04\n",
      "14                5.0              437                212       48.51\n",
      "15                2.0              415                198       47.71\n",
      "16                3.0              426                200       46.95\n",
      "17                4.0              408                189       46.32\n",
      "18                6.0              404                187       46.29\n"
     ]
    }
   ],
   "source": [
    "# Checking churn rate by purchase behavior\n",
    "query = \"\"\"\n",
    "SELECT \n",
    "    purchase_behavior,\n",
    "    COUNT(*) AS total_customers,\n",
    "    SUM(CASE WHEN churn_probability = 1 THEN 1 ELSE 0 END) AS churned_customers,\n",
    "    ROUND((SUM(CASE WHEN churn_probability = 1 THEN 1 ELSE 0 END) * 100.0) / COUNT(*), 2) AS churn_rate\n",
    "FROM churn_data\n",
    "GROUP BY purchase_behavior\n",
    "ORDER BY churn_rate DESC;\n",
    "\"\"\"\n",
    "\n",
    "df_purchase_behavior = pd.read_sql(query, engine)\n",
    "print(df_purchase_behavior)"
   ]
  },
  {
   "cell_type": "code",
   "execution_count": 26,
   "metadata": {},
   "outputs": [
    {
     "name": "stdout",
     "output_type": "stream",
     "text": [
      "         spending_category  total_customers  churned_customers  churn_rate\n",
      "0  Medium Spend ($50-$200)             6639               3342       50.34\n",
      "1        Low Spend (< $50)             1361                677       49.74\n"
     ]
    }
   ],
   "source": [
    "# Checking churn rate by spending category\n",
    "query = \"\"\"\n",
    "SELECT \n",
    "    CASE \n",
    "        WHEN average_order_value < 50 THEN 'Low Spend (< $50)'\n",
    "        WHEN average_order_value BETWEEN 50 AND 200 THEN 'Medium Spend ($50-$200)'\n",
    "        ELSE 'High Spend (> $200)'\n",
    "    END AS spending_category,\n",
    "    COUNT(*) AS total_customers,\n",
    "    SUM(CASE WHEN churn_probability = 1 THEN 1 ELSE 0 END) AS churned_customers,\n",
    "    ROUND((SUM(CASE WHEN churn_probability = 1 THEN 1 ELSE 0 END) * 100.0) / COUNT(*), 2) AS churn_rate\n",
    "FROM churn_data\n",
    "GROUP BY spending_category\n",
    "ORDER BY churn_rate DESC;\n",
    "\"\"\"\n",
    "\n",
    "df_aov_churn = pd.read_sql(query, engine)\n",
    "print(df_aov_churn)"
   ]
  },
  {
   "cell_type": "code",
   "execution_count": 27,
   "metadata": {},
   "outputs": [
    {
     "name": "stdout",
     "output_type": "stream",
     "text": [
      "  purchase_frequency_category  total_customers  churned_customers  churn_rate\n",
      "0         Frequent (1-7 days)              287                152       52.96\n",
      "1      Occasional (7-30 days)             2211               1116       50.47\n",
      "2            Rare (> 30 days)             5502               2751       50.00\n"
     ]
    }
   ],
   "source": [
    "# Checking churn rate by Purchase Frequency\n",
    "query = \"\"\"\n",
    "SELECT \n",
    "    CASE \n",
    "        WHEN time_between_purchases_log < 1 THEN 'Very Frequent (< 1 day)'\n",
    "        WHEN time_between_purchases_log BETWEEN 1 AND 7 THEN 'Frequent (1-7 days)'\n",
    "        WHEN time_between_purchases_log BETWEEN 7 AND 30 THEN 'Occasional (7-30 days)'\n",
    "        ELSE 'Rare (> 30 days)'\n",
    "    END AS purchase_frequency_category,\n",
    "    COUNT(*) AS total_customers,\n",
    "    SUM(CASE WHEN churn_probability = 1 THEN 1 ELSE 0 END) AS churned_customers,\n",
    "    ROUND((SUM(CASE WHEN churn_probability = 1 THEN 1 ELSE 0 END) * 100.0) / COUNT(*), 2) AS churn_rate\n",
    "FROM churn_data\n",
    "GROUP BY purchase_frequency_category\n",
    "ORDER BY churn_rate DESC;\n",
    "\"\"\"\n",
    "\n",
    "df_purchase_freq = pd.read_sql(query, engine)\n",
    "print(df_purchase_freq)"
   ]
  },
  {
   "cell_type": "code",
   "execution_count": 28,
   "metadata": {},
   "outputs": [
    {
     "name": "stdout",
     "output_type": "stream",
     "text": [
      "Churn insights saved to CSV successfully!\n"
     ]
    }
   ],
   "source": [
    "# Define the path to save CSV files\n",
    "data_folder = \"../data/\"\n",
    " \n",
    "# Export each dataframe to CSV\n",
    "df_customer_churn.to_csv(data_folder + \"churn_overall.csv\", index=False)\n",
    "df_purchase_behavior.to_csv(data_folder + \"churn_by_purchase_behavior.csv\", index=False)\n",
    "df_aov_churn.to_csv(data_folder + \"churn_by_spending.csv\", index=False)\n",
    "df_purchase_freq.to_csv(data_folder + \"churn_by_purchase_frequency.csv\", index=False)\n",
    "\n",
    "print(\"Churn insights saved to CSV successfully!\")"
   ]
  },
  {
   "cell_type": "code",
   "execution_count": null,
   "metadata": {},
   "outputs": [],
   "source": []
  }
 ],
 "metadata": {
  "kernelspec": {
   "display_name": "churn_env",
   "language": "python",
   "name": "python3"
  },
  "language_info": {
   "codemirror_mode": {
    "name": "ipython",
    "version": 3
   },
   "file_extension": ".py",
   "mimetype": "text/x-python",
   "name": "python",
   "nbconvert_exporter": "python",
   "pygments_lexer": "ipython3",
   "version": "3.11.11"
  }
 },
 "nbformat": 4,
 "nbformat_minor": 2
}
