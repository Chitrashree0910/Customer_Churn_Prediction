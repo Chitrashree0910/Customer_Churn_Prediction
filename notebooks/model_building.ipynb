{
 "cells": [
  {
   "cell_type": "code",
   "execution_count": 53,
   "metadata": {},
   "outputs": [],
   "source": [
    "import pandas as pd\n",
    "import psycopg2\n",
    "import os\n",
    "from dotenv import load_dotenv\n",
    "from sqlalchemy import create_engine\n",
    "from urllib.parse import quote_plus"
   ]
  },
  {
   "cell_type": "code",
   "execution_count": 54,
   "metadata": {},
   "outputs": [],
   "source": [
    "# Fetch database credentials from .env\n",
    "DB_NAME = os.getenv(\"DB_NAME\")\n",
    "DB_USER = os.getenv(\"DB_USER\")\n",
    "DB_PASSWORD = os.getenv(\"DB_PASSWORD\")\n",
    "DB_HOST = os.getenv(\"DB_HOST\")\n",
    "DB_PORT = os.getenv(\"DB_PORT\")\n",
    "\n",
    "# Encode the password to handle special characters\n",
    "password_encoded = quote_plus(DB_PASSWORD)\n",
    "\n",
    "# Use only this connection string (DO NOT create another one)\n",
    "connection_url = f'postgresql://{DB_USER}:{password_encoded}@{DB_HOST}:{DB_PORT}/{DB_NAME}'\n",
    "\n",
    "# Use this engine throughout the script\n",
    "engine = create_engine(connection_url)"
   ]
  },
  {
   "cell_type": "code",
   "execution_count": 55,
   "metadata": {},
   "outputs": [],
   "source": [
    "# Loading the processed data\n",
    "query = \"SELECT * FROM processed_churn_data\"\n",
    "df = pd.read_sql(query, engine)"
   ]
  },
  {
   "cell_type": "code",
   "execution_count": 56,
   "metadata": {},
   "outputs": [
    {
     "name": "stdout",
     "output_type": "stream",
     "text": [
      "<class 'pandas.core.frame.DataFrame'>\n",
      "RangeIndex: 10000 entries, 0 to 9999\n",
      "Data columns (total 37 columns):\n",
      " #   Column                         Non-Null Count  Dtype  \n",
      "---  ------                         --------------  -----  \n",
      " 0   Customer_ID                    10000 non-null  object \n",
      " 1   Product_ID                     10000 non-null  object \n",
      " 2   Transaction_ID                 10000 non-null  object \n",
      " 3   Purchase_Frequency             10000 non-null  int64  \n",
      " 4   Average_Order_Value            10000 non-null  float64\n",
      " 5   Most_Frequent_Category         10000 non-null  object \n",
      " 6   Time_Between_Purchases         10000 non-null  int64  \n",
      " 7   Region                         10000 non-null  object \n",
      " 8   Churn_Probability              10000 non-null  float64\n",
      " 9   Lifetime_Value                 10000 non-null  float64\n",
      " 10  Launch_Date                    10000 non-null  object \n",
      " 11  Peak_Sales_Date                10000 non-null  object \n",
      " 12  Season                         10000 non-null  object \n",
      " 13  Preferred_Purchase_Times       10000 non-null  object \n",
      " 14  Retention_Strategy             10000 non-null  object \n",
      " 15  launch_year                    10000 non-null  int64  \n",
      " 16  launch_month                   10000 non-null  int64  \n",
      " 17  customer_tenure                10000 non-null  int64  \n",
      " 18  recency                        10000 non-null  int64  \n",
      " 19  engagement_score               10000 non-null  int64  \n",
      " 20  purchase_freq_scaled           10000 non-null  float64\n",
      " 21  avg_order_value_scaled         10000 non-null  float64\n",
      " 22  time_between_scaled            10000 non-null  float64\n",
      " 23  customer_tenure_scaled         10000 non-null  int64  \n",
      " 24  recency_scaled                 10000 non-null  int64  \n",
      " 25  engagement_score_scaled        10000 non-null  int64  \n",
      " 26  purchase_freq_standardized     10000 non-null  float64\n",
      " 27  avg_order_value_standardized   10000 non-null  float64\n",
      " 28  time_between_standardized      10000 non-null  float64\n",
      " 29  customer_tenure_standardized   10000 non-null  float64\n",
      " 30  recency_standardized           10000 non-null  float64\n",
      " 31  engagement_score_standardized  10000 non-null  float64\n",
      " 32  engagement_score_log           10000 non-null  float64\n",
      " 33  customer_tenure_group          10000 non-null  object \n",
      " 34  engagement_category            10000 non-null  object \n",
      " 35  recently_active                10000 non-null  object \n",
      " 36  engagement_score_ma3           10000 non-null  float64\n",
      "dtypes: float64(14), int64(10), object(13)\n",
      "memory usage: 2.8+ MB\n",
      "None\n"
     ]
    }
   ],
   "source": [
    "# Display dataset info\n",
    "print(df.info())"
   ]
  },
  {
   "cell_type": "code",
   "execution_count": 57,
   "metadata": {},
   "outputs": [
    {
     "name": "stdout",
     "output_type": "stream",
     "text": [
      "Customer_ID                      0\n",
      "Product_ID                       0\n",
      "Transaction_ID                   0\n",
      "Purchase_Frequency               0\n",
      "Average_Order_Value              0\n",
      "Most_Frequent_Category           0\n",
      "Time_Between_Purchases           0\n",
      "Region                           0\n",
      "Churn_Probability                0\n",
      "Lifetime_Value                   0\n",
      "Launch_Date                      0\n",
      "Peak_Sales_Date                  0\n",
      "Season                           0\n",
      "Preferred_Purchase_Times         0\n",
      "Retention_Strategy               0\n",
      "launch_year                      0\n",
      "launch_month                     0\n",
      "customer_tenure                  0\n",
      "recency                          0\n",
      "engagement_score                 0\n",
      "purchase_freq_scaled             0\n",
      "avg_order_value_scaled           0\n",
      "time_between_scaled              0\n",
      "customer_tenure_scaled           0\n",
      "recency_scaled                   0\n",
      "engagement_score_scaled          0\n",
      "purchase_freq_standardized       0\n",
      "avg_order_value_standardized     0\n",
      "time_between_standardized        0\n",
      "customer_tenure_standardized     0\n",
      "recency_standardized             0\n",
      "engagement_score_standardized    0\n",
      "engagement_score_log             0\n",
      "customer_tenure_group            0\n",
      "engagement_category              0\n",
      "recently_active                  0\n",
      "engagement_score_ma3             0\n",
      "dtype: int64\n"
     ]
    }
   ],
   "source": [
    "# Check for missing values\n",
    "print(df.isnull().sum())"
   ]
  },
  {
   "cell_type": "code",
   "execution_count": 58,
   "metadata": {},
   "outputs": [
    {
     "name": "stdout",
     "output_type": "stream",
     "text": [
      "Churn_Probability\n",
      "0.84    1.26\n",
      "0.90    1.22\n",
      "0.41    1.22\n",
      "0.12    1.16\n",
      "0.04    1.14\n",
      "        ... \n",
      "0.92    0.79\n",
      "0.06    0.79\n",
      "0.59    0.78\n",
      "1.00    0.51\n",
      "0.00    0.35\n",
      "Name: proportion, Length: 101, dtype: float64\n"
     ]
    }
   ],
   "source": [
    "# Check target variable distribution\n",
    "print(df[\"Churn_Probability\"].value_counts(normalize=True) * 100)"
   ]
  },
  {
   "cell_type": "code",
   "execution_count": 59,
   "metadata": {},
   "outputs": [],
   "source": [
    "df_copy = df.copy()"
   ]
  },
  {
   "cell_type": "code",
   "execution_count": 60,
   "metadata": {},
   "outputs": [
    {
     "name": "stdout",
     "output_type": "stream",
     "text": [
      "Feature Set Shape: (10000, 27)\n",
      "Target Variable Distribution:\n",
      " Churn_Label\n",
      "0    50.69\n",
      "1    49.31\n",
      "Name: proportion, dtype: float64\n"
     ]
    }
   ],
   "source": [
    "# Defining relevant fetures(X) and target variable(y)\n",
    "\n",
    "# Target variable (Churn label - Binary Classification) - Converts probabilities to 0 or 1\n",
    "df_copy[\"Churn_Label\"] = (df_copy[\"Churn_Probability\"] > 0.5).astype(int)\n",
    "\n",
    "# Drop unnecessary columns (IDs, textual info)\n",
    "drop_cols = [\n",
    "    \"Customer_ID\", \"Product_ID\", \"Transaction_ID\",\n",
    "    \"Launch_Date\", \"Peak_Sales_Date\", \"Most_Frequent_Category\",\n",
    "    \"Season\", \"Preferred_Purchase_Times\", \"Retention_Strategy\"\n",
    "]\n",
    "\n",
    "# Features (X) and Target (y)\n",
    "X = df_copy.drop(columns=drop_cols + [\"Churn_Probability\", \"Churn_Label\"])\n",
    "y = df_copy[\"Churn_Label\"]\n",
    "\n",
    "print(\"Feature Set Shape:\", X.shape)\n",
    "print(\"Target Variable Distribution:\\n\", y.value_counts(normalize=True) * 100)\n"
   ]
  },
  {
   "cell_type": "code",
   "execution_count": 61,
   "metadata": {},
   "outputs": [
    {
     "name": "stdout",
     "output_type": "stream",
     "text": [
      "Training Set Shape: (8000, 27) (8000,)\n",
      "Test Set Shape: (2000, 27) (2000,)\n"
     ]
    }
   ],
   "source": [
    "# Splitting data into training and testing sets\n",
    "from sklearn.model_selection import train_test_split\n",
    "\n",
    "# Splitting data (80% Train, 20% Test)\n",
    "X_train, X_test, y_train, y_test = train_test_split(\n",
    "    X, y, test_size=0.2, random_state=42, stratify=y\n",
    ")\n",
    "\n",
    "print(\"Training Set Shape:\", X_train.shape, y_train.shape)\n",
    "print(\"Test Set Shape:\", X_test.shape, y_test.shape)"
   ]
  },
  {
   "cell_type": "code",
   "execution_count": 62,
   "metadata": {},
   "outputs": [
    {
     "name": "stdout",
     "output_type": "stream",
     "text": [
      "Training Set Churn Distribution:\n",
      " Churn_Label\n",
      "0    50.6875\n",
      "1    49.3125\n",
      "Name: proportion, dtype: float64\n",
      "\n",
      "Test Set Churn Distribution:\n",
      " Churn_Label\n",
      "0    50.7\n",
      "1    49.3\n",
      "Name: proportion, dtype: float64\n"
     ]
    }
   ],
   "source": [
    "# Checking class distribution after splitting\n",
    "print(\"Training Set Churn Distribution:\\n\", y_train.value_counts(normalize=True) * 100)\n",
    "print(\"\\nTest Set Churn Distribution:\\n\", y_test.value_counts(normalize=True) * 100)"
   ]
  },
  {
   "cell_type": "markdown",
   "metadata": {},
   "source": [
    "Observations:\n",
    "- Train and Test sets maintain the same class distribution, so there is no imbalance issue"
   ]
  },
  {
   "cell_type": "code",
   "execution_count": 63,
   "metadata": {},
   "outputs": [
    {
     "name": "stdout",
     "output_type": "stream",
     "text": [
      "Numeric Features for Scaling:\n",
      " ['Purchase_Frequency', 'Average_Order_Value', 'Time_Between_Purchases', 'Lifetime_Value', 'launch_year', 'launch_month', 'customer_tenure', 'recency', 'engagement_score', 'purchase_freq_scaled', 'avg_order_value_scaled', 'time_between_scaled', 'customer_tenure_scaled', 'recency_scaled', 'engagement_score_scaled', 'purchase_freq_standardized', 'avg_order_value_standardized', 'time_between_standardized', 'customer_tenure_standardized', 'recency_standardized', 'engagement_score_standardized', 'engagement_score_log', 'engagement_score_ma3']\n"
     ]
    }
   ],
   "source": [
    "# Selecting only numeric features for scaling\n",
    "numeric_cols = X_train.select_dtypes(include = [\"int64\", \"float64\"]).columns.tolist()\n",
    "print(\"Numeric Features for Scaling:\\n\", numeric_cols)"
   ]
  },
  {
   "cell_type": "code",
   "execution_count": 64,
   "metadata": {},
   "outputs": [
    {
     "name": "stdout",
     "output_type": "stream",
     "text": [
      "Feature Scaling Completed!\n",
      "\n",
      "Mean of Scaled Features (Train):\n",
      " Purchase_Frequency              -5.639933e-17\n",
      "Average_Order_Value             -2.779998e-16\n",
      "Time_Between_Purchases          -4.973799e-17\n",
      "Lifetime_Value                   9.148238e-17\n",
      "launch_year                     -8.935075e-15\n",
      "launch_month                     8.837375e-17\n",
      "customer_tenure                  2.167155e-16\n",
      "recency                          1.483258e-16\n",
      "engagement_score                 2.842171e-17\n",
      "purchase_freq_scaled            -5.084821e-17\n",
      "avg_order_value_scaled           1.127987e-16\n",
      "time_between_scaled              6.039613e-17\n",
      "customer_tenure_scaled           2.553513e-17\n",
      "recency_scaled                  -3.552714e-18\n",
      "engagement_score_scaled         -1.776357e-18\n",
      "purchase_freq_standardized       3.241851e-17\n",
      "avg_order_value_standardized    -2.842171e-17\n",
      "time_between_standardized       -3.375078e-17\n",
      "customer_tenure_standardized     1.110223e-16\n",
      "recency_standardized             2.575717e-17\n",
      "engagement_score_standardized   -1.243450e-17\n",
      "engagement_score_log            -1.598721e-17\n",
      "engagement_score_ma3            -1.560974e-16\n",
      "dtype: float64\n",
      "\n",
      "Standard Deviation of Scaled Features (Train):\n",
      " Purchase_Frequency               1.000063\n",
      "Average_Order_Value              1.000063\n",
      "Time_Between_Purchases           1.000063\n",
      "Lifetime_Value                   1.000063\n",
      "launch_year                      1.000063\n",
      "launch_month                     1.000063\n",
      "customer_tenure                  1.000063\n",
      "recency                          1.000063\n",
      "engagement_score                 1.000063\n",
      "purchase_freq_scaled             1.000063\n",
      "avg_order_value_scaled           1.000063\n",
      "time_between_scaled              1.000063\n",
      "customer_tenure_scaled           1.000063\n",
      "recency_scaled                   1.000063\n",
      "engagement_score_scaled          1.000063\n",
      "purchase_freq_standardized       1.000063\n",
      "avg_order_value_standardized     1.000063\n",
      "time_between_standardized        1.000063\n",
      "customer_tenure_standardized     1.000063\n",
      "recency_standardized             1.000063\n",
      "engagement_score_standardized    1.000063\n",
      "engagement_score_log             1.000063\n",
      "engagement_score_ma3             1.000063\n",
      "dtype: float64\n"
     ]
    }
   ],
   "source": [
    "from sklearn.preprocessing import StandardScaler\n",
    "\n",
    "# Initialize StandardScaler\n",
    "scaler = StandardScaler()\n",
    "\n",
    "# Fit on training data and transform both train & test\n",
    "X_train_scaled = pd.DataFrame(scaler.fit_transform(X_train[numeric_cols]), columns=numeric_cols, index=X_train.index)\n",
    "X_test_scaled = pd.DataFrame(scaler.transform(X_test[numeric_cols]), columns=numeric_cols, index=X_test.index)\n",
    "\n",
    "X_train[numeric_cols] = X_train[numeric_cols].astype(float)\n",
    "X_test[numeric_cols] = X_test[numeric_cols].astype(float)\n",
    "\n",
    "# Replace original numeric columns with scaled versions\n",
    "X_train.update(X_train_scaled)\n",
    "X_test.update(X_test_scaled)\n",
    "\n",
    "# Confirm scaling\n",
    "print(\"Feature Scaling Completed!\")\n",
    "print(\"\\nMean of Scaled Features (Train):\\n\", X_train[numeric_cols].mean())\n",
    "print(\"\\nStandard Deviation of Scaled Features (Train):\\n\", X_train[numeric_cols].std())"
   ]
  },
  {
   "cell_type": "code",
   "execution_count": 65,
   "metadata": {},
   "outputs": [
    {
     "name": "stdout",
     "output_type": "stream",
     "text": [
      "Categorical Features: ['Region', 'customer_tenure_group', 'engagement_category', 'recently_active']\n"
     ]
    }
   ],
   "source": [
    "# Checking if there are any categorical columns left\n",
    "cat_cols = X_train.select_dtypes(include=[\"object\", \"category\"]).columns.tolist()\n",
    "print(\"Categorical Features:\", cat_cols)"
   ]
  },
  {
   "cell_type": "code",
   "execution_count": 66,
   "metadata": {},
   "outputs": [
    {
     "name": "stdout",
     "output_type": "stream",
     "text": [
      "['Medium' 'Loyal' 'New']\n",
      "['Low' 'High' 'Medium']\n"
     ]
    }
   ],
   "source": [
    "print(X_train[\"customer_tenure_group\"].unique())  \n",
    "print(X_train[\"engagement_category\"].unique())"
   ]
  },
  {
   "cell_type": "code",
   "execution_count": 67,
   "metadata": {},
   "outputs": [
    {
     "name": "stdout",
     "output_type": "stream",
     "text": [
      "Before Encoding: ['Inactive']\n",
      "After Encoding: [nan]\n",
      "Categorical Encoding Completed!\n",
      "\n",
      "Updated Feature Set Shape: (8000, 29)\n"
     ]
    }
   ],
   "source": [
    "# Applying encoding\n",
    "from sklearn.preprocessing import OneHotEncoder, LabelEncoder\n",
    "\n",
    "# One-Hot Encoding for 'Region'\n",
    "ohe = OneHotEncoder(drop=\"first\", sparse_output=False)  # drop=\"first\" to avoid dummy variable trap\n",
    "region_encoded = pd.DataFrame(ohe.fit_transform(X_train[[\"Region\"]]), columns=ohe.get_feature_names_out([\"Region\"]), index=X_train.index)\n",
    "\n",
    "# Label Encoding for 'customer_tenure_group'\n",
    "tenure_order = {\"New\": 0, \"Medium\": 1, \"Loyal\": 2}  # Defining order\n",
    "X_train[\"customer_tenure_group\"] = X_train[\"customer_tenure_group\"].map(tenure_order)\n",
    "X_test[\"customer_tenure_group\"] = X_test[\"customer_tenure_group\"].map(tenure_order)\n",
    "\n",
    "# Label Encoding for 'engagement_category'\n",
    "engagement_order = {\"Low\": 0, \"Medium\": 1, \"High\": 2}  \n",
    "X_train[\"engagement_category\"] = X_train[\"engagement_category\"].map(engagement_order)\n",
    "X_test[\"engagement_category\"] = X_test[\"engagement_category\"].map(engagement_order)\n",
    "\n",
    "# Ensure no missing values in 'recently_active' before encoding\n",
    "print(\"Before Encoding:\", X_train[\"recently_active\"].unique())\n",
    "\n",
    "# Apply binary encoding\n",
    "X_train[\"recently_active\"] = X_train[\"recently_active\"].map({\"No\": 0, \"Yes\": 1})\n",
    "X_test[\"recently_active\"] = X_test[\"recently_active\"].map({\"No\": 0, \"Yes\": 1})\n",
    "\n",
    "# Verify after encoding\n",
    "print(\"After Encoding:\", X_train[\"recently_active\"].unique())\n",
    "\n",
    "# Merging encoded region back\n",
    "X_train = pd.concat([X_train.drop(columns=[\"Region\"]), region_encoded], axis=1)\n",
    "X_test = pd.concat([X_test.drop(columns=[\"Region\"]), pd.DataFrame(ohe.transform(X_test[[\"Region\"]]), columns=ohe.get_feature_names_out([\"Region\"]), index=X_test.index)], axis=1)\n",
    "\n",
    "print(\"Categorical Encoding Completed!\")\n",
    "print(\"\\nUpdated Feature Set Shape:\", X_train.shape)"
   ]
  },
  {
   "cell_type": "code",
   "execution_count": 68,
   "metadata": {},
   "outputs": [
    {
     "name": "stdout",
     "output_type": "stream",
     "text": [
      "Missing values in X_train:\n",
      " Purchase_Frequency                  0\n",
      "Average_Order_Value                 0\n",
      "Time_Between_Purchases              0\n",
      "Lifetime_Value                      0\n",
      "launch_year                         0\n",
      "launch_month                        0\n",
      "customer_tenure                     0\n",
      "recency                             0\n",
      "engagement_score                    0\n",
      "purchase_freq_scaled                0\n",
      "avg_order_value_scaled              0\n",
      "time_between_scaled                 0\n",
      "customer_tenure_scaled              0\n",
      "recency_scaled                      0\n",
      "engagement_score_scaled             0\n",
      "purchase_freq_standardized          0\n",
      "avg_order_value_standardized        0\n",
      "time_between_standardized           0\n",
      "customer_tenure_standardized        0\n",
      "recency_standardized                0\n",
      "engagement_score_standardized       0\n",
      "engagement_score_log                0\n",
      "customer_tenure_group               0\n",
      "engagement_category                 0\n",
      "recently_active                  8000\n",
      "engagement_score_ma3                0\n",
      "Region_Europe                       0\n",
      "Region_North America                0\n",
      "Region_South America                0\n",
      "dtype: int64\n",
      "\n",
      "Missing values in X_test:\n",
      " Purchase_Frequency                  0\n",
      "Average_Order_Value                 0\n",
      "Time_Between_Purchases              0\n",
      "Lifetime_Value                      0\n",
      "launch_year                         0\n",
      "launch_month                        0\n",
      "customer_tenure                     0\n",
      "recency                             0\n",
      "engagement_score                    0\n",
      "purchase_freq_scaled                0\n",
      "avg_order_value_scaled              0\n",
      "time_between_scaled                 0\n",
      "customer_tenure_scaled              0\n",
      "recency_scaled                      0\n",
      "engagement_score_scaled             0\n",
      "purchase_freq_standardized          0\n",
      "avg_order_value_standardized        0\n",
      "time_between_standardized           0\n",
      "customer_tenure_standardized        0\n",
      "recency_standardized                0\n",
      "engagement_score_standardized       0\n",
      "engagement_score_log                0\n",
      "customer_tenure_group               0\n",
      "engagement_category                 0\n",
      "recently_active                  2000\n",
      "engagement_score_ma3                0\n",
      "Region_Europe                       0\n",
      "Region_North America                0\n",
      "Region_South America                0\n",
      "dtype: int64\n"
     ]
    }
   ],
   "source": [
    "# Check missing values in training and test set\n",
    "print(\"Missing values in X_train:\\n\", X_train.isnull().sum())\n",
    "print(\"\\nMissing values in X_test:\\n\", X_test.isnull().sum())"
   ]
  },
  {
   "cell_type": "code",
   "execution_count": 69,
   "metadata": {},
   "outputs": [
    {
     "name": "stdout",
     "output_type": "stream",
     "text": [
      "[nan]\n",
      "[nan]\n"
     ]
    }
   ],
   "source": [
    "print(X_train[\"recently_active\"].unique())\n",
    "print(X_test[\"recently_active\"].unique())"
   ]
  },
  {
   "cell_type": "code",
   "execution_count": 70,
   "metadata": {},
   "outputs": [],
   "source": [
    "X_train[\"recently_active\"] = X_train[\"recently_active\"].map({\"Inactive\": 0, \"Active\": 1}).fillna(0)\n",
    "X_test[\"recently_active\"] = X_test[\"recently_active\"].map({\"Inactive\": 0, \"Active\": 1}).fillna(0)"
   ]
  },
  {
   "cell_type": "code",
   "execution_count": 71,
   "metadata": {},
   "outputs": [
    {
     "name": "stdout",
     "output_type": "stream",
     "text": [
      "After Encoding: [0.]\n"
     ]
    }
   ],
   "source": [
    "print(\"After Encoding:\", X_train[\"recently_active\"].unique())"
   ]
  },
  {
   "cell_type": "code",
   "execution_count": 72,
   "metadata": {},
   "outputs": [
    {
     "name": "stdout",
     "output_type": "stream",
     "text": [
      "Logistic Regression Performance:\n",
      "\n",
      "Train Accuracy: 0.5145\n",
      "Test Accuracy: 0.492\n",
      "\n",
      "Classification Report (Test Set):\n",
      "               precision    recall  f1-score   support\n",
      "\n",
      "           0       0.50      0.58      0.54      1014\n",
      "           1       0.48      0.40      0.44       986\n",
      "\n",
      "    accuracy                           0.49      2000\n",
      "   macro avg       0.49      0.49      0.49      2000\n",
      "weighted avg       0.49      0.49      0.49      2000\n",
      "\n"
     ]
    }
   ],
   "source": [
    "from sklearn.linear_model import LogisticRegression\n",
    "from sklearn.metrics import accuracy_score, precision_score, recall_score, f1_score, classification_report\n",
    "\n",
    "# Initialize Logistic Regression\n",
    "log_reg = LogisticRegression(random_state=42, max_iter=500)\n",
    "\n",
    "# Train the model\n",
    "log_reg.fit(X_train, y_train)\n",
    "\n",
    "# Predictions\n",
    "y_train_pred = log_reg.predict(X_train)\n",
    "y_test_pred = log_reg.predict(X_test)\n",
    "\n",
    "# Model Evaluation\n",
    "print(\"Logistic Regression Performance:\\n\")\n",
    "\n",
    "# Accuracy\n",
    "print(\"Train Accuracy:\", accuracy_score(y_train, y_train_pred))\n",
    "print(\"Test Accuracy:\", accuracy_score(y_test, y_test_pred))\n",
    "\n",
    "# Precision, Recall, F1-score\n",
    "print(\"\\nClassification Report (Test Set):\\n\", classification_report(y_test, y_test_pred))"
   ]
  },
  {
   "cell_type": "markdown",
   "metadata": {},
   "source": [
    "Observations:\n",
    "- Model is not perorming well it's accuracy is close to random guessing ≈50%\n",
    "- Next step: Checking for any data imbalance"
   ]
  },
  {
   "cell_type": "code",
   "execution_count": 73,
   "metadata": {},
   "outputs": [
    {
     "name": "stdout",
     "output_type": "stream",
     "text": [
      "Churn_Label\n",
      "0    0.506875\n",
      "1    0.493125\n",
      "Name: proportion, dtype: float64\n",
      "Churn_Label\n",
      "0    0.507\n",
      "1    0.493\n",
      "Name: proportion, dtype: float64\n"
     ]
    }
   ],
   "source": [
    "# Checking reason for moel under performance\n",
    "# Checking class distribution\n",
    "print(y_train.value_counts(normalize=True))\n",
    "print(y_test.value_counts(normalize=True))"
   ]
  },
  {
   "cell_type": "markdown",
   "metadata": {},
   "source": [
    "Observations:\n",
    "- Dataset is almost perfectly balanced. So class imbalance is not the reason for the poor model performance"
   ]
  },
  {
   "cell_type": "code",
   "execution_count": 74,
   "metadata": {},
   "outputs": [
    {
     "name": "stdout",
     "output_type": "stream",
     "text": [
      "Top 10 Important Features:\n",
      "                         Feature  Coefficient\n",
      "27          Region_North America     0.080948\n",
      "14       engagement_score_scaled     0.059735\n",
      "25          engagement_score_ma3     0.047038\n",
      "21          engagement_score_log     0.034293\n",
      "6                customer_tenure     0.030947\n",
      "18  customer_tenure_standardized     0.030947\n",
      "23           engagement_category     0.029718\n",
      "28          Region_South America     0.012326\n",
      "2         Time_Between_Purchases     0.012235\n",
      "17     time_between_standardized     0.012235\n",
      "\n",
      "Least Important Features:\n",
      "                          Feature  Coefficient\n",
      "20  engagement_score_standardized    -0.007133\n",
      "5                    launch_month    -0.007940\n",
      "1             Average_Order_Value    -0.009018\n",
      "16   avg_order_value_standardized    -0.009018\n",
      "10         avg_order_value_scaled    -0.009018\n",
      "3                  Lifetime_Value    -0.028308\n",
      "4                     launch_year    -0.030947\n",
      "22          customer_tenure_group    -0.038189\n",
      "12         customer_tenure_scaled    -0.053525\n",
      "26                  Region_Europe    -0.061916\n"
     ]
    }
   ],
   "source": [
    "# Checking for the other factors that could be affecting model performance\n",
    "feature_importance = pd.DataFrame({\"Feature\": X_train.columns, \"Coefficient\": log_reg.coef_[0]})\n",
    "feature_importance_sorted = feature_importance.sort_values(by=\"Coefficient\", ascending=False)\n",
    "\n",
    "print(\"Top 10 Important Features:\")\n",
    "print(feature_importance_sorted.head(10))\n",
    "print(\"\\nLeast Important Features:\")\n",
    "print(feature_importance_sorted.tail(10))"
   ]
  },
  {
   "cell_type": "markdown",
   "metadata": {},
   "source": [
    "Observations:\n",
    "- Highest coefficient is only 0.080948, no strong predictors of churn exist\n",
    "- Many features are close to zero, suggesting weak correlations with the target variable"
   ]
  },
  {
   "cell_type": "code",
   "execution_count": 75,
   "metadata": {},
   "outputs": [
    {
     "data": {
      "image/png": "[encoded data removed]",
      "text/plain": [
       "<Figure size 1200x800 with 2 Axes>"
      ]
     },
     "metadata": {},
     "output_type": "display_data"
    }
   ],
   "source": [
    "import seaborn as sns\n",
    "import matplotlib.pyplot as plt\n",
    "\n",
    "plt.figure(figsize=(12,8))\n",
    "sns.heatmap(X_train.corr(), annot=False, cmap=\"coolwarm\")\n",
    "plt.title(\"Feature Correlation Heatmap\")\n",
    "plt.show()"
   ]
  },
  {
   "cell_type": "code",
   "execution_count": 76,
   "metadata": {},
   "outputs": [
    {
     "name": "stdout",
     "output_type": "stream",
     "text": [
      "Random Forest Test Accuracy: 0.497\n",
      "\n",
      "Classification Report:\n",
      "               precision    recall  f1-score   support\n",
      "\n",
      "           0       0.50      0.56      0.53      1014\n",
      "           1       0.49      0.43      0.46       986\n",
      "\n",
      "    accuracy                           0.50      2000\n",
      "   macro avg       0.50      0.50      0.49      2000\n",
      "weighted avg       0.50      0.50      0.49      2000\n",
      "\n"
     ]
    }
   ],
   "source": [
    "# Using Random Forest Instead of Logistic Regression - In case churn patterns are nonlinear or a tree-based model \n",
    "from sklearn.ensemble import RandomForestClassifier\n",
    "from sklearn.metrics import classification_report\n",
    "\n",
    "rf_model = RandomForestClassifier(n_estimators=100, random_state=42)\n",
    "rf_model.fit(X_train, y_train)\n",
    "\n",
    "y_pred_rf = rf_model.predict(X_test)\n",
    "\n",
    "print(\"Random Forest Test Accuracy:\", accuracy_score(y_test, y_pred_rf))\n",
    "print(\"\\nClassification Report:\\n\", classification_report(y_test, y_pred_rf))"
   ]
  },
  {
   "cell_type": "markdown",
   "metadata": {},
   "source": [
    "Observations:\n",
    "- Test Accuracy: 0.497 (49.7%) almost random guessing (50%)\n",
    "- F1-score is low, meaning the model isn’t learning useful patterns "
   ]
  },
  {
   "cell_type": "code",
   "execution_count": 77,
   "metadata": {},
   "outputs": [],
   "source": [
    "# Dropping redundant features with high correlation\n",
    "drop_features = [\"launch_year\", \"launch_month\", \"Lifetime_Value\",\n",
    "                 \"customer_tenure_scaled\", \"customer_tenure_standardized\", \n",
    "                 \"engagement_score_standardized\", \"avg_order_value_scaled\", \n",
    "                 \"avg_order_value_standardized\"]\n",
    "\n",
    "X_train_selected = X_train.drop(columns=drop_features)\n",
    "X_test_selected = X_test.drop(columns=drop_features)"
   ]
  },
  {
   "cell_type": "code",
   "execution_count": 78,
   "metadata": {},
   "outputs": [
    {
     "name": "stdout",
     "output_type": "stream",
     "text": [
      "XGBoost Test Accuracy: 0.506\n",
      "\n",
      "Classification Report:\n",
      "               precision    recall  f1-score   support\n",
      "\n",
      "           0       0.51      0.54      0.52      1014\n",
      "           1       0.50      0.47      0.49       986\n",
      "\n",
      "    accuracy                           0.51      2000\n",
      "   macro avg       0.51      0.51      0.51      2000\n",
      "weighted avg       0.51      0.51      0.51      2000\n",
      "\n"
     ]
    }
   ],
   "source": [
    "from xgboost import XGBClassifier\n",
    "\n",
    "xgb_model = XGBClassifier(n_estimators=100, learning_rate=0.1, random_state=42)\n",
    "xgb_model.fit(X_train_selected, y_train)\n",
    "\n",
    "y_pred_xgb = xgb_model.predict(X_test_selected)\n",
    "\n",
    "print(\"XGBoost Test Accuracy:\", accuracy_score(y_test, y_pred_xgb))\n",
    "print(\"\\nClassification Report:\\n\", classification_report(y_test, y_pred_xgb))"
   ]
  },
  {
   "cell_type": "markdown",
   "metadata": {},
   "source": [
    "Observations:\n",
    "- The test accuracy is 50.6% which is still low - model might not be learning well"
   ]
  },
  {
   "cell_type": "code",
   "execution_count": 79,
   "metadata": {},
   "outputs": [
    {
     "data": {
      "image/png": "[encoded data removed]",
      "text/plain": [
       "<Figure size 1000x500 with 1 Axes>"
      ]
     },
     "metadata": {},
     "output_type": "display_data"
    }
   ],
   "source": [
    "# Plotting to check the feature importance\n",
    "import matplotlib.pyplot as plt\n",
    "import pandas as pd\n",
    "\n",
    "# Get feature importance\n",
    "feature_importance = pd.DataFrame({\"Feature\": X_train_selected.columns, \"Importance\": xgb_model.feature_importances_})\n",
    "feature_importance = feature_importance.sort_values(by=\"Importance\", ascending=False)\n",
    "\n",
    "# Plot feature importance\n",
    "plt.figure(figsize=(10, 5))\n",
    "plt.barh(feature_importance[\"Feature\"], feature_importance[\"Importance\"])\n",
    "plt.xlabel(\"Feature Importance\")\n",
    "plt.ylabel(\"Features\")\n",
    "plt.title(\"XGBoost Feature Importance\")\n",
    "plt.show()"
   ]
  },
  {
   "cell_type": "code",
   "execution_count": 80,
   "metadata": {},
   "outputs": [
    {
     "name": "stdout",
     "output_type": "stream",
     "text": [
      "XGBoost Test Accuracy: 0.516\n",
      "\n",
      "Classification Report:\n",
      "               precision    recall  f1-score   support\n",
      "\n",
      "           0       0.52      0.54      0.53      1014\n",
      "           1       0.51      0.49      0.50       986\n",
      "\n",
      "    accuracy                           0.52      2000\n",
      "   macro avg       0.52      0.52      0.52      2000\n",
      "weighted avg       0.52      0.52      0.52      2000\n",
      "\n"
     ]
    }
   ],
   "source": [
    "xgb_model = XGBClassifier(\n",
    "    n_estimators=300,       # More trees\n",
    "    learning_rate=0.05,     # Lower learning rate\n",
    "    max_depth=5,            # Limit tree depth\n",
    "    subsample=0.8,          # Use 80% of data per tree\n",
    "    colsample_bytree=0.8,   # Use 80% of features per tree\n",
    "    random_state=42\n",
    ")\n",
    "\n",
    "xgb_model.fit(X_train_selected, y_train)\n",
    "y_pred_xgb = xgb_model.predict(X_test_selected)\n",
    "\n",
    "print(\"XGBoost Test Accuracy:\", accuracy_score(y_test, y_pred_xgb))\n",
    "print(\"\\nClassification Report:\\n\", classification_report(y_test, y_pred_xgb))"
   ]
  },
  {
   "cell_type": "code",
   "execution_count": 81,
   "metadata": {},
   "outputs": [
    {
     "name": "stdout",
     "output_type": "stream",
     "text": [
      "XGBoost Test Accuracy: 0.5175\n",
      "\n",
      "Classification Report:\n",
      "               precision    recall  f1-score   support\n",
      "\n",
      "           0       0.53      0.45      0.49      1014\n",
      "           1       0.51      0.58      0.54       986\n",
      "\n",
      "    accuracy                           0.52      2000\n",
      "   macro avg       0.52      0.52      0.52      2000\n",
      "weighted avg       0.52      0.52      0.52      2000\n",
      "\n"
     ]
    }
   ],
   "source": [
    "xgb_model = XGBClassifier(\n",
    "    n_estimators=300,  \n",
    "    learning_rate=0.05,  \n",
    "    max_depth=5,  \n",
    "    subsample=0.8,  \n",
    "    colsample_bytree=0.8,  \n",
    "    scale_pos_weight=1.1,  # Slight weight adjustment\n",
    "    random_state=42\n",
    ")\n",
    "\n",
    "xgb_model.fit(X_train_selected, y_train)\n",
    "y_pred_xgb = xgb_model.predict(X_test_selected)\n",
    "\n",
    "print(\"XGBoost Test Accuracy:\", accuracy_score(y_test, y_pred_xgb))\n",
    "print(\"\\nClassification Report:\\n\", classification_report(y_test, y_pred_xgb))"
   ]
  },
  {
   "cell_type": "code",
   "execution_count": 82,
   "metadata": {},
   "outputs": [
    {
     "data": {
      "image/png": "[encoded data removed]",
      "text/plain": [
       "<Figure size 1000x500 with 1 Axes>"
      ]
     },
     "metadata": {},
     "output_type": "display_data"
    }
   ],
   "source": [
    "import matplotlib.pyplot as plt\n",
    "import numpy as np\n",
    "\n",
    "# Get feature importance\n",
    "feature_importance = xgb_model.feature_importances_\n",
    "sorted_idx = np.argsort(feature_importance)[::-1]\n",
    "\n",
    "plt.figure(figsize=(10, 5))\n",
    "plt.bar(range(len(feature_importance)), feature_importance[sorted_idx])\n",
    "plt.xticks(range(len(feature_importance)), np.array(X_train_selected.columns)[sorted_idx], rotation=90)\n",
    "plt.title(\"Feature Importance in XGBoost Model\")\n",
    "plt.show()"
   ]
  },
  {
   "cell_type": "code",
   "execution_count": 83,
   "metadata": {},
   "outputs": [
    {
     "name": "stdout",
     "output_type": "stream",
     "text": [
      "Best parameters: {'colsample_bytree': 0.7, 'gamma': 0.5, 'learning_rate': 0.01, 'max_depth': 3, 'n_estimators': 100, 'scale_pos_weight': 1, 'subsample': 0.7}\n"
     ]
    }
   ],
   "source": [
    "from sklearn.model_selection import GridSearchCV\n",
    "\n",
    "param_grid = {\n",
    "    'max_depth': [3, 5, 7],\n",
    "    'learning_rate': [0.01, 0.05, 0.1],\n",
    "    'n_estimators': [100, 300, 500],\n",
    "    'subsample': [0.7, 0.8, 0.9],\n",
    "    'colsample_bytree': [0.7, 0.8, 1.0],\n",
    "    'scale_pos_weight': [1, 1.5, 2],\n",
    "    'gamma': [0, 0.1, 0.5]\n",
    "}\n",
    "\n",
    "xgb_grid = GridSearchCV(XGBClassifier(random_state=42), param_grid, scoring='accuracy', cv=3, n_jobs=-1)\n",
    "xgb_grid.fit(X_train_selected, y_train)\n",
    "\n",
    "print(\"Best parameters:\", xgb_grid.best_params_)"
   ]
  },
  {
   "cell_type": "code",
   "execution_count": null,
   "metadata": {},
   "outputs": [
    {
     "name": "stdout",
     "output_type": "stream",
     "text": [
      "Final XGBoost Test Accuracy: 0.497\n",
      "\n",
      "Classification Report:\n",
      "               precision    recall  f1-score   support\n",
      "\n",
      "           0       0.50      0.62      0.55      1014\n",
      "           1       0.49      0.38      0.42       986\n",
      "\n",
      "    accuracy                           0.50      2000\n",
      "   macro avg       0.50      0.50      0.49      2000\n",
      "weighted avg       0.50      0.50      0.49      2000\n",
      "\n"
     ]
    }
   ],
   "source": [
    "xgb_final = XGBClassifier(\n",
    "    colsample_bytree=0.7,\n",
    "    gamma=0.5,\n",
    "    learning_rate=0.01,\n",
    "    max_depth=3,\n",
    "    n_estimators=100,\n",
    "    scale_pos_weight=1,\n",
    "    subsample=0.7,\n",
    "    random_state=42\n",
    ")\n",
    "\n",
    "xgb_final.fit(X_train_selected, y_train)\n",
    "y_pred_final = xgb_final.predict(X_test_selected)\n",
    "\n",
    "# Performance Metrics\n",
    "print(\"Final XGBoost Test Accuracy:\", accuracy_score(y_test, y_pred_final))\n",
    "print(\"\\nClassification Report:\\n\", classification_report(y_test, y_pred_final))"
   ]
  },
  {
   "cell_type": "code",
   "execution_count": 91,
   "metadata": {},
   "outputs": [
    {
     "name": "stdout",
     "output_type": "stream",
     "text": [
      "Final XGBoost Test Accuracy: 0.501\n",
      "\n",
      "Classification Report:\n",
      "               precision    recall  f1-score   support\n",
      "\n",
      "           0       0.51      0.53      0.52      1014\n",
      "           1       0.49      0.47      0.48       986\n",
      "\n",
      "    accuracy                           0.50      2000\n",
      "   macro avg       0.50      0.50      0.50      2000\n",
      "weighted avg       0.50      0.50      0.50      2000\n",
      "\n"
     ]
    }
   ],
   "source": [
    "xgb_final = XGBClassifier(\n",
    "    colsample_bytree=0.7,\n",
    "    gamma=0.5,\n",
    "    learning_rate=0.01,\n",
    "    max_depth=3,\n",
    "    n_estimators=300,\n",
    "    scale_pos_weight=1,\n",
    "    subsample=0.7,\n",
    "    random_state=42\n",
    ")\n",
    "\n",
    "xgb_final.fit(X_train_selected, y_train)\n",
    "y_pred_final = xgb_final.predict(X_test_selected)\n",
    "\n",
    "# Predictions\n",
    "y_pred_final = xgb_final.predict(X_test_selected)\n",
    "\n",
    "# Performance Metrics\n",
    "print(\"Final XGBoost Test Accuracy:\", accuracy_score(y_test, y_pred_final))\n",
    "print(\"\\nClassification Report:\\n\", classification_report(y_test, y_pred_final))"
   ]
  },
  {
   "cell_type": "code",
   "execution_count": 92,
   "metadata": {},
   "outputs": [
    {
     "name": "stdout",
     "output_type": "stream",
     "text": [
      "{np.int64(0): np.int64(4055), np.int64(1): np.int64(3945)}\n"
     ]
    }
   ],
   "source": [
    "import numpy as np\n",
    "\n",
    "unique, counts = np.unique(y_train, return_counts=True)\n",
    "print(dict(zip(unique, counts)))"
   ]
  },
  {
   "cell_type": "code",
   "execution_count": 93,
   "metadata": {},
   "outputs": [],
   "source": [
    "scale_pos_weight = counts[0] / counts[1]  # Only if 0 > 1 or vice versa"
   ]
  },
  {
   "cell_type": "code",
   "execution_count": 94,
   "metadata": {},
   "outputs": [
    {
     "name": "stdout",
     "output_type": "stream",
     "text": [
      "Final XGBoost Test Accuracy: 0.5225\n",
      "\n",
      "Classification Report:\n",
      "               precision    recall  f1-score   support\n",
      "\n",
      "           0       0.53      0.56      0.54      1014\n",
      "           1       0.52      0.49      0.50       986\n",
      "\n",
      "    accuracy                           0.52      2000\n",
      "   macro avg       0.52      0.52      0.52      2000\n",
      "weighted avg       0.52      0.52      0.52      2000\n",
      "\n"
     ]
    }
   ],
   "source": [
    "xgb_final = XGBClassifier(\n",
    "    colsample_bytree=0.8,  # Increase diversity of trees\n",
    "    gamma=0.3,  # Reduce overfitting slightly\n",
    "    learning_rate=0.05,  # Increase learning speed\n",
    "    max_depth=5,  # Allow deeper splits\n",
    "    n_estimators=500,  # Train longer for better learning\n",
    "    scale_pos_weight=1,  # Adjust if class imbalance exists\n",
    "    subsample=0.8,  # Use more data per tree\n",
    "    random_state=42\n",
    ")\n",
    "\n",
    "xgb_final.fit(X_train_selected, y_train)\n",
    "y_pred_final = xgb_final.predict(X_test_selected)\n",
    "\n",
    "# Performance Metrics\n",
    "print(\"Final XGBoost Test Accuracy:\", accuracy_score(y_test, y_pred_final))\n",
    "print(\"\\nClassification Report:\\n\", classification_report(y_test, y_pred_final))"
   ]
  },
  {
   "cell_type": "code",
   "execution_count": 95,
   "metadata": {},
   "outputs": [
    {
     "data": {
      "image/png": "[encoded data removed]",
      "text/plain": [
       "<Figure size 640x480 with 1 Axes>"
      ]
     },
     "metadata": {},
     "output_type": "display_data"
    }
   ],
   "source": [
    "import matplotlib.pyplot as plt\n",
    "import xgboost as xgb\n",
    "\n",
    "xgb.plot_importance(xgb_final, max_num_features=10)\n",
    "plt.show()"
   ]
  },
  {
   "cell_type": "markdown",
   "metadata": {},
   "source": [
    "Observations:\n",
    "- Most important features that strongly influence predictions are - 'engagement_score_ma3', 'Average_Order_Value', 'recency'\n",
    "- Low impact features are - 'engagement_score_log', 'time_between_scaled', 'customer_tenure'"
   ]
  },
  {
   "cell_type": "code",
   "execution_count": 96,
   "metadata": {},
   "outputs": [
    {
     "name": "stdout",
     "output_type": "stream",
     "text": [
      "Final XGBoost Test Accuracy: 0.512\n",
      "\n",
      "Classification Report:\n",
      "               precision    recall  f1-score   support\n",
      "\n",
      "           0       0.52      0.53      0.52      1014\n",
      "           1       0.51      0.50      0.50       986\n",
      "\n",
      "    accuracy                           0.51      2000\n",
      "   macro avg       0.51      0.51      0.51      2000\n",
      "weighted avg       0.51      0.51      0.51      2000\n",
      "\n"
     ]
    }
   ],
   "source": [
    "# Dropping the low impact features\n",
    "drop_features = ['engagement_score_log', 'time_between_scaled', 'customer_tenure']\n",
    "X_train_selected_new = X_train_selected.drop(columns=drop_features)\n",
    "X_test_selected_new = X_test_selected.drop(columns=drop_features)\n",
    "\n",
    "xgb_final = XGBClassifier(\n",
    "    colsample_bytree=0.8,  \n",
    "    gamma=0.3,  \n",
    "    learning_rate=0.05,  \n",
    "    max_depth=5,  \n",
    "    n_estimators=500,  \n",
    "    scale_pos_weight=counts[0] / counts[1],  # Use correct weight\n",
    "    subsample=0.8,  \n",
    "    random_state=42\n",
    ")\n",
    "\n",
    "xgb_final.fit(X_train_selected_new, y_train)\n",
    "y_pred_final = xgb_final.predict(X_test_selected_new)\n",
    "\n",
    "# Performance Metrics\n",
    "print(\"Final XGBoost Test Accuracy:\", accuracy_score(y_test, y_pred_final))\n",
    "print(\"\\nClassification Report:\\n\", classification_report(y_test, y_pred_final))"
   ]
  },
  {
   "cell_type": "code",
   "execution_count": 97,
   "metadata": {},
   "outputs": [
    {
     "data": {
      "text/html": [
       "<div>\n",
       "<style scoped>\n",
       "    .dataframe tbody tr th:only-of-type {\n",
       "        vertical-align: middle;\n",
       "    }\n",
       "\n",
       "    .dataframe tbody tr th {\n",
       "        vertical-align: top;\n",
       "    }\n",
       "\n",
       "    .dataframe thead th {\n",
       "        text-align: right;\n",
       "    }\n",
       "</style>\n",
       "<table border=\"1\" class=\"dataframe\">\n",
       "  <thead>\n",
       "    <tr style=\"text-align: right;\">\n",
       "      <th></th>\n",
       "      <th>Purchase_Frequency</th>\n",
       "      <th>Average_Order_Value</th>\n",
       "      <th>Time_Between_Purchases</th>\n",
       "      <th>customer_tenure</th>\n",
       "      <th>recency</th>\n",
       "      <th>engagement_score</th>\n",
       "      <th>purchase_freq_scaled</th>\n",
       "      <th>time_between_scaled</th>\n",
       "      <th>recency_scaled</th>\n",
       "      <th>engagement_score_scaled</th>\n",
       "      <th>...</th>\n",
       "      <th>time_between_standardized</th>\n",
       "      <th>recency_standardized</th>\n",
       "      <th>engagement_score_log</th>\n",
       "      <th>customer_tenure_group</th>\n",
       "      <th>engagement_category</th>\n",
       "      <th>recently_active</th>\n",
       "      <th>engagement_score_ma3</th>\n",
       "      <th>Region_Europe</th>\n",
       "      <th>Region_North America</th>\n",
       "      <th>Region_South America</th>\n",
       "    </tr>\n",
       "  </thead>\n",
       "  <tbody>\n",
       "    <tr>\n",
       "      <th>count</th>\n",
       "      <td>8.000000e+03</td>\n",
       "      <td>8.000000e+03</td>\n",
       "      <td>8.000000e+03</td>\n",
       "      <td>8.000000e+03</td>\n",
       "      <td>8.000000e+03</td>\n",
       "      <td>8.000000e+03</td>\n",
       "      <td>8.000000e+03</td>\n",
       "      <td>8.000000e+03</td>\n",
       "      <td>8.000000e+03</td>\n",
       "      <td>8.000000e+03</td>\n",
       "      <td>...</td>\n",
       "      <td>8.000000e+03</td>\n",
       "      <td>8.000000e+03</td>\n",
       "      <td>8.000000e+03</td>\n",
       "      <td>8000.00000</td>\n",
       "      <td>8000.000000</td>\n",
       "      <td>8000.0</td>\n",
       "      <td>8.000000e+03</td>\n",
       "      <td>8000.000000</td>\n",
       "      <td>8000.00000</td>\n",
       "      <td>8000.00000</td>\n",
       "    </tr>\n",
       "    <tr>\n",
       "      <th>mean</th>\n",
       "      <td>-5.639933e-17</td>\n",
       "      <td>-2.779998e-16</td>\n",
       "      <td>-4.973799e-17</td>\n",
       "      <td>2.167155e-16</td>\n",
       "      <td>1.483258e-16</td>\n",
       "      <td>2.842171e-17</td>\n",
       "      <td>-5.084821e-17</td>\n",
       "      <td>6.039613e-17</td>\n",
       "      <td>-3.552714e-18</td>\n",
       "      <td>-1.776357e-18</td>\n",
       "      <td>...</td>\n",
       "      <td>-3.375078e-17</td>\n",
       "      <td>2.575717e-17</td>\n",
       "      <td>-1.598721e-17</td>\n",
       "      <td>1.33000</td>\n",
       "      <td>0.986625</td>\n",
       "      <td>0.0</td>\n",
       "      <td>-1.560974e-16</td>\n",
       "      <td>0.255000</td>\n",
       "      <td>0.24550</td>\n",
       "      <td>0.25325</td>\n",
       "    </tr>\n",
       "    <tr>\n",
       "      <th>std</th>\n",
       "      <td>1.000063e+00</td>\n",
       "      <td>1.000063e+00</td>\n",
       "      <td>1.000063e+00</td>\n",
       "      <td>1.000063e+00</td>\n",
       "      <td>1.000063e+00</td>\n",
       "      <td>1.000063e+00</td>\n",
       "      <td>1.000063e+00</td>\n",
       "      <td>1.000063e+00</td>\n",
       "      <td>1.000063e+00</td>\n",
       "      <td>1.000063e+00</td>\n",
       "      <td>...</td>\n",
       "      <td>1.000063e+00</td>\n",
       "      <td>1.000063e+00</td>\n",
       "      <td>1.000063e+00</td>\n",
       "      <td>0.47157</td>\n",
       "      <td>0.822971</td>\n",
       "      <td>0.0</td>\n",
       "      <td>1.000063e+00</td>\n",
       "      <td>0.435888</td>\n",
       "      <td>0.43041</td>\n",
       "      <td>0.43490</td>\n",
       "    </tr>\n",
       "    <tr>\n",
       "      <th>min</th>\n",
       "      <td>-1.617811e+00</td>\n",
       "      <td>-1.721628e+00</td>\n",
       "      <td>-1.690650e+00</td>\n",
       "      <td>-2.443405e+00</td>\n",
       "      <td>-1.723217e+00</td>\n",
       "      <td>-6.633324e-01</td>\n",
       "      <td>-1.617811e+00</td>\n",
       "      <td>-1.690650e+00</td>\n",
       "      <td>-5.598925e-02</td>\n",
       "      <td>-1.118104e-02</td>\n",
       "      <td>...</td>\n",
       "      <td>-1.690650e+00</td>\n",
       "      <td>-1.723217e+00</td>\n",
       "      <td>-2.719719e+00</td>\n",
       "      <td>0.00000</td>\n",
       "      <td>0.000000</td>\n",
       "      <td>0.0</td>\n",
       "      <td>-3.262189e+00</td>\n",
       "      <td>0.000000</td>\n",
       "      <td>0.00000</td>\n",
       "      <td>0.00000</td>\n",
       "    </tr>\n",
       "    <tr>\n",
       "      <th>25%</th>\n",
       "      <td>-8.942721e-01</td>\n",
       "      <td>-8.622285e-01</td>\n",
       "      <td>-8.824903e-01</td>\n",
       "      <td>-1.218947e+00</td>\n",
       "      <td>-8.647693e-01</td>\n",
       "      <td>-5.110304e-01</td>\n",
       "      <td>-8.942721e-01</td>\n",
       "      <td>-8.824903e-01</td>\n",
       "      <td>-5.598925e-02</td>\n",
       "      <td>-1.118104e-02</td>\n",
       "      <td>...</td>\n",
       "      <td>-8.824903e-01</td>\n",
       "      <td>-8.647693e-01</td>\n",
       "      <td>-6.716350e-01</td>\n",
       "      <td>1.00000</td>\n",
       "      <td>0.000000</td>\n",
       "      <td>0.0</td>\n",
       "      <td>-6.781846e-01</td>\n",
       "      <td>0.000000</td>\n",
       "      <td>0.00000</td>\n",
       "      <td>0.00000</td>\n",
       "    </tr>\n",
       "    <tr>\n",
       "      <th>50%</th>\n",
       "      <td>1.015216e-02</td>\n",
       "      <td>-6.657776e-03</td>\n",
       "      <td>6.485482e-03</td>\n",
       "      <td>5.510058e-03</td>\n",
       "      <td>-6.321618e-03</td>\n",
       "      <td>-3.079610e-01</td>\n",
       "      <td>1.015216e-02</td>\n",
       "      <td>6.485482e-03</td>\n",
       "      <td>-5.598925e-02</td>\n",
       "      <td>-1.118104e-02</td>\n",
       "      <td>...</td>\n",
       "      <td>6.485482e-03</td>\n",
       "      <td>-6.321618e-03</td>\n",
       "      <td>2.967537e-02</td>\n",
       "      <td>1.00000</td>\n",
       "      <td>1.000000</td>\n",
       "      <td>0.0</td>\n",
       "      <td>4.174579e-03</td>\n",
       "      <td>0.000000</td>\n",
       "      <td>0.00000</td>\n",
       "      <td>0.00000</td>\n",
       "    </tr>\n",
       "    <tr>\n",
       "      <th>75%</th>\n",
       "      <td>9.145764e-01</td>\n",
       "      <td>8.796896e-01</td>\n",
       "      <td>8.550533e-01</td>\n",
       "      <td>1.229967e+00</td>\n",
       "      <td>8.804265e-01</td>\n",
       "      <td>8.125524e-02</td>\n",
       "      <td>9.145764e-01</td>\n",
       "      <td>8.550533e-01</td>\n",
       "      <td>-5.598925e-02</td>\n",
       "      <td>-1.118104e-02</td>\n",
       "      <td>...</td>\n",
       "      <td>8.550533e-01</td>\n",
       "      <td>8.804265e-01</td>\n",
       "      <td>6.661990e-01</td>\n",
       "      <td>2.00000</td>\n",
       "      <td>2.000000</td>\n",
       "      <td>0.0</td>\n",
       "      <td>6.782518e-01</td>\n",
       "      <td>1.000000</td>\n",
       "      <td>0.00000</td>\n",
       "      <td>1.00000</td>\n",
       "    </tr>\n",
       "    <tr>\n",
       "      <th>max</th>\n",
       "      <td>1.638116e+00</td>\n",
       "      <td>1.723629e+00</td>\n",
       "      <td>1.703621e+00</td>\n",
       "      <td>1.229967e+00</td>\n",
       "      <td>1.710574e+00</td>\n",
       "      <td>1.099623e+01</td>\n",
       "      <td>1.638116e+00</td>\n",
       "      <td>1.703621e+00</td>\n",
       "      <td>1.786057e+01</td>\n",
       "      <td>8.943713e+01</td>\n",
       "      <td>...</td>\n",
       "      <td>1.703621e+00</td>\n",
       "      <td>1.710574e+00</td>\n",
       "      <td>3.094482e+00</td>\n",
       "      <td>2.00000</td>\n",
       "      <td>2.000000</td>\n",
       "      <td>0.0</td>\n",
       "      <td>3.486651e+00</td>\n",
       "      <td>1.000000</td>\n",
       "      <td>1.00000</td>\n",
       "      <td>1.00000</td>\n",
       "    </tr>\n",
       "  </tbody>\n",
       "</table>\n",
       "<p>8 rows × 21 columns</p>\n",
       "</div>"
      ],
      "text/plain": [
       "       Purchase_Frequency  Average_Order_Value  Time_Between_Purchases  \\\n",
       "count        8.000000e+03         8.000000e+03            8.000000e+03   \n",
       "mean        -5.639933e-17        -2.779998e-16           -4.973799e-17   \n",
       "std          1.000063e+00         1.000063e+00            1.000063e+00   \n",
       "min         -1.617811e+00        -1.721628e+00           -1.690650e+00   \n",
       "25%         -8.942721e-01        -8.622285e-01           -8.824903e-01   \n",
       "50%          1.015216e-02        -6.657776e-03            6.485482e-03   \n",
       "75%          9.145764e-01         8.796896e-01            8.550533e-01   \n",
       "max          1.638116e+00         1.723629e+00            1.703621e+00   \n",
       "\n",
       "       customer_tenure       recency  engagement_score  purchase_freq_scaled  \\\n",
       "count     8.000000e+03  8.000000e+03      8.000000e+03          8.000000e+03   \n",
       "mean      2.167155e-16  1.483258e-16      2.842171e-17         -5.084821e-17   \n",
       "std       1.000063e+00  1.000063e+00      1.000063e+00          1.000063e+00   \n",
       "min      -2.443405e+00 -1.723217e+00     -6.633324e-01         -1.617811e+00   \n",
       "25%      -1.218947e+00 -8.647693e-01     -5.110304e-01         -8.942721e-01   \n",
       "50%       5.510058e-03 -6.321618e-03     -3.079610e-01          1.015216e-02   \n",
       "75%       1.229967e+00  8.804265e-01      8.125524e-02          9.145764e-01   \n",
       "max       1.229967e+00  1.710574e+00      1.099623e+01          1.638116e+00   \n",
       "\n",
       "       time_between_scaled  recency_scaled  engagement_score_scaled  ...  \\\n",
       "count         8.000000e+03    8.000000e+03             8.000000e+03  ...   \n",
       "mean          6.039613e-17   -3.552714e-18            -1.776357e-18  ...   \n",
       "std           1.000063e+00    1.000063e+00             1.000063e+00  ...   \n",
       "min          -1.690650e+00   -5.598925e-02            -1.118104e-02  ...   \n",
       "25%          -8.824903e-01   -5.598925e-02            -1.118104e-02  ...   \n",
       "50%           6.485482e-03   -5.598925e-02            -1.118104e-02  ...   \n",
       "75%           8.550533e-01   -5.598925e-02            -1.118104e-02  ...   \n",
       "max           1.703621e+00    1.786057e+01             8.943713e+01  ...   \n",
       "\n",
       "       time_between_standardized  recency_standardized  engagement_score_log  \\\n",
       "count               8.000000e+03          8.000000e+03          8.000000e+03   \n",
       "mean               -3.375078e-17          2.575717e-17         -1.598721e-17   \n",
       "std                 1.000063e+00          1.000063e+00          1.000063e+00   \n",
       "min                -1.690650e+00         -1.723217e+00         -2.719719e+00   \n",
       "25%                -8.824903e-01         -8.647693e-01         -6.716350e-01   \n",
       "50%                 6.485482e-03         -6.321618e-03          2.967537e-02   \n",
       "75%                 8.550533e-01          8.804265e-01          6.661990e-01   \n",
       "max                 1.703621e+00          1.710574e+00          3.094482e+00   \n",
       "\n",
       "       customer_tenure_group  engagement_category  recently_active  \\\n",
       "count             8000.00000          8000.000000           8000.0   \n",
       "mean                 1.33000             0.986625              0.0   \n",
       "std                  0.47157             0.822971              0.0   \n",
       "min                  0.00000             0.000000              0.0   \n",
       "25%                  1.00000             0.000000              0.0   \n",
       "50%                  1.00000             1.000000              0.0   \n",
       "75%                  2.00000             2.000000              0.0   \n",
       "max                  2.00000             2.000000              0.0   \n",
       "\n",
       "       engagement_score_ma3  Region_Europe  Region_North America  \\\n",
       "count          8.000000e+03    8000.000000            8000.00000   \n",
       "mean          -1.560974e-16       0.255000               0.24550   \n",
       "std            1.000063e+00       0.435888               0.43041   \n",
       "min           -3.262189e+00       0.000000               0.00000   \n",
       "25%           -6.781846e-01       0.000000               0.00000   \n",
       "50%            4.174579e-03       0.000000               0.00000   \n",
       "75%            6.782518e-01       1.000000               0.00000   \n",
       "max            3.486651e+00       1.000000               1.00000   \n",
       "\n",
       "       Region_South America  \n",
       "count            8000.00000  \n",
       "mean                0.25325  \n",
       "std                 0.43490  \n",
       "min                 0.00000  \n",
       "25%                 0.00000  \n",
       "50%                 0.00000  \n",
       "75%                 1.00000  \n",
       "max                 1.00000  \n",
       "\n",
       "[8 rows x 21 columns]"
      ]
     },
     "execution_count": 97,
     "metadata": {},
     "output_type": "execute_result"
    }
   ],
   "source": [
    "X_train_selected.describe()"
   ]
  },
  {
   "cell_type": "code",
   "execution_count": 98,
   "metadata": {},
   "outputs": [
    {
     "name": "stdout",
     "output_type": "stream",
     "text": [
      "Final XGBoost Test Accuracy: 0.511\n",
      "\n",
      "Classification Report:\n",
      "               precision    recall  f1-score   support\n",
      "\n",
      "           0       0.52      0.52      0.52      1014\n",
      "           1       0.50      0.50      0.50       986\n",
      "\n",
      "    accuracy                           0.51      2000\n",
      "   macro avg       0.51      0.51      0.51      2000\n",
      "weighted avg       0.51      0.51      0.51      2000\n",
      "\n"
     ]
    }
   ],
   "source": [
    "xgb_final = XGBClassifier(\n",
    "    colsample_bytree=0.9,  \n",
    "    gamma=0.2,  \n",
    "    learning_rate=0.05,  \n",
    "    max_depth=6,  # Allow deeper splits\n",
    "    n_estimators=700,  # Train longer\n",
    "    scale_pos_weight=counts[0] / counts[1],  \n",
    "    subsample=0.9,  \n",
    "    random_state=42\n",
    ")\n",
    "\n",
    "xgb_final.fit(X_train_selected, y_train)\n",
    "y_pred_final = xgb_final.predict(X_test_selected)\n",
    "\n",
    "# Performance Metrics\n",
    "print(\"Final XGBoost Test Accuracy:\", accuracy_score(y_test, y_pred_final))\n",
    "print(\"\\nClassification Report:\\n\", classification_report(y_test, y_pred_final))"
   ]
  },
  {
   "cell_type": "code",
   "execution_count": 99,
   "metadata": {},
   "outputs": [
    {
     "name": "stdout",
     "output_type": "stream",
     "text": [
      "Features in X_train_selected_new: Index(['Purchase_Frequency', 'Average_Order_Value', 'Time_Between_Purchases',\n",
      "       'recency', 'engagement_score', 'purchase_freq_scaled', 'recency_scaled',\n",
      "       'engagement_score_scaled', 'purchase_freq_standardized',\n",
      "       'time_between_standardized', 'recency_standardized',\n",
      "       'customer_tenure_group', 'engagement_category', 'recently_active',\n",
      "       'engagement_score_ma3', 'Region_Europe', 'Region_North America',\n",
      "       'Region_South America'],\n",
      "      dtype='object')\n"
     ]
    }
   ],
   "source": [
    "print(\"Features in X_train_selected_new:\", X_train_selected_new.columns)"
   ]
  },
  {
   "cell_type": "code",
   "execution_count": 101,
   "metadata": {},
   "outputs": [
    {
     "name": "stdout",
     "output_type": "stream",
     "text": [
      "Class distribution in y_train: {np.int64(0): np.int64(4055), np.int64(1): np.int64(3945)}\n"
     ]
    }
   ],
   "source": [
    "import numpy as np\n",
    "\n",
    "unique, counts = np.unique(y_train, return_counts=True)\n",
    "print(\"Class distribution in y_train:\", dict(zip(unique, counts)))"
   ]
  },
  {
   "cell_type": "code",
   "execution_count": 102,
   "metadata": {},
   "outputs": [],
   "source": [
    "from imblearn.over_sampling import SMOTE\n",
    "\n",
    "smote = SMOTE(random_state=42)\n",
    "X_train_balanced, y_train_balanced = smote.fit_resample(X_train_selected_new, y_train)"
   ]
  },
  {
   "cell_type": "code",
   "execution_count": 103,
   "metadata": {},
   "outputs": [
    {
     "name": "stdout",
     "output_type": "stream",
     "text": [
      "Final XGBoost Test Accuracy: 0.5165\n",
      "\n",
      "Classification Report:\n",
      "               precision    recall  f1-score   support\n",
      "\n",
      "           0       0.55      0.28      0.37      1014\n",
      "           1       0.51      0.76      0.61       986\n",
      "\n",
      "    accuracy                           0.52      2000\n",
      "   macro avg       0.53      0.52      0.49      2000\n",
      "weighted avg       0.53      0.52      0.49      2000\n",
      "\n"
     ]
    }
   ],
   "source": [
    "xgb_final = XGBClassifier(\n",
    "    scale_pos_weight=2,  # Try different values (1.5 to 5) based on class imbalance\n",
    "    learning_rate=0.05,\n",
    "    max_depth=6,\n",
    "    n_estimators=700,\n",
    "    colsample_bytree=0.9,\n",
    "    subsample=0.9,\n",
    "    random_state=42\n",
    ")\n",
    "\n",
    "xgb_final.fit(X_train_selected, y_train)\n",
    "y_pred_final = xgb_final.predict(X_test_selected)\n",
    "\n",
    "# Performance Metrics\n",
    "print(\"Final XGBoost Test Accuracy:\", accuracy_score(y_test, y_pred_final))\n",
    "print(\"\\nClassification Report:\\n\", classification_report(y_test, y_pred_final))"
   ]
  },
  {
   "cell_type": "code",
   "execution_count": 104,
   "metadata": {},
   "outputs": [
    {
     "name": "stdout",
     "output_type": "stream",
     "text": [
      "Feature Means:\n",
      " Purchase_Frequency           -5.639933e-17\n",
      "Average_Order_Value          -2.779998e-16\n",
      "Time_Between_Purchases       -4.973799e-17\n",
      "customer_tenure               2.167155e-16\n",
      "recency                       1.483258e-16\n",
      "engagement_score              2.842171e-17\n",
      "purchase_freq_scaled         -5.084821e-17\n",
      "time_between_scaled           6.039613e-17\n",
      "recency_scaled               -3.552714e-18\n",
      "engagement_score_scaled      -1.776357e-18\n",
      "purchase_freq_standardized    3.241851e-17\n",
      "time_between_standardized    -3.375078e-17\n",
      "recency_standardized          2.575717e-17\n",
      "engagement_score_log         -1.598721e-17\n",
      "customer_tenure_group         1.330000e+00\n",
      "engagement_category           9.866250e-01\n",
      "recently_active               0.000000e+00\n",
      "engagement_score_ma3         -1.560974e-16\n",
      "Region_Europe                 2.550000e-01\n",
      "Region_North America          2.455000e-01\n",
      "Region_South America          2.532500e-01\n",
      "dtype: float64\n",
      "Feature Std Devs:\n",
      " Purchase_Frequency            1.000063\n",
      "Average_Order_Value           1.000063\n",
      "Time_Between_Purchases        1.000063\n",
      "customer_tenure               1.000063\n",
      "recency                       1.000063\n",
      "engagement_score              1.000063\n",
      "purchase_freq_scaled          1.000063\n",
      "time_between_scaled           1.000063\n",
      "recency_scaled                1.000063\n",
      "engagement_score_scaled       1.000063\n",
      "purchase_freq_standardized    1.000063\n",
      "time_between_standardized     1.000063\n",
      "recency_standardized          1.000063\n",
      "engagement_score_log          1.000063\n",
      "customer_tenure_group         0.471570\n",
      "engagement_category           0.822971\n",
      "recently_active               0.000000\n",
      "engagement_score_ma3          1.000063\n",
      "Region_Europe                 0.435888\n",
      "Region_North America          0.430410\n",
      "Region_South America          0.434900\n",
      "dtype: float64\n"
     ]
    }
   ],
   "source": [
    "print(\"Feature Means:\\n\", X_train_selected.mean())\n",
    "print(\"Feature Std Devs:\\n\", X_train_selected.std())"
   ]
  },
  {
   "cell_type": "code",
   "execution_count": 105,
   "metadata": {},
   "outputs": [],
   "source": [
    "from sklearn.preprocessing import StandardScaler\n",
    "\n",
    "scaler = StandardScaler()\n",
    "X_train_selected_scaled = scaler.fit_transform(X_train_selected)\n",
    "X_test_selected_scaled = scaler.transform(X_test_selected)"
   ]
  },
  {
   "cell_type": "code",
   "execution_count": 109,
   "metadata": {},
   "outputs": [
    {
     "name": "stdout",
     "output_type": "stream",
     "text": [
      "Final XGBoost Test Accuracy: 0.5065\n",
      "\n",
      "Classification Report:\n",
      "               precision    recall  f1-score   support\n",
      "\n",
      "           0       0.54      0.18      0.27      1014\n",
      "           1       0.50      0.84      0.63       986\n",
      "\n",
      "    accuracy                           0.51      2000\n",
      "   macro avg       0.52      0.51      0.45      2000\n",
      "weighted avg       0.52      0.51      0.45      2000\n",
      "\n"
     ]
    }
   ],
   "source": [
    "xgb_final = XGBClassifier(\n",
    "    learning_rate=0.1,  # Slightly higher\n",
    "    max_depth=4,  # Reduce complexity\n",
    "    n_estimators=500,  # Keep reasonable\n",
    "    colsample_bytree=0.7,  # Reduce to avoid overfitting\n",
    "    subsample=0.8,\n",
    "    scale_pos_weight=2,  # Adjust based on Step 2\n",
    "    gamma=0.5,  # Increase for better splits\n",
    "    random_state=42\n",
    ")\n",
    "\n",
    "xgb_final.fit(X_train_selected, y_train)\n",
    "y_pred_final = xgb_final.predict(X_test_selected)\n",
    "\n",
    "# Performance Metrics\n",
    "print(\"Final XGBoost Test Accuracy:\", accuracy_score(y_test, y_pred_final))\n",
    "print(\"\\nClassification Report:\\n\", classification_report(y_test, y_pred_final))"
   ]
  },
  {
   "cell_type": "code",
   "execution_count": 111,
   "metadata": {},
   "outputs": [
    {
     "name": "stdout",
     "output_type": "stream",
     "text": [
      "Updated columns in X_train_selected_new: Index(['Purchase_Frequency', 'Average_Order_Value', 'Time_Between_Purchases',\n",
      "       'recency', 'engagement_score', 'purchase_freq_scaled', 'recency_scaled',\n",
      "       'engagement_score_scaled', 'purchase_freq_standardized',\n",
      "       'time_between_standardized', 'recency_standardized',\n",
      "       'customer_tenure_group', 'engagement_category', 'recently_active',\n",
      "       'engagement_score_ma3', 'Region_Europe', 'Region_North America',\n",
      "       'Region_South America', 'engagement_score_log', 'time_between_scaled',\n",
      "       'customer_tenure'],\n",
      "      dtype='object')\n"
     ]
    }
   ],
   "source": [
    "# Ensure missing features are in the dataset\n",
    "missing_features = ['engagement_score_log', 'time_between_scaled', 'customer_tenure']\n",
    "\n",
    "for feature in missing_features:\n",
    "    if feature not in X_train_selected_new.columns:\n",
    "        X_train_selected_new[feature] = X_train_selected[feature]  # Add from original data\n",
    "\n",
    "print(\"Updated columns in X_train_selected_new:\", X_train_selected_new.columns)"
   ]
  },
  {
   "cell_type": "code",
   "execution_count": 113,
   "metadata": {},
   "outputs": [
    {
     "name": "stdout",
     "output_type": "stream",
     "text": [
      "Features in test but missing in train: {'customer_tenure', 'time_between_scaled', 'engagement_score_log'}\n",
      "Features in train but missing in test: set()\n"
     ]
    }
   ],
   "source": [
    "train_features = set(X_train_balanced.columns)\n",
    "test_features = set(X_test_selected.columns)\n",
    "\n",
    "missing_in_train = test_features - train_features\n",
    "missing_in_test = train_features - test_features\n",
    "\n",
    "print(\"Features in test but missing in train:\", missing_in_train)\n",
    "print(\"Features in train but missing in test:\", missing_in_test)"
   ]
  },
  {
   "cell_type": "code",
   "execution_count": 119,
   "metadata": {},
   "outputs": [
    {
     "name": "stdout",
     "output_type": "stream",
     "text": [
      "Columns in X_train_balanced: ['Purchase_Frequency', 'Average_Order_Value', 'Time_Between_Purchases', 'recency', 'engagement_score', 'purchase_freq_scaled', 'recency_scaled', 'engagement_score_scaled', 'purchase_freq_standardized', 'time_between_standardized', 'recency_standardized', 'customer_tenure_group', 'engagement_category', 'recently_active', 'engagement_score_ma3', 'Region_Europe', 'Region_North America', 'Region_South America', ('customer_tenure', 'time_between_scaled', 'engagement_score_log'), 'customer_tenure', 'time_between_scaled', 'engagement_score_log']\n",
      "Columns in X_test_selected: ['Purchase_Frequency', 'Average_Order_Value', 'Time_Between_Purchases', 'customer_tenure', 'recency', 'engagement_score', 'purchase_freq_scaled', 'time_between_scaled', 'recency_scaled', 'engagement_score_scaled', 'purchase_freq_standardized', 'time_between_standardized', 'recency_standardized', 'engagement_score_log', 'customer_tenure_group', 'engagement_category', 'recently_active', 'engagement_score_ma3', 'Region_Europe', 'Region_North America', 'Region_South America']\n"
     ]
    }
   ],
   "source": [
    "print(\"Columns in X_train_balanced:\", X_train_balanced.columns.tolist())\n",
    "print(\"Columns in X_test_selected:\", X_test_selected.columns.tolist())"
   ]
  },
  {
   "cell_type": "code",
   "execution_count": 120,
   "metadata": {},
   "outputs": [],
   "source": [
    "if ('customer_tenure', 'time_between_scaled', 'engagement_score_log') in X_train_balanced.columns:\n",
    "    X_train_balanced = X_train_balanced.drop(columns=[('customer_tenure', 'time_between_scaled', 'engagement_score_log')])"
   ]
  },
  {
   "cell_type": "code",
   "execution_count": 121,
   "metadata": {},
   "outputs": [],
   "source": [
    "for feature in missing_in_train:\n",
    "    if feature not in X_train_balanced.columns:\n",
    "        X_train_balanced[feature] = 0  # Add missing column with default value (0)\n",
    "\n",
    "for feature in missing_in_test:\n",
    "    if feature not in X_test_selected.columns:\n",
    "        X_test_selected[feature] = 0  # Add missing column with default value (0)\n",
    "\n",
    "# Reorder columns to match exactly\n",
    "X_test_selected = X_test_selected[X_train_balanced.columns]"
   ]
  },
  {
   "cell_type": "code",
   "execution_count": 122,
   "metadata": {},
   "outputs": [
    {
     "name": "stdout",
     "output_type": "stream",
     "text": [
      "Columns in X_train_balanced: ['Purchase_Frequency', 'Average_Order_Value', 'Time_Between_Purchases', 'recency', 'engagement_score', 'purchase_freq_scaled', 'recency_scaled', 'engagement_score_scaled', 'purchase_freq_standardized', 'time_between_standardized', 'recency_standardized', 'customer_tenure_group', 'engagement_category', 'recently_active', 'engagement_score_ma3', 'Region_Europe', 'Region_North America', 'Region_South America', 'customer_tenure', 'time_between_scaled', 'engagement_score_log']\n",
      "Columns in X_test_selected: ['Purchase_Frequency', 'Average_Order_Value', 'Time_Between_Purchases', 'recency', 'engagement_score', 'purchase_freq_scaled', 'recency_scaled', 'engagement_score_scaled', 'purchase_freq_standardized', 'time_between_standardized', 'recency_standardized', 'customer_tenure_group', 'engagement_category', 'recently_active', 'engagement_score_ma3', 'Region_Europe', 'Region_North America', 'Region_South America', 'customer_tenure', 'time_between_scaled', 'engagement_score_log']\n"
     ]
    }
   ],
   "source": [
    "print(\"Columns in X_train_balanced:\", X_train_balanced.columns.tolist())\n",
    "print(\"Columns in X_test_selected:\", X_test_selected.columns.tolist())"
   ]
  },
  {
   "cell_type": "code",
   "execution_count": 126,
   "metadata": {},
   "outputs": [
    {
     "name": "stdout",
     "output_type": "stream",
     "text": [
      "Column names in X_train_balanced: ['Purchase_Frequency', 'Average_Order_Value', 'Time_Between_Purchases', 'recency', 'engagement_score', 'purchase_freq_scaled', 'recency_scaled', 'engagement_score_scaled', 'purchase_freq_standardized', 'time_between_standardized', 'recency_standardized', 'customer_tenure_group', 'engagement_category', 'recently_active', 'engagement_score_ma3', 'Region_Europe', 'Region_North America', 'Region_South America', 'customer_tenure', 'time_between_scaled', 'engagement_score_log']\n",
      "Column names in X_test_selected: ['Purchase_Frequency', 'Average_Order_Value', 'Time_Between_Purchases', 'recency', 'engagement_score', 'purchase_freq_scaled', 'recency_scaled', 'engagement_score_scaled', 'purchase_freq_standardized', 'time_between_standardized', 'recency_standardized', 'customer_tenure_group', 'engagement_category', 'recently_active', 'engagement_score_ma3', 'Region_Europe', 'Region_North America', 'Region_South America', 'customer_tenure', 'time_between_scaled', 'engagement_score_log']\n"
     ]
    }
   ],
   "source": [
    "print(\"Column names in X_train_balanced:\", X_train_balanced.columns.tolist())\n",
    "print(\"Column names in X_test_selected:\", X_test_selected.columns.tolist())"
   ]
  },
  {
   "cell_type": "code",
   "execution_count": 132,
   "metadata": {},
   "outputs": [
    {
     "name": "stdout",
     "output_type": "stream",
     "text": [
      "Column names in the original dataset: ['Customer_ID', 'Product_ID', 'Transaction_ID', 'Purchase_Frequency', 'Average_Order_Value', 'Most_Frequent_Category', 'Time_Between_Purchases', 'Region', 'Churn_Probability', 'Lifetime_Value', 'Launch_Date', 'Peak_Sales_Date', 'Season', 'Preferred_Purchase_Times', 'Retention_Strategy', 'launch_year', 'launch_month', 'customer_tenure', 'recency', 'engagement_score', 'purchase_freq_scaled', 'avg_order_value_scaled', 'time_between_scaled', 'customer_tenure_scaled', 'recency_scaled', 'engagement_score_scaled', 'purchase_freq_standardized', 'avg_order_value_standardized', 'time_between_standardized', 'customer_tenure_standardized', 'recency_standardized', 'engagement_score_standardized', 'engagement_score_log', 'customer_tenure_group', 'engagement_category', 'recently_active', 'engagement_score_ma3', 'Churn_Label', 'Churn']\n"
     ]
    }
   ],
   "source": [
    "# Print column names of the original dataset\n",
    "print(\"Column names in the original dataset:\", df_copy.columns.tolist())"
   ]
  },
  {
   "cell_type": "code",
   "execution_count": 133,
   "metadata": {},
   "outputs": [
    {
     "name": "stdout",
     "output_type": "stream",
     "text": [
      "count    10000.000000\n",
      "mean         0.501552\n",
      "std          0.288289\n",
      "min          0.000000\n",
      "25%          0.250000\n",
      "50%          0.500000\n",
      "75%          0.750000\n",
      "max          1.000000\n",
      "Name: Churn_Probability, dtype: float64\n",
      "[0.53 0.76 0.13 0.15 0.09 0.12 0.8  0.05 0.65 0.37 0.42 0.08 0.28 0.97\n",
      " 0.14 0.2  0.24 0.25 0.94 0.81 0.43 0.22 0.26 0.47 0.74 0.93 0.04 0.23\n",
      " 0.82 0.87 0.86 0.49 0.1  0.79 0.85 0.91 0.54 0.77 0.29 0.17 0.32 0.66\n",
      " 0.51 0.71 0.62 0.96 0.72 0.48 0.55 0.84 0.45 0.99 0.4  0.19 0.31 0.52\n",
      " 0.6  0.03 0.27 0.61 0.21 0.9  0.38 0.56 0.44 0.75 0.11 0.35 0.3  0.64\n",
      " 0.68 0.78 0.89 0.46 0.01 0.36 0.73 0.92 0.33 0.95 0.83 0.18 0.41 0.69\n",
      " 0.67 0.5  0.02 0.57 0.06 0.63 0.7  0.88 0.34 0.58 0.39 0.59 0.98 0.16\n",
      " 1.   0.07 0.  ]\n"
     ]
    }
   ],
   "source": [
    "print(df_copy[\"Churn_Probability\"].describe())\n",
    "print(df_copy[\"Churn_Probability\"].unique())  # Check unique values"
   ]
  },
  {
   "cell_type": "code",
   "execution_count": 134,
   "metadata": {},
   "outputs": [
    {
     "name": "stdout",
     "output_type": "stream",
     "text": [
      "Churn\n",
      "1    5038\n",
      "0    4962\n",
      "Name: count, dtype: int64\n",
      "   Churn_Probability  Churn\n",
      "0               0.53      1\n",
      "1               0.76      1\n",
      "2               0.13      0\n",
      "3               0.15      0\n",
      "4               0.09      0\n",
      "5               0.12      0\n",
      "6               0.80      1\n",
      "7               0.05      0\n",
      "8               0.65      1\n",
      "9               0.37      0\n"
     ]
    }
   ],
   "source": [
    "df_copy[\"Churn\"] = (df_copy[\"Churn_Probability\"] >= 0.5).astype(int)\n",
    "\n",
    "print(df_copy[\"Churn\"].value_counts())  # Verify distribution\n",
    "print(df_copy[[\"Churn_Probability\", \"Churn\"]].head(10))  # Compare values"
   ]
  },
  {
   "cell_type": "code",
   "execution_count": 135,
   "metadata": {},
   "outputs": [
    {
     "name": "stdout",
     "output_type": "stream",
     "text": [
      "['Customer_ID', 'Product_ID', 'Transaction_ID', 'Purchase_Frequency', 'Average_Order_Value', 'Most_Frequent_Category', 'Time_Between_Purchases', 'Region', 'Churn_Probability', 'Lifetime_Value', 'Launch_Date', 'Peak_Sales_Date', 'Season', 'Preferred_Purchase_Times', 'Retention_Strategy', 'launch_year', 'launch_month', 'customer_tenure', 'recency', 'engagement_score', 'purchase_freq_scaled', 'avg_order_value_scaled', 'time_between_scaled', 'customer_tenure_scaled', 'recency_scaled', 'engagement_score_scaled', 'purchase_freq_standardized', 'avg_order_value_standardized', 'time_between_standardized', 'customer_tenure_standardized', 'recency_standardized', 'engagement_score_standardized', 'engagement_score_log', 'customer_tenure_group', 'engagement_category', 'recently_active', 'engagement_score_ma3', 'Churn_Label', 'Churn']\n"
     ]
    }
   ],
   "source": [
    "print(df_copy.columns.tolist())  # Ensure 'Churn' is present"
   ]
  },
  {
   "cell_type": "code",
   "execution_count": 136,
   "metadata": {},
   "outputs": [
    {
     "name": "stdout",
     "output_type": "stream",
     "text": [
      "X_train_balanced columns: ['Purchase_Frequency', 'Average_Order_Value', 'Time_Between_Purchases', 'recency', 'engagement_score', 'purchase_freq_scaled', 'recency_scaled', 'engagement_score_scaled', 'purchase_freq_standardized', 'time_between_standardized', 'recency_standardized', 'customer_tenure_group', 'engagement_category', 'recently_active', 'engagement_score_ma3', 'Region_Europe', 'Region_North America', 'Region_South America', 'customer_tenure', 'time_between_scaled', 'engagement_score_log']\n",
      "X_test_selected columns: ['Purchase_Frequency', 'Average_Order_Value', 'Time_Between_Purchases', 'recency', 'engagement_score', 'purchase_freq_scaled', 'recency_scaled', 'engagement_score_scaled', 'purchase_freq_standardized', 'time_between_standardized', 'recency_standardized', 'customer_tenure_group', 'engagement_category', 'recently_active', 'engagement_score_ma3', 'Region_Europe', 'Region_North America', 'Region_South America', 'customer_tenure', 'time_between_scaled', 'engagement_score_log']\n"
     ]
    }
   ],
   "source": [
    "# Ensure 'Churn' is included in X_train_balanced and X_test_selected\n",
    "print(\"X_train_balanced columns:\", X_train_balanced.columns.tolist())\n",
    "print(\"X_test_selected columns:\", X_test_selected.columns.tolist())"
   ]
  },
  {
   "cell_type": "code",
   "execution_count": 138,
   "metadata": {},
   "outputs": [
    {
     "name": "stdout",
     "output_type": "stream",
     "text": [
      "Available columns: ['Customer_ID', 'Product_ID', 'Transaction_ID', 'Purchase_Frequency', 'Average_Order_Value', 'Most_Frequent_Category', 'Time_Between_Purchases', 'Region', 'Churn_Probability', 'Lifetime_Value', 'Launch_Date', 'Peak_Sales_Date', 'Season', 'Preferred_Purchase_Times', 'Retention_Strategy', 'launch_year', 'launch_month', 'customer_tenure', 'recency', 'engagement_score', 'purchase_freq_scaled', 'avg_order_value_scaled', 'time_between_scaled', 'customer_tenure_scaled', 'recency_scaled', 'engagement_score_scaled', 'purchase_freq_standardized', 'avg_order_value_standardized', 'time_between_standardized', 'customer_tenure_standardized', 'recency_standardized', 'engagement_score_standardized', 'engagement_score_log', 'customer_tenure_group', 'engagement_category', 'recently_active', 'engagement_score_ma3', 'Churn_Label', 'Churn']\n"
     ]
    }
   ],
   "source": [
    "print(\"Available columns:\", df_copy.columns.tolist())"
   ]
  },
  {
   "cell_type": "code",
   "execution_count": 139,
   "metadata": {},
   "outputs": [
    {
     "name": "stdout",
     "output_type": "stream",
     "text": [
      "Updated columns: ['Customer_ID', 'Product_ID', 'Transaction_ID', 'Purchase_Frequency', 'Average_Order_Value', 'Most_Frequent_Category', 'Time_Between_Purchases', 'Churn_Probability', 'Lifetime_Value', 'Launch_Date', 'Peak_Sales_Date', 'Season', 'Preferred_Purchase_Times', 'Retention_Strategy', 'launch_year', 'launch_month', 'customer_tenure', 'recency', 'engagement_score', 'purchase_freq_scaled', 'avg_order_value_scaled', 'time_between_scaled', 'customer_tenure_scaled', 'recency_scaled', 'engagement_score_scaled', 'purchase_freq_standardized', 'avg_order_value_standardized', 'time_between_standardized', 'customer_tenure_standardized', 'recency_standardized', 'engagement_score_standardized', 'engagement_score_log', 'customer_tenure_group', 'engagement_category', 'recently_active', 'engagement_score_ma3', 'Churn_Label', 'Churn', 'Region_Asia', 'Region_Europe', 'Region_North America', 'Region_South America']\n"
     ]
    }
   ],
   "source": [
    "df_copy = pd.get_dummies(df_copy, columns=['Region'], prefix='Region', drop_first=False)\n",
    "\n",
    "# Check if one-hot encoding worked\n",
    "print(\"Updated columns:\", df_copy.columns.tolist())"
   ]
  },
  {
   "cell_type": "code",
   "execution_count": 140,
   "metadata": {},
   "outputs": [
    {
     "name": "stdout",
     "output_type": "stream",
     "text": [
      "X_train shape: (8000, 21)\n",
      "X_test shape: (2000, 21)\n",
      "y_train distribution:\n",
      " Churn\n",
      "1    4030\n",
      "0    3970\n",
      "Name: count, dtype: int64\n",
      "y_test distribution:\n",
      " Churn\n",
      "1    1008\n",
      "0     992\n",
      "Name: count, dtype: int64\n"
     ]
    }
   ],
   "source": [
    "from sklearn.model_selection import train_test_split\n",
    "\n",
    "# Define feature columns (including newly added one-hot encoded Region columns)\n",
    "feature_columns = [\n",
    "    'Purchase_Frequency', 'Average_Order_Value', 'Time_Between_Purchases', 'recency', \n",
    "    'engagement_score', 'purchase_freq_scaled', 'recency_scaled', 'engagement_score_scaled', \n",
    "    'purchase_freq_standardized', 'time_between_standardized', 'recency_standardized', \n",
    "    'customer_tenure_group', 'engagement_category', 'recently_active', 'engagement_score_ma3', \n",
    "    'Region_Europe', 'Region_North America', 'Region_South America', 'customer_tenure', \n",
    "    'time_between_scaled', 'engagement_score_log'\n",
    "]\n",
    "\n",
    "# Target variable\n",
    "target_column = 'Churn'\n",
    "\n",
    "# Split dataset (stratify ensures class balance in train/test)\n",
    "X_train, X_test, y_train, y_test = train_test_split(\n",
    "    df_copy[feature_columns], df_copy[target_column], test_size=0.2, random_state=42, stratify=df_copy[target_column]\n",
    ")\n",
    "\n",
    "print(\"X_train shape:\", X_train.shape)\n",
    "print(\"X_test shape:\", X_test.shape)\n",
    "print(\"y_train distribution:\\n\", y_train.value_counts())\n",
    "print(\"y_test distribution:\\n\", y_test.value_counts())"
   ]
  },
  {
   "cell_type": "code",
   "execution_count": 148,
   "metadata": {},
   "outputs": [],
   "source": [
    "# Using the Baseline model using Logistic Regression\n",
    "from sklearn.linear_model import LogisticRegression\n",
    "from sklearn.metrics import accuracy_score, precision_score, recall_score, f1_score, confusion_matrix, classification_report"
   ]
  },
  {
   "cell_type": "code",
   "execution_count": 149,
   "metadata": {},
   "outputs": [
    {
     "name": "stdout",
     "output_type": "stream",
     "text": [
      "Purchase_Frequency                int64\n",
      "Average_Order_Value             float64\n",
      "Time_Between_Purchases            int64\n",
      "recency                           int64\n",
      "engagement_score                  int64\n",
      "purchase_freq_scaled            float64\n",
      "recency_scaled                    int64\n",
      "engagement_score_scaled           int64\n",
      "purchase_freq_standardized      float64\n",
      "time_between_standardized       float64\n",
      "recency_standardized            float64\n",
      "engagement_score_ma3            float64\n",
      "Region_Europe                      bool\n",
      "Region_North America               bool\n",
      "Region_South America               bool\n",
      "customer_tenure                   int64\n",
      "time_between_scaled             float64\n",
      "engagement_score_log            float64\n",
      "customer_tenure_group_Medium       bool\n",
      "customer_tenure_group_New          bool\n",
      "engagement_category_Low            bool\n",
      "engagement_category_Medium         bool\n",
      "dtype: object\n"
     ]
    }
   ],
   "source": [
    "print(X_train.dtypes)"
   ]
  },
  {
   "cell_type": "code",
   "execution_count": 155,
   "metadata": {},
   "outputs": [],
   "source": [
    "# Applying StandardScaler to All Numeric Features\n",
    "from sklearn.preprocessing import StandardScaler\n",
    "\n",
    "# Select numerical columns to scale (excluding boolean dummy variables)\n",
    "numeric_cols = [\n",
    "    'Purchase_Frequency', 'Average_Order_Value', 'Time_Between_Purchases', 'recency', \n",
    "    'engagement_score', 'customer_tenure', 'time_between_scaled', 'engagement_score_log',\n",
    "    'recency_scaled', 'engagement_score_scaled', 'purchase_freq_scaled', \n",
    "    'purchase_freq_standardized', 'time_between_standardized', 'recency_standardized', \n",
    "    'engagement_score_ma3'\n",
    "]\n",
    "\n",
    "# Initialize the scaler\n",
    "scaler = StandardScaler()\n",
    "\n",
    "# Fit and transform training data\n",
    "X_train[numeric_cols] = scaler.fit_transform(X_train[numeric_cols])\n",
    "\n",
    "# Transform test data (use the same scaler from training)\n",
    "X_test[numeric_cols] = scaler.transform(X_test[numeric_cols])"
   ]
  },
  {
   "cell_type": "code",
   "execution_count": 156,
   "metadata": {},
   "outputs": [],
   "source": [
    "# Increasing the max_iter to 1000\n",
    "log_reg = LogisticRegression(random_state=42, max_iter=1000)\n",
    "log_reg = LogisticRegression(random_state=42, max_iter=5000, solver='saga')"
   ]
  },
  {
   "cell_type": "code",
   "execution_count": 157,
   "metadata": {},
   "outputs": [
    {
     "name": "stdout",
     "output_type": "stream",
     "text": [
      "              precision    recall  f1-score   support\n",
      "\n",
      "           0       0.52      0.43      0.47       992\n",
      "           1       0.52      0.62      0.57      1008\n",
      "\n",
      "    accuracy                           0.52      2000\n",
      "   macro avg       0.52      0.52      0.52      2000\n",
      "weighted avg       0.52      0.52      0.52      2000\n",
      "\n"
     ]
    }
   ],
   "source": [
    "# Train (fit) the model\n",
    "log_reg.fit(X_train, y_train)\n",
    "\n",
    "# Make predictions\n",
    "y_pred = log_reg.predict(X_test)\n",
    "\n",
    "# Evaluate performance\n",
    "print(classification_report(y_test, y_pred))"
   ]
  },
  {
   "cell_type": "code",
   "execution_count": 158,
   "metadata": {},
   "outputs": [
    {
     "name": "stdout",
     "output_type": "stream",
     "text": [
      "Highly Correlated Features: [('Purchase_Frequency', 'purchase_freq_scaled'), ('Purchase_Frequency', 'purchase_freq_standardized'), ('Time_Between_Purchases', 'time_between_standardized'), ('Time_Between_Purchases', 'time_between_scaled'), ('recency', 'recency_standardized'), ('purchase_freq_scaled', 'Purchase_Frequency'), ('purchase_freq_scaled', 'purchase_freq_standardized'), ('purchase_freq_standardized', 'Purchase_Frequency'), ('purchase_freq_standardized', 'purchase_freq_scaled'), ('time_between_standardized', 'Time_Between_Purchases'), ('time_between_standardized', 'time_between_scaled'), ('recency_standardized', 'recency'), ('time_between_scaled', 'Time_Between_Purchases'), ('time_between_scaled', 'time_between_standardized')]\n"
     ]
    }
   ],
   "source": [
    "# Checking for multicollinearity using a correlation matrix\n",
    "import numpy as np\n",
    "\n",
    "# Compute correlation matrix\n",
    "corr_matrix = X_train.corr().abs()\n",
    "\n",
    "# Identify highly correlated features (threshold: 0.9)\n",
    "high_corr_features = np.where(corr_matrix > 0.9)\n",
    "high_corr_features = [(corr_matrix.index[x], corr_matrix.columns[y]) for x, y in zip(*high_corr_features) if x != y]\n",
    "\n",
    "print(\"Highly Correlated Features:\", high_corr_features)"
   ]
  },
  {
   "cell_type": "code",
   "execution_count": 159,
   "metadata": {},
   "outputs": [],
   "source": [
    "# Dropping the features that are scaled/standardized versions while keeping the original feature\n",
    "# List of features to drop\n",
    "features_to_drop = [\n",
    "    'purchase_freq_scaled', 'purchase_freq_standardized',\n",
    "    'time_between_standardized', 'time_between_scaled',\n",
    "    'recency_standardized'\n",
    "]\n",
    "\n",
    "# Drop from both training and testing sets\n",
    "X_train = X_train.drop(columns=features_to_drop)\n",
    "X_test = X_test.drop(columns=features_to_drop)"
   ]
  },
  {
   "cell_type": "code",
   "execution_count": 160,
   "metadata": {},
   "outputs": [
    {
     "name": "stdout",
     "output_type": "stream",
     "text": [
      "              precision    recall  f1-score   support\n",
      "\n",
      "           0       0.52      0.43      0.47       992\n",
      "           1       0.52      0.62      0.57      1008\n",
      "\n",
      "    accuracy                           0.52      2000\n",
      "   macro avg       0.52      0.52      0.52      2000\n",
      "weighted avg       0.52      0.52      0.52      2000\n",
      "\n"
     ]
    }
   ],
   "source": [
    "# Train the model after removing multicollinear features\n",
    "log_reg = LogisticRegression(random_state=42, max_iter=5000, solver='saga')\n",
    "log_reg.fit(X_train, y_train)\n",
    "\n",
    "# Make predictions\n",
    "y_pred = log_reg.predict(X_test)\n",
    "\n",
    "# Evaluate performance\n",
    "print(classification_report(y_test, y_pred))"
   ]
  },
  {
   "cell_type": "code",
   "execution_count": 161,
   "metadata": {},
   "outputs": [
    {
     "data": {
      "image/png": "[encoded data removed]",
      "text/plain": [
       "<Figure size 640x480 with 1 Axes>"
      ]
     },
     "metadata": {},
     "output_type": "display_data"
    },
    {
     "name": "stdout",
     "output_type": "stream",
     "text": [
      "Churn\n",
      "1    0.50375\n",
      "0    0.49625\n",
      "Name: proportion, dtype: float64\n"
     ]
    }
   ],
   "source": [
    "import seaborn as sns\n",
    "import matplotlib.pyplot as plt\n",
    "\n",
    "# Check class distribution\n",
    "sns.countplot(x=y_train)\n",
    "plt.title(\"Churn Class Distribution in Training Set\")\n",
    "plt.show()\n",
    "\n",
    "# Print actual counts\n",
    "print(y_train.value_counts(normalize=True))"
   ]
  },
  {
   "cell_type": "code",
   "execution_count": null,
   "metadata": {},
   "outputs": [
    {
     "name": "stdout",
     "output_type": "stream",
     "text": [
      "                         Feature  Importance\n",
      "14     customer_tenure_group_New    0.617600\n",
      "8                  Region_Europe    0.119654\n",
      "15       engagement_category_Low    0.085788\n",
      "6        engagement_score_scaled    0.073100\n",
      "4               engagement_score    0.068782\n",
      "13  customer_tenure_group_Medium    0.059316\n",
      "10          Region_South America    0.055719\n",
      "12          engagement_score_log    0.040159\n",
      "16    engagement_category_Medium    0.037862\n",
      "11               customer_tenure    0.032603\n",
      "1            Average_Order_Value    0.027734\n",
      "2         Time_Between_Purchases    0.024413\n",
      "7           engagement_score_ma3    0.012842\n",
      "9           Region_North America    0.008751\n",
      "3                        recency    0.007565\n",
      "0             Purchase_Frequency    0.004834\n",
      "5                 recency_scaled    0.002834\n"
     ]
    }
   ],
   "source": [
    "# Get feature importance (absolute values of coefficients)\n",
    "feature_importance = abs(log_reg.coef_[0])\n",
    "features = X_train.columns\n",
    "\n",
    "# Create a DataFrame\n",
    "import pandas as pd\n",
    "importance_df = pd.DataFrame({\"Feature\": features, \"Importance\": feature_importance})\n",
    "importance_df = importance_df.sort_values(by=\"Importance\", ascending=False)\n",
    "\n",
    "# Print top 10 important features\n",
    "print(importance_df)"
   ]
  },
  {
   "cell_type": "code",
   "execution_count": 163,
   "metadata": {},
   "outputs": [
    {
     "name": "stdout",
     "output_type": "stream",
     "text": [
      "              precision    recall  f1-score   support\n",
      "\n",
      "           0       0.52      0.43      0.47       992\n",
      "           1       0.52      0.61      0.56      1008\n",
      "\n",
      "    accuracy                           0.52      2000\n",
      "   macro avg       0.52      0.52      0.51      2000\n",
      "weighted avg       0.52      0.52      0.51      2000\n",
      "\n"
     ]
    }
   ],
   "source": [
    "# Dropping low-importance features - 'recency_scaled', 'Purchase_Frequency', 'recency', 'Region_North America'\n",
    "features_to_drop = ['recency_scaled', 'Purchase_Frequency', 'recency', 'Region_North America']\n",
    "X_train = X_train.drop(columns=features_to_drop)\n",
    "X_test = X_test.drop(columns=features_to_drop)\n",
    "\n",
    "# Retrain the model\n",
    "log_reg = LogisticRegression(random_state=42, max_iter=5000, solver='saga')\n",
    "log_reg.fit(X_train, y_train)\n",
    "\n",
    "# Make predictions\n",
    "y_pred = log_reg.predict(X_test)\n",
    "\n",
    "# Evaluate performance\n",
    "print(classification_report(y_test, y_pred))"
   ]
  },
  {
   "cell_type": "markdown",
   "metadata": {},
   "source": [
    "Observations:\n",
    "- Even after dropping the low-importance features the accuracy is still around 52%."
   ]
  },
  {
   "cell_type": "code",
   "execution_count": 164,
   "metadata": {},
   "outputs": [
    {
     "name": "stdout",
     "output_type": "stream",
     "text": [
      "              precision    recall  f1-score   support\n",
      "\n",
      "           0       0.51      0.51      0.51       992\n",
      "           1       0.52      0.52      0.52      1008\n",
      "\n",
      "    accuracy                           0.52      2000\n",
      "   macro avg       0.52      0.52      0.52      2000\n",
      "weighted avg       0.52      0.52      0.52      2000\n",
      "\n"
     ]
    }
   ],
   "source": [
    "# Retrain Logistic Regression with class weights\n",
    "log_reg = LogisticRegression(random_state=42, max_iter=5000, solver='saga', class_weight='balanced')\n",
    "log_reg.fit(X_train, y_train)\n",
    "\n",
    "# Make predictions\n",
    "y_pred = log_reg.predict(X_test)\n",
    "\n",
    "# Evaluate performance\n",
    "print(classification_report(y_test, y_pred))"
   ]
  },
  {
   "cell_type": "code",
   "execution_count": 165,
   "metadata": {},
   "outputs": [
    {
     "name": "stdout",
     "output_type": "stream",
     "text": [
      "              precision    recall  f1-score   support\n",
      "\n",
      "           0       0.50      0.51      0.50       992\n",
      "           1       0.51      0.50      0.51      1008\n",
      "\n",
      "    accuracy                           0.50      2000\n",
      "   macro avg       0.50      0.50      0.50      2000\n",
      "weighted avg       0.50      0.50      0.50      2000\n",
      "\n"
     ]
    }
   ],
   "source": [
    "# Trying the Random Forest method\n",
    "from sklearn.ensemble import RandomForestClassifier\n",
    "\n",
    "# Train a Random Forest model\n",
    "rf = RandomForestClassifier(n_estimators=100, random_state=42)\n",
    "rf.fit(X_train, y_train)\n",
    "\n",
    "# Make predictions\n",
    "y_pred_rf = rf.predict(X_test)\n",
    "\n",
    "# Evaluate performance\n",
    "print(classification_report(y_test, y_pred_rf))"
   ]
  },
  {
   "cell_type": "code",
   "execution_count": 166,
   "metadata": {},
   "outputs": [
    {
     "name": "stdout",
     "output_type": "stream",
     "text": [
      "              precision    recall  f1-score   support\n",
      "\n",
      "           0       0.49      0.44      0.47       992\n",
      "           1       0.50      0.55      0.52      1008\n",
      "\n",
      "    accuracy                           0.49      2000\n",
      "   macro avg       0.49      0.49      0.49      2000\n",
      "weighted avg       0.49      0.49      0.49      2000\n",
      "\n"
     ]
    }
   ],
   "source": [
    "from sklearn.model_selection import GridSearchCV\n",
    "\n",
    "# Define parameter grid\n",
    "param_grid = {\n",
    "    'n_estimators': [100, 200, 300],\n",
    "    'max_depth': [None, 10, 20, 30],\n",
    "    'min_samples_split': [2, 5, 10],\n",
    "    'min_samples_leaf': [1, 2, 4]\n",
    "}\n",
    "\n",
    "# Perform Grid Search\n",
    "rf_tuned = GridSearchCV(RandomForestClassifier(random_state=42), param_grid, cv=3, scoring='f1', n_jobs=-1)\n",
    "rf_tuned.fit(X_train, y_train)\n",
    "\n",
    "# Best model\n",
    "best_rf = rf_tuned.best_estimator_\n",
    "\n",
    "# Make predictions\n",
    "y_pred_rf_tuned = best_rf.predict(X_test)\n",
    "\n",
    "# Evaluate performance\n",
    "print(classification_report(y_test, y_pred_rf_tuned))"
   ]
  },
  {
   "cell_type": "code",
   "execution_count": 167,
   "metadata": {},
   "outputs": [
    {
     "name": "stdout",
     "output_type": "stream",
     "text": [
      "              precision    recall  f1-score   support\n",
      "\n",
      "           0       0.50      0.49      0.49       992\n",
      "           1       0.50      0.51      0.51      1008\n",
      "\n",
      "    accuracy                           0.50      2000\n",
      "   macro avg       0.50      0.50      0.50      2000\n",
      "weighted avg       0.50      0.50      0.50      2000\n",
      "\n"
     ]
    }
   ],
   "source": [
    "from xgboost import XGBClassifier\n",
    "\n",
    "# Train an XGBoost model\n",
    "xgb = XGBClassifier(n_estimators=100, learning_rate=0.1, random_state=42)\n",
    "xgb.fit(X_train, y_train)\n",
    "\n",
    "# Make predictions\n",
    "y_pred_xgb = xgb.predict(X_test)\n",
    "\n",
    "# Evaluate performance\n",
    "print(classification_report(y_test, y_pred_xgb))"
   ]
  },
  {
   "cell_type": "markdown",
   "metadata": {},
   "source": [
    "Observations:\n",
    "- Both Random Forest (with hyperparameter tuning) and XGBoost did not significantly improve the model's performance\n",
    "- Random Forest (Tuned) → F1-score ~ 49%-52%\n",
    "- XGBoost → F1-score ~ 50%"
   ]
  },
  {
   "cell_type": "code",
   "execution_count": 168,
   "metadata": {},
   "outputs": [
    {
     "data": {
      "image/png": "[encoded data removed]",
      "text/plain": [
       "<Figure size 1200x800 with 2 Axes>"
      ]
     },
     "metadata": {},
     "output_type": "display_data"
    }
   ],
   "source": [
    "import seaborn as sns\n",
    "import matplotlib.pyplot as plt\n",
    "\n",
    "plt.figure(figsize=(12, 8))\n",
    "sns.heatmap(X_train.corr(), annot=True, cmap=\"coolwarm\")\n",
    "plt.title(\"Feature Correlation Heatmap\")\n",
    "plt.show()"
   ]
  },
  {
   "cell_type": "code",
   "execution_count": 170,
   "metadata": {},
   "outputs": [
    {
     "name": "stdout",
     "output_type": "stream",
     "text": [
      "              precision    recall  f1-score   support\n",
      "\n",
      "           0       0.50      0.11      0.18       992\n",
      "           1       0.51      0.89      0.65      1008\n",
      "\n",
      "    accuracy                           0.51      2000\n",
      "   macro avg       0.50      0.50      0.41      2000\n",
      "weighted avg       0.50      0.51      0.42      2000\n",
      "\n"
     ]
    }
   ],
   "source": [
    "from sklearn.ensemble import StackingClassifier\n",
    "\n",
    "estimators = [\n",
    "    ('rf', RandomForestClassifier(n_estimators=200, random_state=42)),\n",
    "    ('xgb', XGBClassifier(n_estimators=100, learning_rate=0.1, random_state=42))\n",
    "]\n",
    "\n",
    "stacked_clf = StackingClassifier(estimators=estimators, final_estimator=LogisticRegression())\n",
    "stacked_clf.fit(X_train, y_train)\n",
    "\n",
    "y_pred_stack = stacked_clf.predict(X_test)\n",
    "print(classification_report(y_test, y_pred_stack))"
   ]
  },
  {
   "cell_type": "code",
   "execution_count": 171,
   "metadata": {},
   "outputs": [],
   "source": [
    "# Using SMOTE for oversampling or undersample majority class\n",
    "from imblearn.over_sampling import SMOTE\n",
    "\n",
    "smote = SMOTE(random_state=42)\n",
    "X_train_balanced, y_train_balanced = smote.fit_resample(X_train, y_train)"
   ]
  },
  {
   "cell_type": "code",
   "execution_count": 174,
   "metadata": {},
   "outputs": [
    {
     "data": {
      "text/html": [
       "<style>#sk-container-id-2 {\n",
       "  /* Definition of color scheme common for light and dark mode */\n",
       "  --sklearn-color-text: #000;\n",
       "  --sklearn-color-text-muted: #666;\n",
       "  --sklearn-color-line: gray;\n",
       "  /* Definition of color scheme for unfitted estimators */\n",
       "  --sklearn-color-unfitted-level-0: #fff5e6;\n",
       "  --sklearn-color-unfitted-level-1: #f6e4d2;\n",
       "  --sklearn-color-unfitted-level-2: #ffe0b3;\n",
       "  --sklearn-color-unfitted-level-3: chocolate;\n",
       "  /* Definition of color scheme for fitted estimators */\n",
       "  --sklearn-color-fitted-level-0: #f0f8ff;\n",
       "  --sklearn-color-fitted-level-1: #d4ebff;\n",
       "  --sklearn-color-fitted-level-2: #b3dbfd;\n",
       "  --sklearn-color-fitted-level-3: cornflowerblue;\n",
       "\n",
       "  /* Specific color for light theme */\n",
       "  --sklearn-color-text-on-default-background: var(--sg-text-color, var(--theme-code-foreground, var(--jp-content-font-color1, black)));\n",
       "  --sklearn-color-background: var(--sg-background-color, var(--theme-background, var(--jp-layout-color0, white)));\n",
       "  --sklearn-color-border-box: var(--sg-text-color, var(--theme-code-foreground, var(--jp-content-font-color1, black)));\n",
       "  --sklearn-color-icon: #696969;\n",
       "\n",
       "  @media (prefers-color-scheme: dark) {\n",
       "    /* Redefinition of color scheme for dark theme */\n",
       "    --sklearn-color-text-on-default-background: var(--sg-text-color, var(--theme-code-foreground, var(--jp-content-font-color1, white)));\n",
       "    --sklearn-color-background: var(--sg-background-color, var(--theme-background, var(--jp-layout-color0, #111)));\n",
       "    --sklearn-color-border-box: var(--sg-text-color, var(--theme-code-foreground, var(--jp-content-font-color1, white)));\n",
       "    --sklearn-color-icon: #878787;\n",
       "  }\n",
       "}\n",
       "\n",
       "#sk-container-id-2 {\n",
       "  color: var(--sklearn-color-text);\n",
       "}\n",
       "\n",
       "#sk-container-id-2 pre {\n",
       "  padding: 0;\n",
       "}\n",
       "\n",
       "#sk-container-id-2 input.sk-hidden--visually {\n",
       "  border: 0;\n",
       "  clip: rect(1px 1px 1px 1px);\n",
       "  clip: rect(1px, 1px, 1px, 1px);\n",
       "  height: 1px;\n",
       "  margin: -1px;\n",
       "  overflow: hidden;\n",
       "  padding: 0;\n",
       "  position: absolute;\n",
       "  width: 1px;\n",
       "}\n",
       "\n",
       "#sk-container-id-2 div.sk-dashed-wrapped {\n",
       "  border: 1px dashed var(--sklearn-color-line);\n",
       "  margin: 0 0.4em 0.5em 0.4em;\n",
       "  box-sizing: border-box;\n",
       "  padding-bottom: 0.4em;\n",
       "  background-color: var(--sklearn-color-background);\n",
       "}\n",
       "\n",
       "#sk-container-id-2 div.sk-container {\n",
       "  /* jupyter's `normalize.less` sets `[hidden] { display: none; }`\n",
       "     but bootstrap.min.css set `[hidden] { display: none !important; }`\n",
       "     so we also need the `!important` here to be able to override the\n",
       "     default hidden behavior on the sphinx rendered scikit-learn.org.\n",
       "     See: https://github.com/scikit-learn/scikit-learn/issues/21755 */\n",
       "  display: inline-block !important;\n",
       "  position: relative;\n",
       "}\n",
       "\n",
       "#sk-container-id-2 div.sk-text-repr-fallback {\n",
       "  display: none;\n",
       "}\n",
       "\n",
       "div.sk-parallel-item,\n",
       "div.sk-serial,\n",
       "div.sk-item {\n",
       "  /* draw centered vertical line to link estimators */\n",
       "  background-image: linear-gradient(var(--sklearn-color-text-on-default-background), var(--sklearn-color-text-on-default-background));\n",
       "  background-size: 2px 100%;\n",
       "  background-repeat: no-repeat;\n",
       "  background-position: center center;\n",
       "}\n",
       "\n",
       "/* Parallel-specific style estimator block */\n",
       "\n",
       "#sk-container-id-2 div.sk-parallel-item::after {\n",
       "  content: \"\";\n",
       "  width: 100%;\n",
       "  border-bottom: 2px solid var(--sklearn-color-text-on-default-background);\n",
       "  flex-grow: 1;\n",
       "}\n",
       "\n",
       "#sk-container-id-2 div.sk-parallel {\n",
       "  display: flex;\n",
       "  align-items: stretch;\n",
       "  justify-content: center;\n",
       "  background-color: var(--sklearn-color-background);\n",
       "  position: relative;\n",
       "}\n",
       "\n",
       "#sk-container-id-2 div.sk-parallel-item {\n",
       "  display: flex;\n",
       "  flex-direction: column;\n",
       "}\n",
       "\n",
       "#sk-container-id-2 div.sk-parallel-item:first-child::after {\n",
       "  align-self: flex-end;\n",
       "  width: 50%;\n",
       "}\n",
       "\n",
       "#sk-container-id-2 div.sk-parallel-item:last-child::after {\n",
       "  align-self: flex-start;\n",
       "  width: 50%;\n",
       "}\n",
       "\n",
       "#sk-container-id-2 div.sk-parallel-item:only-child::after {\n",
       "  width: 0;\n",
       "}\n",
       "\n",
       "/* Serial-specific style estimator block */\n",
       "\n",
       "#sk-container-id-2 div.sk-serial {\n",
       "  display: flex;\n",
       "  flex-direction: column;\n",
       "  align-items: center;\n",
       "  background-color: var(--sklearn-color-background);\n",
       "  padding-right: 1em;\n",
       "  padding-left: 1em;\n",
       "}\n",
       "\n",
       "\n",
       "/* Toggleable style: style used for estimator/Pipeline/ColumnTransformer box that is\n",
       "clickable and can be expanded/collapsed.\n",
       "- Pipeline and ColumnTransformer use this feature and define the default style\n",
       "- Estimators will overwrite some part of the style using the `sk-estimator` class\n",
       "*/\n",
       "\n",
       "/* Pipeline and ColumnTransformer style (default) */\n",
       "\n",
       "#sk-container-id-2 div.sk-toggleable {\n",
       "  /* Default theme specific background. It is overwritten whether we have a\n",
       "  specific estimator or a Pipeline/ColumnTransformer */\n",
       "  background-color: var(--sklearn-color-background);\n",
       "}\n",
       "\n",
       "/* Toggleable label */\n",
       "#sk-container-id-2 label.sk-toggleable__label {\n",
       "  cursor: pointer;\n",
       "  display: flex;\n",
       "  width: 100%;\n",
       "  margin-bottom: 0;\n",
       "  padding: 0.5em;\n",
       "  box-sizing: border-box;\n",
       "  text-align: center;\n",
       "  align-items: start;\n",
       "  justify-content: space-between;\n",
       "  gap: 0.5em;\n",
       "}\n",
       "\n",
       "#sk-container-id-2 label.sk-toggleable__label .caption {\n",
       "  font-size: 0.6rem;\n",
       "  font-weight: lighter;\n",
       "  color: var(--sklearn-color-text-muted);\n",
       "}\n",
       "\n",
       "#sk-container-id-2 label.sk-toggleable__label-arrow:before {\n",
       "  /* Arrow on the left of the label */\n",
       "  content: \"▸\";\n",
       "  float: left;\n",
       "  margin-right: 0.25em;\n",
       "  color: var(--sklearn-color-icon);\n",
       "}\n",
       "\n",
       "#sk-container-id-2 label.sk-toggleable__label-arrow:hover:before {\n",
       "  color: var(--sklearn-color-text);\n",
       "}\n",
       "\n",
       "/* Toggleable content - dropdown */\n",
       "\n",
       "#sk-container-id-2 div.sk-toggleable__content {\n",
       "  max-height: 0;\n",
       "  max-width: 0;\n",
       "  overflow: hidden;\n",
       "  text-align: left;\n",
       "  /* unfitted */\n",
       "  background-color: var(--sklearn-color-unfitted-level-0);\n",
       "}\n",
       "\n",
       "#sk-container-id-2 div.sk-toggleable__content.fitted {\n",
       "  /* fitted */\n",
       "  background-color: var(--sklearn-color-fitted-level-0);\n",
       "}\n",
       "\n",
       "#sk-container-id-2 div.sk-toggleable__content pre {\n",
       "  margin: 0.2em;\n",
       "  border-radius: 0.25em;\n",
       "  color: var(--sklearn-color-text);\n",
       "  /* unfitted */\n",
       "  background-color: var(--sklearn-color-unfitted-level-0);\n",
       "}\n",
       "\n",
       "#sk-container-id-2 div.sk-toggleable__content.fitted pre {\n",
       "  /* unfitted */\n",
       "  background-color: var(--sklearn-color-fitted-level-0);\n",
       "}\n",
       "\n",
       "#sk-container-id-2 input.sk-toggleable__control:checked~div.sk-toggleable__content {\n",
       "  /* Expand drop-down */\n",
       "  max-height: 200px;\n",
       "  max-width: 100%;\n",
       "  overflow: auto;\n",
       "}\n",
       "\n",
       "#sk-container-id-2 input.sk-toggleable__control:checked~label.sk-toggleable__label-arrow:before {\n",
       "  content: \"▾\";\n",
       "}\n",
       "\n",
       "/* Pipeline/ColumnTransformer-specific style */\n",
       "\n",
       "#sk-container-id-2 div.sk-label input.sk-toggleable__control:checked~label.sk-toggleable__label {\n",
       "  color: var(--sklearn-color-text);\n",
       "  background-color: var(--sklearn-color-unfitted-level-2);\n",
       "}\n",
       "\n",
       "#sk-container-id-2 div.sk-label.fitted input.sk-toggleable__control:checked~label.sk-toggleable__label {\n",
       "  background-color: var(--sklearn-color-fitted-level-2);\n",
       "}\n",
       "\n",
       "/* Estimator-specific style */\n",
       "\n",
       "/* Colorize estimator box */\n",
       "#sk-container-id-2 div.sk-estimator input.sk-toggleable__control:checked~label.sk-toggleable__label {\n",
       "  /* unfitted */\n",
       "  background-color: var(--sklearn-color-unfitted-level-2);\n",
       "}\n",
       "\n",
       "#sk-container-id-2 div.sk-estimator.fitted input.sk-toggleable__control:checked~label.sk-toggleable__label {\n",
       "  /* fitted */\n",
       "  background-color: var(--sklearn-color-fitted-level-2);\n",
       "}\n",
       "\n",
       "#sk-container-id-2 div.sk-label label.sk-toggleable__label,\n",
       "#sk-container-id-2 div.sk-label label {\n",
       "  /* The background is the default theme color */\n",
       "  color: var(--sklearn-color-text-on-default-background);\n",
       "}\n",
       "\n",
       "/* On hover, darken the color of the background */\n",
       "#sk-container-id-2 div.sk-label:hover label.sk-toggleable__label {\n",
       "  color: var(--sklearn-color-text);\n",
       "  background-color: var(--sklearn-color-unfitted-level-2);\n",
       "}\n",
       "\n",
       "/* Label box, darken color on hover, fitted */\n",
       "#sk-container-id-2 div.sk-label.fitted:hover label.sk-toggleable__label.fitted {\n",
       "  color: var(--sklearn-color-text);\n",
       "  background-color: var(--sklearn-color-fitted-level-2);\n",
       "}\n",
       "\n",
       "/* Estimator label */\n",
       "\n",
       "#sk-container-id-2 div.sk-label label {\n",
       "  font-family: monospace;\n",
       "  font-weight: bold;\n",
       "  display: inline-block;\n",
       "  line-height: 1.2em;\n",
       "}\n",
       "\n",
       "#sk-container-id-2 div.sk-label-container {\n",
       "  text-align: center;\n",
       "}\n",
       "\n",
       "/* Estimator-specific */\n",
       "#sk-container-id-2 div.sk-estimator {\n",
       "  font-family: monospace;\n",
       "  border: 1px dotted var(--sklearn-color-border-box);\n",
       "  border-radius: 0.25em;\n",
       "  box-sizing: border-box;\n",
       "  margin-bottom: 0.5em;\n",
       "  /* unfitted */\n",
       "  background-color: var(--sklearn-color-unfitted-level-0);\n",
       "}\n",
       "\n",
       "#sk-container-id-2 div.sk-estimator.fitted {\n",
       "  /* fitted */\n",
       "  background-color: var(--sklearn-color-fitted-level-0);\n",
       "}\n",
       "\n",
       "/* on hover */\n",
       "#sk-container-id-2 div.sk-estimator:hover {\n",
       "  /* unfitted */\n",
       "  background-color: var(--sklearn-color-unfitted-level-2);\n",
       "}\n",
       "\n",
       "#sk-container-id-2 div.sk-estimator.fitted:hover {\n",
       "  /* fitted */\n",
       "  background-color: var(--sklearn-color-fitted-level-2);\n",
       "}\n",
       "\n",
       "/* Specification for estimator info (e.g. \"i\" and \"?\") */\n",
       "\n",
       "/* Common style for \"i\" and \"?\" */\n",
       "\n",
       ".sk-estimator-doc-link,\n",
       "a:link.sk-estimator-doc-link,\n",
       "a:visited.sk-estimator-doc-link {\n",
       "  float: right;\n",
       "  font-size: smaller;\n",
       "  line-height: 1em;\n",
       "  font-family: monospace;\n",
       "  background-color: var(--sklearn-color-background);\n",
       "  border-radius: 1em;\n",
       "  height: 1em;\n",
       "  width: 1em;\n",
       "  text-decoration: none !important;\n",
       "  margin-left: 0.5em;\n",
       "  text-align: center;\n",
       "  /* unfitted */\n",
       "  border: var(--sklearn-color-unfitted-level-1) 1pt solid;\n",
       "  color: var(--sklearn-color-unfitted-level-1);\n",
       "}\n",
       "\n",
       ".sk-estimator-doc-link.fitted,\n",
       "a:link.sk-estimator-doc-link.fitted,\n",
       "a:visited.sk-estimator-doc-link.fitted {\n",
       "  /* fitted */\n",
       "  border: var(--sklearn-color-fitted-level-1) 1pt solid;\n",
       "  color: var(--sklearn-color-fitted-level-1);\n",
       "}\n",
       "\n",
       "/* On hover */\n",
       "div.sk-estimator:hover .sk-estimator-doc-link:hover,\n",
       ".sk-estimator-doc-link:hover,\n",
       "div.sk-label-container:hover .sk-estimator-doc-link:hover,\n",
       ".sk-estimator-doc-link:hover {\n",
       "  /* unfitted */\n",
       "  background-color: var(--sklearn-color-unfitted-level-3);\n",
       "  color: var(--sklearn-color-background);\n",
       "  text-decoration: none;\n",
       "}\n",
       "\n",
       "div.sk-estimator.fitted:hover .sk-estimator-doc-link.fitted:hover,\n",
       ".sk-estimator-doc-link.fitted:hover,\n",
       "div.sk-label-container:hover .sk-estimator-doc-link.fitted:hover,\n",
       ".sk-estimator-doc-link.fitted:hover {\n",
       "  /* fitted */\n",
       "  background-color: var(--sklearn-color-fitted-level-3);\n",
       "  color: var(--sklearn-color-background);\n",
       "  text-decoration: none;\n",
       "}\n",
       "\n",
       "/* Span, style for the box shown on hovering the info icon */\n",
       ".sk-estimator-doc-link span {\n",
       "  display: none;\n",
       "  z-index: 9999;\n",
       "  position: relative;\n",
       "  font-weight: normal;\n",
       "  right: .2ex;\n",
       "  padding: .5ex;\n",
       "  margin: .5ex;\n",
       "  width: min-content;\n",
       "  min-width: 20ex;\n",
       "  max-width: 50ex;\n",
       "  color: var(--sklearn-color-text);\n",
       "  box-shadow: 2pt 2pt 4pt #999;\n",
       "  /* unfitted */\n",
       "  background: var(--sklearn-color-unfitted-level-0);\n",
       "  border: .5pt solid var(--sklearn-color-unfitted-level-3);\n",
       "}\n",
       "\n",
       ".sk-estimator-doc-link.fitted span {\n",
       "  /* fitted */\n",
       "  background: var(--sklearn-color-fitted-level-0);\n",
       "  border: var(--sklearn-color-fitted-level-3);\n",
       "}\n",
       "\n",
       ".sk-estimator-doc-link:hover span {\n",
       "  display: block;\n",
       "}\n",
       "\n",
       "/* \"?\"-specific style due to the `<a>` HTML tag */\n",
       "\n",
       "#sk-container-id-2 a.estimator_doc_link {\n",
       "  float: right;\n",
       "  font-size: 1rem;\n",
       "  line-height: 1em;\n",
       "  font-family: monospace;\n",
       "  background-color: var(--sklearn-color-background);\n",
       "  border-radius: 1rem;\n",
       "  height: 1rem;\n",
       "  width: 1rem;\n",
       "  text-decoration: none;\n",
       "  /* unfitted */\n",
       "  color: var(--sklearn-color-unfitted-level-1);\n",
       "  border: var(--sklearn-color-unfitted-level-1) 1pt solid;\n",
       "}\n",
       "\n",
       "#sk-container-id-2 a.estimator_doc_link.fitted {\n",
       "  /* fitted */\n",
       "  border: var(--sklearn-color-fitted-level-1) 1pt solid;\n",
       "  color: var(--sklearn-color-fitted-level-1);\n",
       "}\n",
       "\n",
       "/* On hover */\n",
       "#sk-container-id-2 a.estimator_doc_link:hover {\n",
       "  /* unfitted */\n",
       "  background-color: var(--sklearn-color-unfitted-level-3);\n",
       "  color: var(--sklearn-color-background);\n",
       "  text-decoration: none;\n",
       "}\n",
       "\n",
       "#sk-container-id-2 a.estimator_doc_link.fitted:hover {\n",
       "  /* fitted */\n",
       "  background-color: var(--sklearn-color-fitted-level-3);\n",
       "}\n",
       "</style><div id=\"sk-container-id-2\" class=\"sk-top-container\"><div class=\"sk-text-repr-fallback\"><pre>StackingClassifier(estimators=[(&#x27;rf&#x27;,\n",
       "                                RandomForestClassifier(n_estimators=200,\n",
       "                                                       random_state=42)),\n",
       "                               (&#x27;xgb&#x27;,\n",
       "                                XGBClassifier(base_score=None, booster=None,\n",
       "                                              callbacks=None,\n",
       "                                              colsample_bylevel=None,\n",
       "                                              colsample_bynode=None,\n",
       "                                              colsample_bytree=None,\n",
       "                                              device=None,\n",
       "                                              early_stopping_rounds=None,\n",
       "                                              enable_categorical=False,\n",
       "                                              eval_metric=None,\n",
       "                                              feature_types=None, gamma=None,\n",
       "                                              grow_policy=...\n",
       "                                              interaction_constraints=None,\n",
       "                                              learning_rate=0.1, max_bin=None,\n",
       "                                              max_cat_threshold=None,\n",
       "                                              max_cat_to_onehot=None,\n",
       "                                              max_delta_step=None,\n",
       "                                              max_depth=None, max_leaves=None,\n",
       "                                              min_child_weight=None,\n",
       "                                              missing=nan,\n",
       "                                              monotone_constraints=None,\n",
       "                                              multi_strategy=None,\n",
       "                                              n_estimators=100, n_jobs=None,\n",
       "                                              num_parallel_tree=None,\n",
       "                                              random_state=42, ...))],\n",
       "                   final_estimator=GradientBoostingClassifier())</pre><b>In a Jupyter environment, please rerun this cell to show the HTML representation or trust the notebook. <br />On GitHub, the HTML representation is unable to render, please try loading this page with nbviewer.org.</b></div><div class=\"sk-container\" hidden><div class=\"sk-item sk-dashed-wrapped\"><div class=\"sk-label-container\"><div class=\"sk-label fitted sk-toggleable\"><input class=\"sk-toggleable__control sk-hidden--visually\" id=\"sk-estimator-id-5\" type=\"checkbox\" ><label for=\"sk-estimator-id-5\" class=\"sk-toggleable__label fitted sk-toggleable__label-arrow\"><div><div>StackingClassifier</div></div><div><a class=\"sk-estimator-doc-link fitted\" rel=\"noreferrer\" target=\"_blank\" href=\"https://scikit-learn.org/1.6/modules/generated/sklearn.ensemble.StackingClassifier.html\">?<span>Documentation for StackingClassifier</span></a><span class=\"sk-estimator-doc-link fitted\">i<span>Fitted</span></span></div></label><div class=\"sk-toggleable__content fitted\"><pre>StackingClassifier(estimators=[(&#x27;rf&#x27;,\n",
       "                                RandomForestClassifier(n_estimators=200,\n",
       "                                                       random_state=42)),\n",
       "                               (&#x27;xgb&#x27;,\n",
       "                                XGBClassifier(base_score=None, booster=None,\n",
       "                                              callbacks=None,\n",
       "                                              colsample_bylevel=None,\n",
       "                                              colsample_bynode=None,\n",
       "                                              colsample_bytree=None,\n",
       "                                              device=None,\n",
       "                                              early_stopping_rounds=None,\n",
       "                                              enable_categorical=False,\n",
       "                                              eval_metric=None,\n",
       "                                              feature_types=None, gamma=None,\n",
       "                                              grow_policy=...\n",
       "                                              interaction_constraints=None,\n",
       "                                              learning_rate=0.1, max_bin=None,\n",
       "                                              max_cat_threshold=None,\n",
       "                                              max_cat_to_onehot=None,\n",
       "                                              max_delta_step=None,\n",
       "                                              max_depth=None, max_leaves=None,\n",
       "                                              min_child_weight=None,\n",
       "                                              missing=nan,\n",
       "                                              monotone_constraints=None,\n",
       "                                              multi_strategy=None,\n",
       "                                              n_estimators=100, n_jobs=None,\n",
       "                                              num_parallel_tree=None,\n",
       "                                              random_state=42, ...))],\n",
       "                   final_estimator=GradientBoostingClassifier())</pre></div> </div></div><div class=\"sk-serial\"><div class=\"sk-item\"><div class=\"sk-parallel\"><div class=\"sk-parallel-item\"><div class=\"sk-item\"><div class=\"sk-label-container\"><div class=\"sk-label fitted sk-toggleable\"><label>rf</label></div></div><div class=\"sk-serial\"><div class=\"sk-item\"><div class=\"sk-estimator fitted sk-toggleable\"><input class=\"sk-toggleable__control sk-hidden--visually\" id=\"sk-estimator-id-6\" type=\"checkbox\" ><label for=\"sk-estimator-id-6\" class=\"sk-toggleable__label fitted sk-toggleable__label-arrow\"><div><div>RandomForestClassifier</div></div><div><a class=\"sk-estimator-doc-link fitted\" rel=\"noreferrer\" target=\"_blank\" href=\"https://scikit-learn.org/1.6/modules/generated/sklearn.ensemble.RandomForestClassifier.html\">?<span>Documentation for RandomForestClassifier</span></a></div></label><div class=\"sk-toggleable__content fitted\"><pre>RandomForestClassifier(n_estimators=200, random_state=42)</pre></div> </div></div></div></div></div><div class=\"sk-parallel-item\"><div class=\"sk-item\"><div class=\"sk-label-container\"><div class=\"sk-label fitted sk-toggleable\"><label>xgb</label></div></div><div class=\"sk-serial\"><div class=\"sk-item\"><div class=\"sk-estimator fitted sk-toggleable\"><input class=\"sk-toggleable__control sk-hidden--visually\" id=\"sk-estimator-id-7\" type=\"checkbox\" ><label for=\"sk-estimator-id-7\" class=\"sk-toggleable__label fitted sk-toggleable__label-arrow\"><div><div>XGBClassifier</div></div></label><div class=\"sk-toggleable__content fitted\"><pre>XGBClassifier(base_score=None, booster=None, callbacks=None,\n",
       "              colsample_bylevel=None, colsample_bynode=None,\n",
       "              colsample_bytree=None, device=None, early_stopping_rounds=None,\n",
       "              enable_categorical=False, eval_metric=None, feature_types=None,\n",
       "              gamma=None, grow_policy=None, importance_type=None,\n",
       "              interaction_constraints=None, learning_rate=0.1, max_bin=None,\n",
       "              max_cat_threshold=None, max_cat_to_onehot=None,\n",
       "              max_delta_step=None, max_depth=None, max_leaves=None,\n",
       "              min_child_weight=None, missing=nan, monotone_constraints=None,\n",
       "              multi_strategy=None, n_estimators=100, n_jobs=None,\n",
       "              num_parallel_tree=None, random_state=42, ...)</pre></div> </div></div></div></div></div></div></div><div class=\"sk-item\"><div class=\"sk-parallel\"><div class=\"sk-parallel-item\"><div class=\"sk-item\"><div class=\"sk-label-container\"><div class=\"sk-label fitted sk-toggleable\"><label>final_estimator</label></div></div><div class=\"sk-serial\"><div class=\"sk-item\"><div class=\"sk-estimator fitted sk-toggleable\"><input class=\"sk-toggleable__control sk-hidden--visually\" id=\"sk-estimator-id-8\" type=\"checkbox\" ><label for=\"sk-estimator-id-8\" class=\"sk-toggleable__label fitted sk-toggleable__label-arrow\"><div><div>GradientBoostingClassifier</div></div><div><a class=\"sk-estimator-doc-link fitted\" rel=\"noreferrer\" target=\"_blank\" href=\"https://scikit-learn.org/1.6/modules/generated/sklearn.ensemble.GradientBoostingClassifier.html\">?<span>Documentation for GradientBoostingClassifier</span></a></div></label><div class=\"sk-toggleable__content fitted\"><pre>GradientBoostingClassifier()</pre></div> </div></div></div></div></div></div></div></div></div></div></div>"
      ],
      "text/plain": [
       "StackingClassifier(estimators=[('rf',\n",
       "                                RandomForestClassifier(n_estimators=200,\n",
       "                                                       random_state=42)),\n",
       "                               ('xgb',\n",
       "                                XGBClassifier(base_score=None, booster=None,\n",
       "                                              callbacks=None,\n",
       "                                              colsample_bylevel=None,\n",
       "                                              colsample_bynode=None,\n",
       "                                              colsample_bytree=None,\n",
       "                                              device=None,\n",
       "                                              early_stopping_rounds=None,\n",
       "                                              enable_categorical=False,\n",
       "                                              eval_metric=None,\n",
       "                                              feature_types=None, gamma=None,\n",
       "                                              grow_policy=...\n",
       "                                              interaction_constraints=None,\n",
       "                                              learning_rate=0.1, max_bin=None,\n",
       "                                              max_cat_threshold=None,\n",
       "                                              max_cat_to_onehot=None,\n",
       "                                              max_delta_step=None,\n",
       "                                              max_depth=None, max_leaves=None,\n",
       "                                              min_child_weight=None,\n",
       "                                              missing=nan,\n",
       "                                              monotone_constraints=None,\n",
       "                                              multi_strategy=None,\n",
       "                                              n_estimators=100, n_jobs=None,\n",
       "                                              num_parallel_tree=None,\n",
       "                                              random_state=42, ...))],\n",
       "                   final_estimator=GradientBoostingClassifier())"
      ]
     },
     "execution_count": 174,
     "metadata": {},
     "output_type": "execute_result"
    }
   ],
   "source": [
    "from sklearn.ensemble import GradientBoostingClassifier\n",
    "\n",
    "stacked_clf = StackingClassifier(\n",
    "    estimators=estimators, final_estimator=GradientBoostingClassifier()\n",
    ")\n",
    "stacked_clf.fit(X_train_balanced, y_train_balanced)"
   ]
  },
  {
   "cell_type": "code",
   "execution_count": 175,
   "metadata": {},
   "outputs": [
    {
     "data": {
      "text/html": [
       "<style>#sk-container-id-3 {\n",
       "  /* Definition of color scheme common for light and dark mode */\n",
       "  --sklearn-color-text: #000;\n",
       "  --sklearn-color-text-muted: #666;\n",
       "  --sklearn-color-line: gray;\n",
       "  /* Definition of color scheme for unfitted estimators */\n",
       "  --sklearn-color-unfitted-level-0: #fff5e6;\n",
       "  --sklearn-color-unfitted-level-1: #f6e4d2;\n",
       "  --sklearn-color-unfitted-level-2: #ffe0b3;\n",
       "  --sklearn-color-unfitted-level-3: chocolate;\n",
       "  /* Definition of color scheme for fitted estimators */\n",
       "  --sklearn-color-fitted-level-0: #f0f8ff;\n",
       "  --sklearn-color-fitted-level-1: #d4ebff;\n",
       "  --sklearn-color-fitted-level-2: #b3dbfd;\n",
       "  --sklearn-color-fitted-level-3: cornflowerblue;\n",
       "\n",
       "  /* Specific color for light theme */\n",
       "  --sklearn-color-text-on-default-background: var(--sg-text-color, var(--theme-code-foreground, var(--jp-content-font-color1, black)));\n",
       "  --sklearn-color-background: var(--sg-background-color, var(--theme-background, var(--jp-layout-color0, white)));\n",
       "  --sklearn-color-border-box: var(--sg-text-color, var(--theme-code-foreground, var(--jp-content-font-color1, black)));\n",
       "  --sklearn-color-icon: #696969;\n",
       "\n",
       "  @media (prefers-color-scheme: dark) {\n",
       "    /* Redefinition of color scheme for dark theme */\n",
       "    --sklearn-color-text-on-default-background: var(--sg-text-color, var(--theme-code-foreground, var(--jp-content-font-color1, white)));\n",
       "    --sklearn-color-background: var(--sg-background-color, var(--theme-background, var(--jp-layout-color0, #111)));\n",
       "    --sklearn-color-border-box: var(--sg-text-color, var(--theme-code-foreground, var(--jp-content-font-color1, white)));\n",
       "    --sklearn-color-icon: #878787;\n",
       "  }\n",
       "}\n",
       "\n",
       "#sk-container-id-3 {\n",
       "  color: var(--sklearn-color-text);\n",
       "}\n",
       "\n",
       "#sk-container-id-3 pre {\n",
       "  padding: 0;\n",
       "}\n",
       "\n",
       "#sk-container-id-3 input.sk-hidden--visually {\n",
       "  border: 0;\n",
       "  clip: rect(1px 1px 1px 1px);\n",
       "  clip: rect(1px, 1px, 1px, 1px);\n",
       "  height: 1px;\n",
       "  margin: -1px;\n",
       "  overflow: hidden;\n",
       "  padding: 0;\n",
       "  position: absolute;\n",
       "  width: 1px;\n",
       "}\n",
       "\n",
       "#sk-container-id-3 div.sk-dashed-wrapped {\n",
       "  border: 1px dashed var(--sklearn-color-line);\n",
       "  margin: 0 0.4em 0.5em 0.4em;\n",
       "  box-sizing: border-box;\n",
       "  padding-bottom: 0.4em;\n",
       "  background-color: var(--sklearn-color-background);\n",
       "}\n",
       "\n",
       "#sk-container-id-3 div.sk-container {\n",
       "  /* jupyter's `normalize.less` sets `[hidden] { display: none; }`\n",
       "     but bootstrap.min.css set `[hidden] { display: none !important; }`\n",
       "     so we also need the `!important` here to be able to override the\n",
       "     default hidden behavior on the sphinx rendered scikit-learn.org.\n",
       "     See: https://github.com/scikit-learn/scikit-learn/issues/21755 */\n",
       "  display: inline-block !important;\n",
       "  position: relative;\n",
       "}\n",
       "\n",
       "#sk-container-id-3 div.sk-text-repr-fallback {\n",
       "  display: none;\n",
       "}\n",
       "\n",
       "div.sk-parallel-item,\n",
       "div.sk-serial,\n",
       "div.sk-item {\n",
       "  /* draw centered vertical line to link estimators */\n",
       "  background-image: linear-gradient(var(--sklearn-color-text-on-default-background), var(--sklearn-color-text-on-default-background));\n",
       "  background-size: 2px 100%;\n",
       "  background-repeat: no-repeat;\n",
       "  background-position: center center;\n",
       "}\n",
       "\n",
       "/* Parallel-specific style estimator block */\n",
       "\n",
       "#sk-container-id-3 div.sk-parallel-item::after {\n",
       "  content: \"\";\n",
       "  width: 100%;\n",
       "  border-bottom: 2px solid var(--sklearn-color-text-on-default-background);\n",
       "  flex-grow: 1;\n",
       "}\n",
       "\n",
       "#sk-container-id-3 div.sk-parallel {\n",
       "  display: flex;\n",
       "  align-items: stretch;\n",
       "  justify-content: center;\n",
       "  background-color: var(--sklearn-color-background);\n",
       "  position: relative;\n",
       "}\n",
       "\n",
       "#sk-container-id-3 div.sk-parallel-item {\n",
       "  display: flex;\n",
       "  flex-direction: column;\n",
       "}\n",
       "\n",
       "#sk-container-id-3 div.sk-parallel-item:first-child::after {\n",
       "  align-self: flex-end;\n",
       "  width: 50%;\n",
       "}\n",
       "\n",
       "#sk-container-id-3 div.sk-parallel-item:last-child::after {\n",
       "  align-self: flex-start;\n",
       "  width: 50%;\n",
       "}\n",
       "\n",
       "#sk-container-id-3 div.sk-parallel-item:only-child::after {\n",
       "  width: 0;\n",
       "}\n",
       "\n",
       "/* Serial-specific style estimator block */\n",
       "\n",
       "#sk-container-id-3 div.sk-serial {\n",
       "  display: flex;\n",
       "  flex-direction: column;\n",
       "  align-items: center;\n",
       "  background-color: var(--sklearn-color-background);\n",
       "  padding-right: 1em;\n",
       "  padding-left: 1em;\n",
       "}\n",
       "\n",
       "\n",
       "/* Toggleable style: style used for estimator/Pipeline/ColumnTransformer box that is\n",
       "clickable and can be expanded/collapsed.\n",
       "- Pipeline and ColumnTransformer use this feature and define the default style\n",
       "- Estimators will overwrite some part of the style using the `sk-estimator` class\n",
       "*/\n",
       "\n",
       "/* Pipeline and ColumnTransformer style (default) */\n",
       "\n",
       "#sk-container-id-3 div.sk-toggleable {\n",
       "  /* Default theme specific background. It is overwritten whether we have a\n",
       "  specific estimator or a Pipeline/ColumnTransformer */\n",
       "  background-color: var(--sklearn-color-background);\n",
       "}\n",
       "\n",
       "/* Toggleable label */\n",
       "#sk-container-id-3 label.sk-toggleable__label {\n",
       "  cursor: pointer;\n",
       "  display: flex;\n",
       "  width: 100%;\n",
       "  margin-bottom: 0;\n",
       "  padding: 0.5em;\n",
       "  box-sizing: border-box;\n",
       "  text-align: center;\n",
       "  align-items: start;\n",
       "  justify-content: space-between;\n",
       "  gap: 0.5em;\n",
       "}\n",
       "\n",
       "#sk-container-id-3 label.sk-toggleable__label .caption {\n",
       "  font-size: 0.6rem;\n",
       "  font-weight: lighter;\n",
       "  color: var(--sklearn-color-text-muted);\n",
       "}\n",
       "\n",
       "#sk-container-id-3 label.sk-toggleable__label-arrow:before {\n",
       "  /* Arrow on the left of the label */\n",
       "  content: \"▸\";\n",
       "  float: left;\n",
       "  margin-right: 0.25em;\n",
       "  color: var(--sklearn-color-icon);\n",
       "}\n",
       "\n",
       "#sk-container-id-3 label.sk-toggleable__label-arrow:hover:before {\n",
       "  color: var(--sklearn-color-text);\n",
       "}\n",
       "\n",
       "/* Toggleable content - dropdown */\n",
       "\n",
       "#sk-container-id-3 div.sk-toggleable__content {\n",
       "  max-height: 0;\n",
       "  max-width: 0;\n",
       "  overflow: hidden;\n",
       "  text-align: left;\n",
       "  /* unfitted */\n",
       "  background-color: var(--sklearn-color-unfitted-level-0);\n",
       "}\n",
       "\n",
       "#sk-container-id-3 div.sk-toggleable__content.fitted {\n",
       "  /* fitted */\n",
       "  background-color: var(--sklearn-color-fitted-level-0);\n",
       "}\n",
       "\n",
       "#sk-container-id-3 div.sk-toggleable__content pre {\n",
       "  margin: 0.2em;\n",
       "  border-radius: 0.25em;\n",
       "  color: var(--sklearn-color-text);\n",
       "  /* unfitted */\n",
       "  background-color: var(--sklearn-color-unfitted-level-0);\n",
       "}\n",
       "\n",
       "#sk-container-id-3 div.sk-toggleable__content.fitted pre {\n",
       "  /* unfitted */\n",
       "  background-color: var(--sklearn-color-fitted-level-0);\n",
       "}\n",
       "\n",
       "#sk-container-id-3 input.sk-toggleable__control:checked~div.sk-toggleable__content {\n",
       "  /* Expand drop-down */\n",
       "  max-height: 200px;\n",
       "  max-width: 100%;\n",
       "  overflow: auto;\n",
       "}\n",
       "\n",
       "#sk-container-id-3 input.sk-toggleable__control:checked~label.sk-toggleable__label-arrow:before {\n",
       "  content: \"▾\";\n",
       "}\n",
       "\n",
       "/* Pipeline/ColumnTransformer-specific style */\n",
       "\n",
       "#sk-container-id-3 div.sk-label input.sk-toggleable__control:checked~label.sk-toggleable__label {\n",
       "  color: var(--sklearn-color-text);\n",
       "  background-color: var(--sklearn-color-unfitted-level-2);\n",
       "}\n",
       "\n",
       "#sk-container-id-3 div.sk-label.fitted input.sk-toggleable__control:checked~label.sk-toggleable__label {\n",
       "  background-color: var(--sklearn-color-fitted-level-2);\n",
       "}\n",
       "\n",
       "/* Estimator-specific style */\n",
       "\n",
       "/* Colorize estimator box */\n",
       "#sk-container-id-3 div.sk-estimator input.sk-toggleable__control:checked~label.sk-toggleable__label {\n",
       "  /* unfitted */\n",
       "  background-color: var(--sklearn-color-unfitted-level-2);\n",
       "}\n",
       "\n",
       "#sk-container-id-3 div.sk-estimator.fitted input.sk-toggleable__control:checked~label.sk-toggleable__label {\n",
       "  /* fitted */\n",
       "  background-color: var(--sklearn-color-fitted-level-2);\n",
       "}\n",
       "\n",
       "#sk-container-id-3 div.sk-label label.sk-toggleable__label,\n",
       "#sk-container-id-3 div.sk-label label {\n",
       "  /* The background is the default theme color */\n",
       "  color: var(--sklearn-color-text-on-default-background);\n",
       "}\n",
       "\n",
       "/* On hover, darken the color of the background */\n",
       "#sk-container-id-3 div.sk-label:hover label.sk-toggleable__label {\n",
       "  color: var(--sklearn-color-text);\n",
       "  background-color: var(--sklearn-color-unfitted-level-2);\n",
       "}\n",
       "\n",
       "/* Label box, darken color on hover, fitted */\n",
       "#sk-container-id-3 div.sk-label.fitted:hover label.sk-toggleable__label.fitted {\n",
       "  color: var(--sklearn-color-text);\n",
       "  background-color: var(--sklearn-color-fitted-level-2);\n",
       "}\n",
       "\n",
       "/* Estimator label */\n",
       "\n",
       "#sk-container-id-3 div.sk-label label {\n",
       "  font-family: monospace;\n",
       "  font-weight: bold;\n",
       "  display: inline-block;\n",
       "  line-height: 1.2em;\n",
       "}\n",
       "\n",
       "#sk-container-id-3 div.sk-label-container {\n",
       "  text-align: center;\n",
       "}\n",
       "\n",
       "/* Estimator-specific */\n",
       "#sk-container-id-3 div.sk-estimator {\n",
       "  font-family: monospace;\n",
       "  border: 1px dotted var(--sklearn-color-border-box);\n",
       "  border-radius: 0.25em;\n",
       "  box-sizing: border-box;\n",
       "  margin-bottom: 0.5em;\n",
       "  /* unfitted */\n",
       "  background-color: var(--sklearn-color-unfitted-level-0);\n",
       "}\n",
       "\n",
       "#sk-container-id-3 div.sk-estimator.fitted {\n",
       "  /* fitted */\n",
       "  background-color: var(--sklearn-color-fitted-level-0);\n",
       "}\n",
       "\n",
       "/* on hover */\n",
       "#sk-container-id-3 div.sk-estimator:hover {\n",
       "  /* unfitted */\n",
       "  background-color: var(--sklearn-color-unfitted-level-2);\n",
       "}\n",
       "\n",
       "#sk-container-id-3 div.sk-estimator.fitted:hover {\n",
       "  /* fitted */\n",
       "  background-color: var(--sklearn-color-fitted-level-2);\n",
       "}\n",
       "\n",
       "/* Specification for estimator info (e.g. \"i\" and \"?\") */\n",
       "\n",
       "/* Common style for \"i\" and \"?\" */\n",
       "\n",
       ".sk-estimator-doc-link,\n",
       "a:link.sk-estimator-doc-link,\n",
       "a:visited.sk-estimator-doc-link {\n",
       "  float: right;\n",
       "  font-size: smaller;\n",
       "  line-height: 1em;\n",
       "  font-family: monospace;\n",
       "  background-color: var(--sklearn-color-background);\n",
       "  border-radius: 1em;\n",
       "  height: 1em;\n",
       "  width: 1em;\n",
       "  text-decoration: none !important;\n",
       "  margin-left: 0.5em;\n",
       "  text-align: center;\n",
       "  /* unfitted */\n",
       "  border: var(--sklearn-color-unfitted-level-1) 1pt solid;\n",
       "  color: var(--sklearn-color-unfitted-level-1);\n",
       "}\n",
       "\n",
       ".sk-estimator-doc-link.fitted,\n",
       "a:link.sk-estimator-doc-link.fitted,\n",
       "a:visited.sk-estimator-doc-link.fitted {\n",
       "  /* fitted */\n",
       "  border: var(--sklearn-color-fitted-level-1) 1pt solid;\n",
       "  color: var(--sklearn-color-fitted-level-1);\n",
       "}\n",
       "\n",
       "/* On hover */\n",
       "div.sk-estimator:hover .sk-estimator-doc-link:hover,\n",
       ".sk-estimator-doc-link:hover,\n",
       "div.sk-label-container:hover .sk-estimator-doc-link:hover,\n",
       ".sk-estimator-doc-link:hover {\n",
       "  /* unfitted */\n",
       "  background-color: var(--sklearn-color-unfitted-level-3);\n",
       "  color: var(--sklearn-color-background);\n",
       "  text-decoration: none;\n",
       "}\n",
       "\n",
       "div.sk-estimator.fitted:hover .sk-estimator-doc-link.fitted:hover,\n",
       ".sk-estimator-doc-link.fitted:hover,\n",
       "div.sk-label-container:hover .sk-estimator-doc-link.fitted:hover,\n",
       ".sk-estimator-doc-link.fitted:hover {\n",
       "  /* fitted */\n",
       "  background-color: var(--sklearn-color-fitted-level-3);\n",
       "  color: var(--sklearn-color-background);\n",
       "  text-decoration: none;\n",
       "}\n",
       "\n",
       "/* Span, style for the box shown on hovering the info icon */\n",
       ".sk-estimator-doc-link span {\n",
       "  display: none;\n",
       "  z-index: 9999;\n",
       "  position: relative;\n",
       "  font-weight: normal;\n",
       "  right: .2ex;\n",
       "  padding: .5ex;\n",
       "  margin: .5ex;\n",
       "  width: min-content;\n",
       "  min-width: 20ex;\n",
       "  max-width: 50ex;\n",
       "  color: var(--sklearn-color-text);\n",
       "  box-shadow: 2pt 2pt 4pt #999;\n",
       "  /* unfitted */\n",
       "  background: var(--sklearn-color-unfitted-level-0);\n",
       "  border: .5pt solid var(--sklearn-color-unfitted-level-3);\n",
       "}\n",
       "\n",
       ".sk-estimator-doc-link.fitted span {\n",
       "  /* fitted */\n",
       "  background: var(--sklearn-color-fitted-level-0);\n",
       "  border: var(--sklearn-color-fitted-level-3);\n",
       "}\n",
       "\n",
       ".sk-estimator-doc-link:hover span {\n",
       "  display: block;\n",
       "}\n",
       "\n",
       "/* \"?\"-specific style due to the `<a>` HTML tag */\n",
       "\n",
       "#sk-container-id-3 a.estimator_doc_link {\n",
       "  float: right;\n",
       "  font-size: 1rem;\n",
       "  line-height: 1em;\n",
       "  font-family: monospace;\n",
       "  background-color: var(--sklearn-color-background);\n",
       "  border-radius: 1rem;\n",
       "  height: 1rem;\n",
       "  width: 1rem;\n",
       "  text-decoration: none;\n",
       "  /* unfitted */\n",
       "  color: var(--sklearn-color-unfitted-level-1);\n",
       "  border: var(--sklearn-color-unfitted-level-1) 1pt solid;\n",
       "}\n",
       "\n",
       "#sk-container-id-3 a.estimator_doc_link.fitted {\n",
       "  /* fitted */\n",
       "  border: var(--sklearn-color-fitted-level-1) 1pt solid;\n",
       "  color: var(--sklearn-color-fitted-level-1);\n",
       "}\n",
       "\n",
       "/* On hover */\n",
       "#sk-container-id-3 a.estimator_doc_link:hover {\n",
       "  /* unfitted */\n",
       "  background-color: var(--sklearn-color-unfitted-level-3);\n",
       "  color: var(--sklearn-color-background);\n",
       "  text-decoration: none;\n",
       "}\n",
       "\n",
       "#sk-container-id-3 a.estimator_doc_link.fitted:hover {\n",
       "  /* fitted */\n",
       "  background-color: var(--sklearn-color-fitted-level-3);\n",
       "}\n",
       "</style><div id=\"sk-container-id-3\" class=\"sk-top-container\"><div class=\"sk-text-repr-fallback\"><pre>RandomForestClassifier(class_weight=&#x27;balanced&#x27;, n_estimators=200,\n",
       "                       random_state=42)</pre><b>In a Jupyter environment, please rerun this cell to show the HTML representation or trust the notebook. <br />On GitHub, the HTML representation is unable to render, please try loading this page with nbviewer.org.</b></div><div class=\"sk-container\" hidden><div class=\"sk-item\"><div class=\"sk-estimator  sk-toggleable\"><input class=\"sk-toggleable__control sk-hidden--visually\" id=\"sk-estimator-id-9\" type=\"checkbox\" checked><label for=\"sk-estimator-id-9\" class=\"sk-toggleable__label  sk-toggleable__label-arrow\"><div><div>RandomForestClassifier</div></div><div><a class=\"sk-estimator-doc-link \" rel=\"noreferrer\" target=\"_blank\" href=\"https://scikit-learn.org/1.6/modules/generated/sklearn.ensemble.RandomForestClassifier.html\">?<span>Documentation for RandomForestClassifier</span></a><span class=\"sk-estimator-doc-link \">i<span>Not fitted</span></span></div></label><div class=\"sk-toggleable__content \"><pre>RandomForestClassifier(class_weight=&#x27;balanced&#x27;, n_estimators=200,\n",
       "                       random_state=42)</pre></div> </div></div></div></div>"
      ],
      "text/plain": [
       "RandomForestClassifier(class_weight='balanced', n_estimators=200,\n",
       "                       random_state=42)"
      ]
     },
     "execution_count": 175,
     "metadata": {},
     "output_type": "execute_result"
    }
   ],
   "source": [
    "RandomForestClassifier(class_weight=\"balanced\", n_estimators=200, random_state=42)"
   ]
  },
  {
   "cell_type": "code",
   "execution_count": 176,
   "metadata": {},
   "outputs": [
    {
     "name": "stdout",
     "output_type": "stream",
     "text": [
      "              precision    recall  f1-score   support\n",
      "\n",
      "           0       0.49      0.40      0.44       992\n",
      "           1       0.50      0.58      0.54      1008\n",
      "\n",
      "    accuracy                           0.49      2000\n",
      "   macro avg       0.49      0.49      0.49      2000\n",
      "weighted avg       0.49      0.49      0.49      2000\n",
      "\n"
     ]
    }
   ],
   "source": [
    "y_pred_stack = stacked_clf.predict(X_test)\n",
    "from sklearn.metrics import classification_report\n",
    "print(classification_report(y_test, y_pred_stack))"
   ]
  },
  {
   "cell_type": "code",
   "execution_count": 177,
   "metadata": {},
   "outputs": [
    {
     "name": "stdout",
     "output_type": "stream",
     "text": [
      "Feature Importances:\n",
      "Time_Between_Purchases: 0.7325\n",
      "Average_Order_Value: 0.2675\n"
     ]
    }
   ],
   "source": [
    "import numpy as np\n",
    "\n",
    "feature_importance = stacked_clf.final_estimator_.feature_importances_\n",
    "sorted_idx = np.argsort(feature_importance)[::-1]\n",
    "\n",
    "print(\"Feature Importances:\")\n",
    "for idx in sorted_idx[:10]:  # Top 10 features\n",
    "    print(f\"{X_train.columns[idx]}: {feature_importance[idx]:.4f}\")"
   ]
  },
  {
   "cell_type": "code",
   "execution_count": 178,
   "metadata": {},
   "outputs": [
    {
     "name": "stdout",
     "output_type": "stream",
     "text": [
      "              precision    recall  f1-score   support\n",
      "\n",
      "           0       0.49      0.50      0.50       992\n",
      "           1       0.50      0.49      0.49      1008\n",
      "\n",
      "    accuracy                           0.50      2000\n",
      "   macro avg       0.50      0.50      0.50      2000\n",
      "weighted avg       0.50      0.50      0.50      2000\n",
      "\n"
     ]
    }
   ],
   "source": [
    "from xgboost import XGBClassifier\n",
    "xgb = XGBClassifier(n_estimators=200, learning_rate=0.05, random_state=42)\n",
    "xgb.fit(X_train_balanced, y_train_balanced)\n",
    "y_pred_xgb = xgb.predict(X_test)\n",
    "print(classification_report(y_test, y_pred_xgb))"
   ]
  },
  {
   "cell_type": "code",
   "execution_count": 179,
   "metadata": {},
   "outputs": [
    {
     "name": "stdout",
     "output_type": "stream",
     "text": [
      "              precision    recall  f1-score   support\n",
      "\n",
      "           0       0.49      0.51      0.50       992\n",
      "           1       0.49      0.47      0.48      1008\n",
      "\n",
      "    accuracy                           0.49      2000\n",
      "   macro avg       0.49      0.49      0.49      2000\n",
      "weighted avg       0.49      0.49      0.49      2000\n",
      "\n"
     ]
    }
   ],
   "source": [
    "from sklearn.ensemble import GradientBoostingClassifier\n",
    "\n",
    "gbm = GradientBoostingClassifier(n_estimators=300, learning_rate=0.05, max_depth=4, random_state=42)\n",
    "gbm.fit(X_train_balanced, y_train_balanced)\n",
    "y_pred_gbm = gbm.predict(X_test)\n",
    "print(classification_report(y_test, y_pred_gbm))"
   ]
  },
  {
   "cell_type": "code",
   "execution_count": 180,
   "metadata": {},
   "outputs": [],
   "source": [
    "smote = SMOTE(sampling_strategy=0.8, random_state=42)"
   ]
  },
  {
   "cell_type": "code",
   "execution_count": 183,
   "metadata": {},
   "outputs": [],
   "source": [
    "from imblearn.combine import SMOTETomek\n",
    "smote_tomek = SMOTETomek(random_state=42)\n",
    "X_train_balanced, y_train_balanced = smote_tomek.fit_resample(X_train, y_train)"
   ]
  },
  {
   "cell_type": "code",
   "execution_count": 186,
   "metadata": {},
   "outputs": [
    {
     "name": "stdout",
     "output_type": "stream",
     "text": [
      "Churn                           1.000000\n",
      "engagement_score                0.023034\n",
      "customer_tenure_group_New       0.014818\n",
      "engagement_score_log            0.014308\n",
      "engagement_score_ma3            0.011777\n",
      "engagement_score_scaled         0.011097\n",
      "customer_tenure                 0.003539\n",
      "customer_tenure_group_Medium    0.000230\n",
      "Average_Order_Value            -0.001953\n",
      "Region_South America           -0.002878\n",
      "engagement_category_Medium     -0.004377\n",
      "Time_Between_Purchases         -0.005241\n",
      "engagement_category_Low        -0.008626\n",
      "Region_Europe                  -0.021015\n",
      "Name: Churn, dtype: float64\n"
     ]
    }
   ],
   "source": [
    "# Compute correlation of all features with the target variable\n",
    "correlation_matrix = X_train.copy()\n",
    "correlation_matrix[\"Churn\"] = y_train  # Add target variable to dataset\n",
    "\n",
    "# Now check correlation with 'Churn'\n",
    "print(correlation_matrix.corr()[\"Churn\"].sort_values(ascending=False))"
   ]
  },
  {
   "cell_type": "code",
   "execution_count": 187,
   "metadata": {},
   "outputs": [
    {
     "name": "stdout",
     "output_type": "stream",
     "text": [
      "Top Features:\n",
      "engagement_score_ma3: 0.2407\n",
      "Average_Order_Value: 0.2407\n",
      "Time_Between_Purchases: 0.2012\n",
      "engagement_score: 0.1224\n",
      "engagement_score_log: 0.1222\n",
      "customer_tenure: 0.0245\n",
      "Region_South America: 0.0166\n",
      "Region_Europe: 0.0131\n",
      "customer_tenure_group_Medium: 0.0098\n",
      "engagement_category_Medium: 0.0053\n"
     ]
    }
   ],
   "source": [
    "from sklearn.ensemble import RandomForestClassifier\n",
    "\n",
    "rf = RandomForestClassifier(n_estimators=100, random_state=42)\n",
    "rf.fit(X_train, y_train)\n",
    "feature_importance = rf.feature_importances_\n",
    "\n",
    "# Print top important features\n",
    "import numpy as np\n",
    "sorted_idx = np.argsort(feature_importance)[::-1]\n",
    "print(\"Top Features:\")\n",
    "for idx in sorted_idx[:10]:  # Show top 10\n",
    "    print(f\"{X_train.columns[idx]}: {feature_importance[idx]:.4f}\")"
   ]
  },
  {
   "cell_type": "code",
   "execution_count": null,
   "metadata": {},
   "outputs": [
    {
     "name": "stdout",
     "output_type": "stream",
     "text": [
      "Before: (8000, 15) After: (8000, 12)\n"
     ]
    }
   ],
   "source": [
    "X_train_reduced = X_train.drop(columns=[\"engagement_category_Medium\", \"Region_South America\", \"Region_Europe\"])\n",
    "X_test_reduced = X_test.drop(columns=[\"engagement_category_Medium\", \"Region_South America\", \"Region_Europe\"])\n",
    "\n",
    "# Check dataset shape\n",
    "print(\"Before:\", X_train.shape, \"After:\", X_train_reduced.shape)"
   ]
  },
  {
   "cell_type": "code",
   "execution_count": 199,
   "metadata": {},
   "outputs": [
    {
     "name": "stdout",
     "output_type": "stream",
     "text": [
      "       purchase_behavior\n",
      "count        8000.000000\n",
      "mean           -0.180797\n",
      "std            27.021450\n",
      "min          -420.180476\n",
      "25%            -0.830744\n",
      "50%            -0.015654\n",
      "75%             0.760409\n",
      "max           418.933373\n"
     ]
    }
   ],
   "source": [
    "X_train_reduced[\"purchase_behavior\"] = X_train_reduced[\"Average_Order_Value\"] / (X_train_reduced[\"Time_Between_Purchases\"] + 1)\n",
    "X_test_reduced[\"purchase_behavior\"] = X_test_reduced[\"Average_Order_Value\"] / (X_test_reduced[\"Time_Between_Purchases\"] + 1)\n",
    "\n",
    "# Verify new feature\n",
    "print(X_train_reduced[[\"purchase_behavior\"]].describe())"
   ]
  },
  {
   "cell_type": "code",
   "execution_count": 207,
   "metadata": {},
   "outputs": [
    {
     "name": "stdout",
     "output_type": "stream",
     "text": [
      "      Time_Between_Purchases  Time_Between_Purchases_log\n",
      "6896               -0.963522                    1.003406\n",
      "8231                0.895789                    1.523197\n",
      "4211               -0.397645                    1.191931\n",
      "1468               -1.448560                    0.807600\n",
      "9731                1.421246                    1.631654\n"
     ]
    }
   ],
   "source": [
    "min_val = abs(X_train_reduced[\"Time_Between_Purchases\"].min()) + 1\n",
    "X_train_reduced[\"Time_Between_Purchases_log\"] = np.log1p(X_train_reduced[\"Time_Between_Purchases\"] + min_val)\n",
    "X_test_reduced[\"Time_Between_Purchases_log\"] = np.log1p(X_test_reduced[\"Time_Between_Purchases\"] + min_val)\n",
    "\n",
    "# Verify again\n",
    "print(X_train_reduced[[\"Time_Between_Purchases\", \"Time_Between_Purchases_log\"]].head())"
   ]
  },
  {
   "cell_type": "code",
   "execution_count": 211,
   "metadata": {},
   "outputs": [
    {
     "name": "stdout",
     "output_type": "stream",
     "text": [
      "XGBoost Model Performance after Feature Engineering:\n",
      "              precision    recall  f1-score   support\n",
      "\n",
      "           0       0.51      0.51      0.51       992\n",
      "           1       0.51      0.51      0.51      1008\n",
      "\n",
      "    accuracy                           0.51      2000\n",
      "   macro avg       0.51      0.51      0.51      2000\n",
      "weighted avg       0.51      0.51      0.51      2000\n",
      "\n"
     ]
    }
   ],
   "source": [
    "xgb = XGBClassifier(n_estimators=200, learning_rate=0.05, random_state=42)\n",
    "xgb.fit(X_train_reduced, y_train)\n",
    "y_pred_xgb = xgb.predict(X_test_reduced)\n",
    "\n",
    "# Print classification report\n",
    "from sklearn.metrics import classification_report\n",
    "print(\"XGBoost Model Performance after Feature Engineering:\")\n",
    "print(classification_report(y_test, y_pred_xgb))"
   ]
  },
  {
   "cell_type": "code",
   "execution_count": 212,
   "metadata": {},
   "outputs": [
    {
     "name": "stdout",
     "output_type": "stream",
     "text": [
      "Random Forest Model Performance after Feature Engineering:\n",
      "              precision    recall  f1-score   support\n",
      "\n",
      "           0       0.49      0.50      0.49       992\n",
      "           1       0.50      0.50      0.50      1008\n",
      "\n",
      "    accuracy                           0.50      2000\n",
      "   macro avg       0.50      0.50      0.50      2000\n",
      "weighted avg       0.50      0.50      0.50      2000\n",
      "\n"
     ]
    }
   ],
   "source": [
    "rf = RandomForestClassifier(n_estimators=100, random_state=42)\n",
    "rf.fit(X_train_reduced, y_train)\n",
    "y_pred_rf = rf.predict(X_test_reduced)\n",
    "\n",
    "# Print classification report\n",
    "print(\"Random Forest Model Performance after Feature Engineering:\")\n",
    "print(classification_report(y_test, y_pred_rf))"
   ]
  },
  {
   "cell_type": "code",
   "execution_count": 213,
   "metadata": {},
   "outputs": [
    {
     "name": "stdout",
     "output_type": "stream",
     "text": [
      "count    8000.000000\n",
      "mean        0.500528\n",
      "std         0.032202\n",
      "min         0.000000\n",
      "25%         0.499753\n",
      "50%         0.500724\n",
      "75%         0.501649\n",
      "max         1.000000\n",
      "Name: purchase_behavior, dtype: float64\n"
     ]
    }
   ],
   "source": [
    "from sklearn.preprocessing import MinMaxScaler\n",
    "\n",
    "scaler = MinMaxScaler()\n",
    "X_train_reduced[\"purchase_behavior\"] = scaler.fit_transform(X_train_reduced[[\"purchase_behavior\"]])\n",
    "X_test_reduced[\"purchase_behavior\"] = scaler.transform(X_test_reduced[[\"purchase_behavior\"]])\n",
    "\n",
    "# Verify after scaling\n",
    "print(X_train_reduced[\"purchase_behavior\"].describe())"
   ]
  },
  {
   "cell_type": "code",
   "execution_count": 214,
   "metadata": {},
   "outputs": [
    {
     "name": "stdout",
     "output_type": "stream",
     "text": [
      "Churn\n",
      "1    4030\n",
      "0    3970\n",
      "Name: count, dtype: int64\n",
      "Churn\n",
      "1    4030\n",
      "0    4030\n",
      "Name: count, dtype: int64\n"
     ]
    }
   ],
   "source": [
    "from imblearn.over_sampling import SMOTE\n",
    "\n",
    "smote = SMOTE(random_state=42)\n",
    "X_train_balanced, y_train_balanced = smote.fit_resample(X_train_reduced, y_train)\n",
    "\n",
    "# Verify class balance\n",
    "print(y_train.value_counts())  # Before SMOTE\n",
    "print(y_train_balanced.value_counts())  # After SMOTE"
   ]
  },
  {
   "cell_type": "code",
   "execution_count": 226,
   "metadata": {},
   "outputs": [
    {
     "name": "stdout",
     "output_type": "stream",
     "text": [
      "XGBoost Performance After Fixes:\n",
      "              precision    recall  f1-score   support\n",
      "\n",
      "           0       0.50      0.52      0.51       992\n",
      "           1       0.51      0.49      0.50      1008\n",
      "\n",
      "    accuracy                           0.50      2000\n",
      "   macro avg       0.50      0.50      0.50      2000\n",
      "weighted avg       0.50      0.50      0.50      2000\n",
      "\n",
      "Random Forest Performance After Fixes:\n",
      "              precision    recall  f1-score   support\n",
      "\n",
      "           0       0.49      0.49      0.49       992\n",
      "           1       0.50      0.50      0.50      1008\n",
      "\n",
      "    accuracy                           0.49      2000\n",
      "   macro avg       0.49      0.49      0.49      2000\n",
      "weighted avg       0.49      0.49      0.49      2000\n",
      "\n"
     ]
    }
   ],
   "source": [
    "# XGBoost with better parameters\n",
    "xgb = XGBClassifier(n_estimators=300, learning_rate=0.03, max_depth=5, random_state=42)\n",
    "xgb.fit(X_train_balanced, y_train_balanced)\n",
    "y_pred_xgb = xgb.predict(X_test_reduced)\n",
    "\n",
    "print(\"XGBoost Performance After Fixes:\")\n",
    "print(classification_report(y_test, y_pred_xgb))\n",
    "\n",
    "# RandomForest with better parameters\n",
    "rf = RandomForestClassifier(n_estimators=200, max_depth=7, random_state=42)\n",
    "rf.fit(X_train_balanced, y_train_balanced)\n",
    "y_pred_rf = rf.predict(X_test_reduced)\n",
    "\n",
    "print(\"Random Forest Performance After Fixes:\")\n",
    "print(classification_report(y_test, y_pred_rf))"
   ]
  },
  {
   "cell_type": "code",
   "execution_count": 230,
   "metadata": {},
   "outputs": [
    {
     "name": "stdout",
     "output_type": "stream",
     "text": [
      "Negative Values Fixed: Passed\n",
      "Log Transform Applied: Passed\n",
      "purchase_behavior Created: Passed\n",
      "SMOTE Applied (Balanced Classes): Passed\n",
      "MinMax Scaling Applied: Passed\n",
      "Feature Selection Done: Passed\n"
     ]
    }
   ],
   "source": [
    "# Quick Summary Check\n",
    "summary_checks = {\n",
    "    \"Negative Values Fixed\": (X_train_reduced[\"Time_Between_Purchases\"].min() >= 0),\n",
    "    \"Log Transform Applied\": (X_train_reduced[\"Time_Between_Purchases_log\"].isna().sum() == 0),\n",
    "    \"purchase_behavior Created\": (\"purchase_behavior\" in X_train_reduced.columns),\n",
    "    \"SMOTE Applied (Balanced Classes)\": (y_train_balanced.value_counts().nunique() == 1),\n",
    "    \"MinMax Scaling Applied\": (X_train_balanced[\"purchase_behavior\"].min() == 0 and X_train_balanced[\"purchase_behavior\"].max() == 1),\n",
    "    \"Feature Selection Done\": (X_train_balanced.shape[1] == 3)\n",
    "}\n",
    "\n",
    "# Print issues (if any)\n",
    "for key, value in summary_checks.items():\n",
    "    print(f\"{key}: {'Passed' if value else 'Failed'}\")"
   ]
  },
  {
   "cell_type": "code",
   "execution_count": 5,
   "metadata": {},
   "outputs": [
    {
     "name": "stdout",
     "output_type": "stream",
     "text": [
      "dict_keys(['__name__', '__doc__', '__package__', '__loader__', '__spec__', '__builtin__', '__builtins__', '_ih', '_oh', '_dh', 'In', 'Out', 'get_ipython', 'exit', 'quit', 'open', '_', '__', '___', '__vsc_ipynb_file__', '_i', '_ii', '_iii', '_i1', '_i2', '_i3', '_i4', '_i5'])\n"
     ]
    }
   ],
   "source": [
    "print(globals().keys())  # See all available variable names\n"
   ]
  },
  {
   "cell_type": "code",
   "execution_count": 6,
   "metadata": {},
   "outputs": [
    {
     "name": "stdout",
     "output_type": "stream",
     "text": [
      "No saved processed data found. We'll need to regenerate it.\n"
     ]
    }
   ],
   "source": [
    "import pandas as pd\n",
    "\n",
    "try:\n",
    "    X_train_balanced = pd.read_csv(\"processed_train_data.csv\")\n",
    "    X_test_reduced = pd.read_csv(\"processed_test_data.csv\")\n",
    "    print(\"Loaded processed data successfully!\")\n",
    "\n",
    "    # Check if 'Churn' column exists (Target variable)\n",
    "    if \"Churn\" in X_train_balanced.columns:\n",
    "        y_train_balanced = X_train_balanced.pop(\"Churn\")\n",
    "        y_test = X_test_reduced.pop(\"Churn\")\n",
    "        print(\"Restored y_train_balanced and y_test successfully!\")\n",
    "    else:\n",
    "        print(\"Churn column missing. You might need to regenerate it.\")\n",
    "except FileNotFoundError:\n",
    "    print(\"No saved processed data found. We'll need to regenerate it.\")"
   ]
  },
  {
   "cell_type": "code",
   "execution_count": 12,
   "metadata": {},
   "outputs": [],
   "source": [
    "import pandas as pd\n",
    "\n",
    "# Replace this with your actual dataset file\n",
    "df = pd.read_csv(\"../data/processed_data.csv\")  \n",
    "\n",
    "# Assume 'Churn' is the target variable\n",
    "X = df.drop(columns=[\"Churn_Probability\"])\n",
    "y = df[\"Churn_Probability\"]"
   ]
  },
  {
   "cell_type": "code",
   "execution_count": 13,
   "metadata": {},
   "outputs": [
    {
     "name": "stdout",
     "output_type": "stream",
     "text": [
      "[0.53 0.76 0.13 0.15 0.09 0.12 0.8  0.05 0.65 0.37 0.42 0.08 0.28 0.97\n",
      " 0.14 0.2  0.24 0.25 0.94 0.81 0.43 0.22 0.26 0.47 0.74 0.93 0.04 0.23\n",
      " 0.82 0.87 0.86 0.49 0.1  0.79 0.85 0.91 0.54 0.77 0.29 0.17 0.32 0.66\n",
      " 0.51 0.71 0.62 0.96 0.72 0.48 0.55 0.84 0.45 0.99 0.4  0.19 0.31 0.52\n",
      " 0.6  0.03 0.27 0.61 0.21 0.9  0.38 0.56 0.44 0.75 0.11 0.35 0.3  0.64\n",
      " 0.68 0.78 0.89 0.46 0.01 0.36 0.73 0.92 0.33 0.95 0.83 0.18 0.41 0.69\n",
      " 0.67 0.5  0.02 0.57 0.06 0.63 0.7  0.88 0.34 0.58 0.39 0.59 0.98 0.16\n",
      " 1.   0.07 0.  ]\n"
     ]
    }
   ],
   "source": [
    "print(y.unique())  "
   ]
  },
  {
   "cell_type": "code",
   "execution_count": 14,
   "metadata": {},
   "outputs": [],
   "source": [
    "y = (df[\"Churn_Probability\"] >= 0.5).astype(int)  # Convert probabilities to 0 or 1"
   ]
  },
  {
   "cell_type": "code",
   "execution_count": 15,
   "metadata": {},
   "outputs": [],
   "source": [
    "from sklearn.model_selection import train_test_split\n",
    "\n",
    "X_train_reduced, X_test_reduced, y_train, y_test = train_test_split(\n",
    "    X, y, test_size=0.2, random_state=42\n",
    ")"
   ]
  },
  {
   "cell_type": "code",
   "execution_count": 16,
   "metadata": {},
   "outputs": [
    {
     "name": "stdout",
     "output_type": "stream",
     "text": [
      "Processed train and test data saved successfully!\n"
     ]
    }
   ],
   "source": [
    "# Add target column back to the dataset\n",
    "X_train_reduced[\"Churn_Probability\"] = y_train\n",
    "X_test_reduced[\"Churn_Probability\"] = y_test\n",
    "\n",
    "# Save to CSV\n",
    "X_train_reduced.to_csv(\"../data/processed_train_data.csv\", index=False)\n",
    "X_test_reduced.to_csv(\"../data/processed_test_data.csv\", index=False)\n",
    "\n",
    "print(\"Processed train and test data saved successfully!\")"
   ]
  },
  {
   "cell_type": "code",
   "execution_count": null,
   "metadata": {},
   "outputs": [],
   "source": []
  }
 ],
 "metadata": {
  "kernelspec": {
   "display_name": "churn_env",
   "language": "python",
   "name": "python3"
  },
  "language_info": {
   "codemirror_mode": {
    "name": "ipython",
    "version": 3
   },
   "file_extension": ".py",
   "mimetype": "text/x-python",
   "name": "python",
   "nbconvert_exporter": "python",
   "pygments_lexer": "ipython3",
   "version": "3.11.11"
  }
 },
 "nbformat": 4,
 "nbformat_minor": 2
}
