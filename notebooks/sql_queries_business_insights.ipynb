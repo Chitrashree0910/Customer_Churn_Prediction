{
 "cells": [
  {
   "cell_type": "code",
   "execution_count": 88,
   "metadata": {},
   "outputs": [],
   "source": [
    "import psycopg2\n",
    "import pandas as pd\n",
    "from sqlalchemy import create_engine\n",
    "from dotenv import load_dotenv\n",
    "import os\n",
    "from urllib.parse import quote_plus"
   ]
  },
  {
   "cell_type": "code",
   "execution_count": 89,
   "metadata": {},
   "outputs": [
    {
     "data": {
      "text/plain": [
       "True"
      ]
     },
     "execution_count": 89,
     "metadata": {},
     "output_type": "execute_result"
    }
   ],
   "source": [
    "# Load environment variables from .env\n",
    "load_dotenv()"
   ]
  },
  {
   "cell_type": "code",
   "execution_count": 90,
   "metadata": {},
   "outputs": [],
   "source": [
    "# Fetch database credentials from .env\n",
    "DB_NAME = os.getenv(\"DB_NAME\")\n",
    "DB_USER = os.getenv(\"DB_USER\")\n",
    "DB_PASSWORD = os.getenv(\"DB_PASSWORD\")\n",
    "DB_HOST = os.getenv(\"DB_HOST\")\n",
    "DB_PORT = os.getenv(\"DB_PORT\")\n",
    "\n",
    "# Encode the password to handle special characters\n",
    "password_encoded = quote_plus(DB_PASSWORD)\n",
    "\n",
    "# Use only this connection string (DO NOT create another one)\n",
    "connection_url = f'postgresql://{DB_USER}:{password_encoded}@{DB_HOST}:{DB_PORT}/{DB_NAME}'\n",
    "\n",
    "# Use this engine throughout the script\n",
    "engine = create_engine(connection_url)"
   ]
  },
  {
   "cell_type": "code",
   "execution_count": 91,
   "metadata": {},
   "outputs": [
    {
     "name": "stdout",
     "output_type": "stream",
     "text": [
      "Connection to PostgreSQL successful!\n"
     ]
    }
   ],
   "source": [
    "# Establish a connection using psycopg2\n",
    "conn = psycopg2.connect(\n",
    "    dbname=DB_NAME,\n",
    "    user=DB_USER,\n",
    "    password=DB_PASSWORD,\n",
    "    host=DB_HOST,\n",
    "    port=DB_PORT\n",
    ")\n",
    "cursor = conn.cursor()\n",
    "\n",
    "print(\"Connection to PostgreSQL successful!\")"
   ]
  },
  {
   "cell_type": "code",
   "execution_count": 92,
   "metadata": {},
   "outputs": [
    {
     "name": "stdout",
     "output_type": "stream",
     "text": [
      "Table created successfully!\n"
     ]
    }
   ],
   "source": [
    "# Define table structure for 'processed_data.csv'\n",
    "create_table_query = \"\"\"\n",
    "CREATE TABLE IF NOT EXISTS processed_churn_data (\n",
    "    Customer_ID VARCHAR(50),\n",
    "    Product_ID VARCHAR(50),\n",
    "    Transaction_ID VARCHAR(50),\n",
    "    Purchase_Frequency INT,\n",
    "    Average_Order_Value FLOAT,\n",
    "    Most_Frequent_Category VARCHAR(50),\n",
    "    Time_Between_Purchases INT,\n",
    "    Region VARCHAR(50),\n",
    "    Churn_Probability FLOAT,\n",
    "    Lifetime_Value FLOAT,\n",
    "    avg_order_value_standardized FLOAT,\n",
    "    time_between_standardized FLOAT,\n",
    "    customer_tenure_standardized FLOAT,\n",
    "    recency_standardized FLOAT,\n",
    "    engagement_score_standardized FLOAT,\n",
    "    engagement_score_log FLOAT,\n",
    "    customer_tenure_group VARCHAR(20),\n",
    "    engagement_category VARCHAR(20),\n",
    "    recently_active VARCHAR(10),\n",
    "    engagement_score_ma3 FLOAT\n",
    ");\n",
    "\"\"\"\n",
    "\n",
    "cursor.execute(create_table_query)\n",
    "conn.commit()\n",
    "print(\"Table created successfully!\")"
   ]
  },
  {
   "cell_type": "code",
   "execution_count": 93,
   "metadata": {},
   "outputs": [],
   "source": [
    "# Load 'processed_data.csv'\n",
    "df = pd.read_csv(\"../data/processed_data.csv\")"
   ]
  },
  {
   "cell_type": "code",
   "execution_count": 94,
   "metadata": {},
   "outputs": [
    {
     "name": "stdout",
     "output_type": "stream",
     "text": [
      "Data Loaded Successfully into PostgreSQL\n"
     ]
    }
   ],
   "source": [
    "# Insert data into PostgreSQL (using the correct engine)\n",
    "df.to_sql(\"processed_churn_data\", engine, if_exists=\"replace\", index=False)\n",
    "\n",
    "print(\"Data Loaded Successfully into PostgreSQL\")"
   ]
  },
  {
   "cell_type": "code",
   "execution_count": 95,
   "metadata": {},
   "outputs": [],
   "source": [
    "# Create a copy of the DataFrame\n",
    "df_copy = df.copy()"
   ]
  },
  {
   "cell_type": "code",
   "execution_count": 96,
   "metadata": {},
   "outputs": [
    {
     "data": {
      "text/plain": [
       "Customer_ID                      0\n",
       "Product_ID                       0\n",
       "Transaction_ID                   0\n",
       "Purchase_Frequency               0\n",
       "Average_Order_Value              0\n",
       "Most_Frequent_Category           0\n",
       "Time_Between_Purchases           0\n",
       "Region                           0\n",
       "Churn_Probability                0\n",
       "Lifetime_Value                   0\n",
       "Launch_Date                      0\n",
       "Peak_Sales_Date                  0\n",
       "Season                           0\n",
       "Preferred_Purchase_Times         0\n",
       "Retention_Strategy               0\n",
       "launch_year                      0\n",
       "launch_month                     0\n",
       "customer_tenure                  0\n",
       "recency                          0\n",
       "engagement_score                 0\n",
       "purchase_freq_scaled             0\n",
       "avg_order_value_scaled           0\n",
       "time_between_scaled              0\n",
       "customer_tenure_scaled           0\n",
       "recency_scaled                   0\n",
       "engagement_score_scaled          0\n",
       "purchase_freq_standardized       0\n",
       "avg_order_value_standardized     0\n",
       "time_between_standardized        0\n",
       "customer_tenure_standardized     0\n",
       "recency_standardized             0\n",
       "engagement_score_standardized    0\n",
       "engagement_score_log             0\n",
       "customer_tenure_group            0\n",
       "engagement_category              0\n",
       "recently_active                  0\n",
       "engagement_score_ma3             0\n",
       "dtype: int64"
      ]
     },
     "execution_count": 96,
     "metadata": {},
     "output_type": "execute_result"
    }
   ],
   "source": [
    "# Checking for missing values\n",
    "df_copy.isnull().sum()"
   ]
  },
  {
   "cell_type": "code",
   "execution_count": 97,
   "metadata": {},
   "outputs": [
    {
     "name": "stdout",
     "output_type": "stream",
     "text": [
      "  customer_tenure_group  count\n",
      "0                   New      7\n",
      "1                Medium   6709\n",
      "2                 Loyal   3284\n"
     ]
    }
   ],
   "source": [
    "# Validating the query to confirm the transformations\n",
    "\n",
    "# Connecting using SQLAlchemy\n",
    "conn = engine.connect()\n",
    "\n",
    "# Executing the SQL query and store results in a Dataframe\n",
    "query = \"\"\"\n",
    "SELECT customer_tenure_group, COUNT(*) \n",
    "FROM processed_churn_data\n",
    "GROUP BY customer_tenure_group;\n",
    "\"\"\"\n",
    "\n",
    "df_tenure = pd.read_sql(query, conn)\n",
    "\n",
    "# Display results\n",
    "print(df_tenure)"
   ]
  },
  {
   "cell_type": "markdown",
   "metadata": {},
   "source": [
    "From the above output it shows that:\n",
    "New customers: 7\n",
    "Loyal customers: 3,284\n",
    "Medium-tenure customers: 6,709\n",
    "\n",
    "This will used to understand the customer retention patterns"
   ]
  },
  {
   "cell_type": "code",
   "execution_count": 98,
   "metadata": {},
   "outputs": [
    {
     "name": "stdout",
     "output_type": "stream",
     "text": [
      "  customer_tenure_group  total_customers  churned_customers  churn_rate\n",
      "0                   New                7                  4       57.14\n",
      "1                Medium             6709               3308       49.31\n",
      "2                 Loyal             3284               1619       49.30\n"
     ]
    }
   ],
   "source": [
    "# Checking churn rate per tenure group\n",
    "query = \"\"\"\n",
    "SELECT customer_tenure_group,\n",
    "    COUNT(*) AS total_customers,\n",
    "    SUM(CASE WHEN \"Churn_Probability\" > 0.5 THEN 1 ELSE 0 END) AS churned_customers,\n",
    "    ROUND((SUM(CASE WHEN \"Churn_Probability\" > 0.5 THEN 1 ELSE 0 END) * 100.0) / COUNT(*), 2) AS churn_rate\n",
    "FROM processed_churn_data\n",
    "GROUP BY customer_tenure_group\n",
    "ORDER BY churn_rate DESC; \n",
    "\"\"\"\n",
    "\n",
    "df_churn_rate = pd.read_sql(query, conn)\n",
    "\n",
    "print(df_churn_rate)"
   ]
  },
  {
   "cell_type": "markdown",
   "metadata": {},
   "source": [
    "Observations:\n",
    "- New customers have the highest churn rate of 57.14%\n",
    "- Medium and Loyal customers have nearly the same churn rate of 49%"
   ]
  },
  {
   "cell_type": "code",
   "execution_count": 99,
   "metadata": {},
   "outputs": [
    {
     "name": "stdout",
     "output_type": "stream",
     "text": [
      "  engagement_category  total_customers  churned_customers  churn_rate\n",
      "0              Medium             3229               1613       49.95\n",
      "1                High             3312               1654       49.94\n",
      "2                 Low             3459               1664       48.11\n"
     ]
    }
   ],
   "source": [
    "# Checking for the churn rate by Engagement category\n",
    "query = \"\"\"\n",
    "SELECT engagement_category,\n",
    "    COUNT(*) AS total_customers,\n",
    "    SUM(CASE WHEN \"Churn_Probability\" > 0.5 THEN 1 ELSE 0 END) AS churned_customers,\n",
    "    ROUND((SUM(CASE WHEN \"Churn_Probability\" > 0.5 THEN 1 ELSE 0 END) * 100.0) / COUNT(*), 2) AS churn_rate\n",
    "FROM processed_churn_data\n",
    "GROUP BY engagement_category\n",
    "ORDER BY churn_rate DESC;\n",
    "\"\"\"\n",
    "\n",
    "df_churn_rate = pd.read_sql(query, conn)\n",
    "\n",
    "print(df_churn_rate)"
   ]
  },
  {
   "cell_type": "markdown",
   "metadata": {},
   "source": [
    "Observations:\n",
    "- Low customer engagement have the lowest churn rate of 48.11%  \n",
    "- Medium and high customer engagement have the highest churn rate of 49%\n",
    "\n",
    "Verifying the engagement score distribution."
   ]
  },
  {
   "cell_type": "code",
   "execution_count": 100,
   "metadata": {},
   "outputs": [
    {
     "name": "stdout",
     "output_type": "stream",
     "text": [
      "  engagement_category  min_score  max_score  avg_score  total_customers\n",
      "0              Medium         13         33  21.587488             3229\n",
      "1                High         34        689  90.782911             3312\n",
      "2                 Low          0         12   6.303267             3459\n"
     ]
    }
   ],
   "source": [
    "# Checking for the engagement score distribution by category\n",
    "query = \"\"\"\n",
    "SELECT engagement_category,\n",
    "    MIN(engagement_score) AS min_score,\n",
    "    MAX(engagement_score) AS max_score,\n",
    "    AVG(engagement_score) AS avg_score,\n",
    "    COUNT(*) AS total_customers\n",
    "FROM processed_churn_data\n",
    "GROUP BY engagement_category;\n",
    "\"\"\"\n",
    "\n",
    "df_engagement_check = pd.read_sql(query, conn)\n",
    "\n",
    "print(df_engagement_check)"
   ]
  },
  {
   "cell_type": "markdown",
   "metadata": {},
   "source": [
    "Observations:\n",
    "- Compared to the low engagement, high engagement score range is wide 34 -> 689\n",
    "- So analyzing the churn rate at different raw engagement score levels"
   ]
  },
  {
   "cell_type": "code",
   "execution_count": 101,
   "metadata": {},
   "outputs": [
    {
     "name": "stdout",
     "output_type": "stream",
     "text": [
      "    engagement_score_group  total_customers  churned_customers  churn_rate\n",
      "0                      0.0             1189                556       46.76\n",
      "1                     10.0             2700               1334       49.41\n",
      "2                     20.0             1737                865       49.80\n",
      "3                     30.0             1149                555       48.30\n",
      "4                     40.0              762                380       49.87\n",
      "..                     ...              ...                ...         ...\n",
      "56                   600.0                2                  1       50.00\n",
      "57                   630.0                2                  2      100.00\n",
      "58                   640.0                1                  0        0.00\n",
      "59                   680.0                1                  1      100.00\n",
      "60                   690.0                1                  1      100.00\n",
      "\n",
      "[61 rows x 4 columns]\n"
     ]
    }
   ],
   "source": [
    "# Checking for the churn rate by raw engagement score\n",
    "query = \"\"\"\n",
    "SELECT \n",
    "    ROUND(engagement_score, -1) AS engagement_score_group,\n",
    "    COUNT(*) AS total_customers,\n",
    "    SUM(CASE WHEN \"Churn_Probability\" > 0.5 THEN 1 ELSE 0 END) AS churned_customers,\n",
    "    ROUND((SUM(CASE WHEN \"Churn_Probability\" > 0.5 THEN 1 ELSE 0 END) * 100.0) / COUNT(*), 2) AS churn_rate\n",
    "FROM processed_churn_data\n",
    "GROUP BY engagement_score_group\n",
    "ORDER BY engagement_score_group;\n",
    "\"\"\"\n",
    "\n",
    "df_engagement_check = pd.read_sql(query, conn)\n",
    "\n",
    "print(df_engagement_check)"
   ]
  },
  {
   "cell_type": "markdown",
   "metadata": {},
   "source": [
    "Updating the Engagement Category distributions - setting better thresholds, so we can get a clearer distinction between Low, Medium, and High engagement (Check feature_engineering.sql file for the distributions made)"
   ]
  },
  {
   "cell_type": "code",
   "execution_count": 102,
   "metadata": {},
   "outputs": [
    {
     "name": "stdout",
     "output_type": "stream",
     "text": [
      "  engagement_category  total_customers  churned_customers  churn_rate\n",
      "0              Medium             3229               1613       49.95\n",
      "1                High             3312               1654       49.94\n",
      "2                 Low             3459               1664       48.11\n"
     ]
    }
   ],
   "source": [
    "# Rerunning the Churn Rate Analysis by Engagement Category\n",
    "query = \"\"\"\n",
    "SELECT engagement_category,\n",
    "    COUNT(*) AS total_customers,\n",
    "    SUM(CASE WHEN \"Churn_Probability\" > 0.5 THEN 1 ELSE 0 END) AS churned_customers,\n",
    "    ROUND((SUM(CASE WHEN \"Churn_Probability\" > 0.5 THEN 1 ELSE 0 END) * 100.0) / COUNT(*), 2) AS churn_rate\n",
    "FROM processed_churn_data\n",
    "GROUP BY engagement_category\n",
    "ORDER BY churn_rate DESC;\n",
    "\"\"\"\n",
    "\n",
    "df_engagement_check = pd.read_sql(query, conn)\n",
    "\n",
    "print(df_engagement_check)"
   ]
  },
  {
   "cell_type": "markdown",
   "metadata": {},
   "source": [
    "Observations:\n",
    "- After updating the engagement categories and rerunning the churn rate analysis, the churn rates have remained nearly the same as before.\n"
   ]
  },
  {
   "cell_type": "code",
   "execution_count": 103,
   "metadata": {},
   "outputs": [
    {
     "data": {
      "image/png": "[encoded data removed]",
      "text/plain": [
       "<Figure size 800x500 with 1 Axes>"
      ]
     },
     "metadata": {},
     "output_type": "display_data"
    }
   ],
   "source": [
    "import matplotlib.pyplot as plt\n",
    "import seaborn as sns\n",
    "\n",
    "# Plotting\n",
    "plt.figure(figsize=(8, 5))\n",
    "sns.barplot(x=df_engagement_check[\"engagement_category\"], y=df_engagement_check[\"churn_rate\"], hue = df_engagement_check[\"engagement_category\"], palette=\"viridis\", legend = False)\n",
    "\n",
    "# Labels and title\n",
    "plt.xlabel(\"Engagement Category\")\n",
    "plt.ylabel(\"Churn Rate (%)\")\n",
    "plt.title(\"Churn Rate by Engagement Category\")\n",
    "\n",
    "# Show the plot\n",
    "plt.show()"
   ]
  },
  {
   "cell_type": "code",
   "execution_count": 104,
   "metadata": {},
   "outputs": [
    {
     "name": "stdout",
     "output_type": "stream",
     "text": [
      "  engagement_category customer_tenure_group  total_customers  \\\n",
      "0                High                   New                2   \n",
      "1              Medium                   New                3   \n",
      "2                High                 Loyal             1069   \n",
      "3              Medium                Medium             2193   \n",
      "4                High                Medium             2241   \n",
      "5              Medium                 Loyal             1033   \n",
      "6                 Low                 Loyal             1182   \n",
      "7                 Low                Medium             2275   \n",
      "8                 Low                   New                2   \n",
      "\n",
      "   churned_customers  churn_rate  \n",
      "0                  2      100.00  \n",
      "1                  2       66.67  \n",
      "2                538       50.33  \n",
      "3               1102       50.25  \n",
      "4               1114       49.71  \n",
      "5                509       49.27  \n",
      "6                572       48.39  \n",
      "7               1092       48.00  \n",
      "8                  0        0.00  \n"
     ]
    }
   ],
   "source": [
    "# Checking the churn rate with tenure along with the customer engagement category\n",
    "query = \"\"\"\n",
    "SELECT engagement_category, customer_tenure_group,\n",
    "    COUNT(*) AS total_customers,\n",
    "    SUM(CASE WHEN \"Churn_Probability\" > 0.5 THEN 1 ELSE 0 END) AS churned_customers,\n",
    "    ROUND((SUM(CASE WHEN \"Churn_Probability\" > 0.5 THEN 1 ELSE 0 END) * 100.0) / COUNT(*), 2) AS churn_rate\n",
    "FROM processed_churn_data\n",
    "GROUP BY engagement_category, customer_tenure_group\n",
    "ORDER BY churn_rate DESC;\n",
    "\"\"\"\n",
    "\n",
    "df_engagement_check = pd.read_sql(query, conn)\n",
    "\n",
    "print(df_engagement_check)"
   ]
  },
  {
   "cell_type": "markdown",
   "metadata": {},
   "source": [
    "Observations:\n",
    "- New customers have extremely high churn\n",
    "    - New customers + High engagement = 100% churn \n",
    "    - New customers + Medium engagement = 66.67% churn \n",
    "\n",
    "- Long tenure customers still have high churn \n",
    "    - High engagement + Long tenure = 50.33% churn \n",
    "    - Medium engagement + Long tenure = 49.27% churn\n",
    "    - Low engagement + Long tenure = 48.39% churn\n",
    "\n",
    "- Low engagement customers have slightly lower chaurn rates\n",
    "    - Low engagement + Medium tenure = 48.00% churn"
   ]
  },
  {
   "cell_type": "code",
   "execution_count": 105,
   "metadata": {},
   "outputs": [
    {
     "name": "stdout",
     "output_type": "stream",
     "text": [
      "    purchase_freq_scaled  total_customers  churned_customers  churn_rate\n",
      "0               0.833333              524                272       51.91\n",
      "1               1.000000              551                284       51.54\n",
      "2               0.777778              497                254       51.11\n",
      "3               0.500000              550                280       50.91\n",
      "4               0.666667              535                272       50.84\n",
      "5               0.555556              494                251       50.81\n",
      "6               0.611111              500                254       50.80\n",
      "7               0.000000              594                297       50.00\n",
      "8               0.444444              532                265       49.81\n",
      "9               0.888889              519                257       49.52\n",
      "10              0.388889              544                269       49.45\n",
      "11              0.222222              553                271       49.01\n",
      "12              0.333333              505                247       48.91\n",
      "13              0.277778              503                241       47.91\n",
      "14              0.944444              532                254       47.74\n",
      "15              0.166667              498                236       47.39\n",
      "16              0.722222              521                245       47.02\n",
      "17              0.055556              521                242       46.45\n",
      "18              0.111111              527                240       45.54\n"
     ]
    }
   ],
   "source": [
    "# Checking for the churn rate by Purchase Frequency\n",
    "query = \"\"\"\n",
    "SELECT \n",
    "    purchase_freq_scaled,\n",
    "    COUNT(*) AS total_customers,\n",
    "    SUM(CASE WHEN \"Churn_Probability\" > 0.5 THEN 1 ELSE 0 END) AS churned_customers,\n",
    "    ROUND((SUM(CASE WHEN \"Churn_Probability\" > 0.5 THEN 1 ELSE 0 END) * 100.0) / COUNT(*), 2) AS churn_rate\n",
    "FROM processed_churn_data\n",
    "GROUP BY purchase_freq_scaled\n",
    "ORDER BY churn_rate DESC;\n",
    "\"\"\"\n",
    "\n",
    "df_engagement_check = pd.read_sql(query, conn)\n",
    "\n",
    "print(df_engagement_check)"
   ]
  },
  {
   "cell_type": "code",
   "execution_count": 106,
   "metadata": {},
   "outputs": [
    {
     "name": "stdout",
     "output_type": "stream",
     "text": [
      "      avg_order_value_scaled  total_customers  churned_customers  churn_rate\n",
      "0                   0.865407                1                  1       100.0\n",
      "1                   0.729091                1                  1       100.0\n",
      "2                   0.153598                1                  1       100.0\n",
      "3                   0.353209                1                  1       100.0\n",
      "4                   0.674687                1                  1       100.0\n",
      "...                      ...              ...                ...         ...\n",
      "7603                0.773882                1                  0         0.0\n",
      "7604                0.052515                1                  0         0.0\n",
      "7605                0.999278                1                  0         0.0\n",
      "7606                0.110475                2                  0         0.0\n",
      "7607                0.213226                1                  0         0.0\n",
      "\n",
      "[7608 rows x 4 columns]\n"
     ]
    }
   ],
   "source": [
    "# Checking for the churn rate by Average Order Value\n",
    "query = \"\"\"\n",
    "SELECT \n",
    "    avg_order_value_scaled,\n",
    "    COUNT(*) AS total_customers,\n",
    "    SUM(CASE WHEN \"Churn_Probability\" > 0.5 THEN 1 ELSE 0 END) AS churned_customers,\n",
    "    ROUND((SUM(CASE WHEN \"Churn_Probability\" > 0.5 THEN 1 ELSE 0 END) * 100.0) / COUNT(*), 2) AS churn_rate\n",
    "FROM processed_churn_data\n",
    "GROUP BY avg_order_value_scaled\n",
    "ORDER BY churn_rate DESC;\n",
    "\"\"\"\n",
    "\n",
    "df_engagement_check = pd.read_sql(query, conn)\n",
    "\n",
    "print(df_engagement_check)"
   ]
  },
  {
   "cell_type": "code",
   "execution_count": 107,
   "metadata": {},
   "outputs": [
    {
     "name": "stdout",
     "output_type": "stream",
     "text": [
      "   engagement_category  purchase_freq_scaled  total_customers  \\\n",
      "0                 High              0.055556               12   \n",
      "1                 High              0.222222               83   \n",
      "2               Medium              0.666667              227   \n",
      "3               Medium              0.611111              194   \n",
      "4                 High              0.111111               39   \n",
      "5                  Low              0.611111               82   \n",
      "6               Medium              0.500000              237   \n",
      "7                 High              0.833333              305   \n",
      "8                 High              0.555556              164   \n",
      "9               Medium              0.777778              191   \n",
      "10              Medium              0.833333              165   \n",
      "11                 Low              0.777778               59   \n",
      "12              Medium              1.000000              158   \n",
      "13                 Low              0.388889              174   \n",
      "14                 Low              0.944444               48   \n",
      "15              Medium              0.722222              187   \n",
      "16                High              1.000000              350   \n",
      "17              Medium              0.444444              233   \n",
      "18                High              0.166667               49   \n",
      "19                High              0.333333              114   \n",
      "20              Medium              0.555556              215   \n",
      "21                 Low              0.277778              237   \n",
      "22                High              0.500000              188   \n",
      "23                 Low              0.000000              564   \n",
      "24                High              0.888889              298   \n",
      "25              Medium              0.000000               28   \n",
      "26                High              0.444444              162   \n",
      "27                High              0.000000                2   \n",
      "28                 Low              0.888889               56   \n",
      "29                High              0.388889              136   \n",
      "30                High              0.777778              247   \n",
      "31              Medium              0.055556               59   \n",
      "32                High              0.944444              352   \n",
      "33                 Low              1.000000               43   \n",
      "34                 Low              0.222222              287   \n",
      "35                 Low              0.555556              115   \n",
      "36                High              0.277778               76   \n",
      "37                 Low              0.666667               70   \n",
      "38              Medium              0.888889              165   \n",
      "39                 Low              0.333333              188   \n",
      "40                High              0.666667              238   \n",
      "41              Medium              0.333333              203   \n",
      "42                 Low              0.500000              125   \n",
      "43              Medium              0.111111              105   \n",
      "44                 Low              0.166667              326   \n",
      "45                 Low              0.444444              137   \n",
      "46              Medium              0.388889              234   \n",
      "47                High              0.611111              224   \n",
      "48              Medium              0.222222              183   \n",
      "49                 Low              0.055556              450   \n",
      "50              Medium              0.166667              123   \n",
      "51                High              0.722222              273   \n",
      "52              Medium              0.277778              190   \n",
      "53                 Low              0.111111              383   \n",
      "54              Medium              0.944444              132   \n",
      "55                 Low              0.833333               54   \n",
      "56                 Low              0.722222               61   \n",
      "\n",
      "    churned_customers  churn_rate  \n",
      "0                   8       66.67  \n",
      "1                  46       55.42  \n",
      "2                 123       54.19  \n",
      "3                 105       54.12  \n",
      "4                  21       53.85  \n",
      "5                  44       53.66  \n",
      "6                 126       53.16  \n",
      "7                 162       53.11  \n",
      "8                  87       53.05  \n",
      "9                 101       52.88  \n",
      "10                 87       52.73  \n",
      "11                 31       52.54  \n",
      "12                 83       52.53  \n",
      "13                 91       52.30  \n",
      "14                 25       52.08  \n",
      "15                 97       51.87  \n",
      "16                180       51.43  \n",
      "17                119       51.07  \n",
      "18                 25       51.02  \n",
      "19                 58       50.88  \n",
      "20                108       50.23  \n",
      "21                119       50.21  \n",
      "22                 94       50.00  \n",
      "23                282       50.00  \n",
      "24                149       50.00  \n",
      "25                 14       50.00  \n",
      "26                 81       50.00  \n",
      "27                  1       50.00  \n",
      "28                 28       50.00  \n",
      "29                 68       50.00  \n",
      "30                122       49.39  \n",
      "31                 29       49.15  \n",
      "32                172       48.86  \n",
      "33                 21       48.84  \n",
      "34                140       48.78  \n",
      "35                 56       48.70  \n",
      "36                 37       48.68  \n",
      "37                 34       48.57  \n",
      "38                 80       48.48  \n",
      "39                 91       48.40  \n",
      "40                115       48.32  \n",
      "41                 98       48.28  \n",
      "42                 60       48.00  \n",
      "43                 50       47.62  \n",
      "44                155       47.55  \n",
      "45                 65       47.45  \n",
      "46                110       47.01  \n",
      "47                105       46.88  \n",
      "48                 85       46.45  \n",
      "49                205       45.56  \n",
      "50                 56       45.53  \n",
      "51                123       45.05  \n",
      "52                 85       44.74  \n",
      "53                169       44.13  \n",
      "54                 57       43.18  \n",
      "55                 23       42.59  \n",
      "56                 25       40.98  \n"
     ]
    }
   ],
   "source": [
    "# Checking the engagement scores for high-frequency churners\n",
    "query = \"\"\"\n",
    "SELECT\n",
    "    engagement_category,\n",
    "    purchase_freq_scaled,\n",
    "    COUNT(*) AS total_customers,\n",
    "    SUM(CASE WHEN \"Churn_Probability\" > 0.5 THEN 1 ELSE 0 END) AS churned_customers,\n",
    "    ROUND((SUM(CASE WHEN \"Churn_Probability\" > 0.5 THEN 1 ELSE 0 END) * 100.0) / COUNT(*), 2) AS churn_rate\n",
    "FROM processed_churn_data\n",
    "GROUP BY engagement_category, purchase_freq_scaled\n",
    "ORDER BY churn_rate DESC;\n",
    "\"\"\"\n",
    "\n",
    "df_engagement_check = pd.read_sql(query, conn)\n",
    "\n",
    "print(df_engagement_check)"
   ]
  },
  {
   "cell_type": "markdown",
   "metadata": {},
   "source": [
    "Observations:\n",
    "- High engagement with purchase frequency = 1.0 still has 350 customers and a churn rate of ~47.14%\n",
    "- Medium engagement with purchase frequency = 0.777778 has 191 customers and a churn rate of ~48.17%\n",
    "- Low engagement with purchase frequency = 0.000000 has 564 customers and a churn rate of 50.00%"
   ]
  },
  {
   "cell_type": "code",
   "execution_count": 108,
   "metadata": {},
   "outputs": [
    {
     "name": "stdout",
     "output_type": "stream",
     "text": [
      "  aov_category  total_customers  churned_customers  churn_rate\n",
      "0       Medium             3296               1634       49.58\n",
      "1         High             3401               1683       49.49\n",
      "2          Low             3303               1614       48.86\n"
     ]
    }
   ],
   "source": [
    "# Checking for the churn patterns with spending behavior\n",
    "\n",
    "query = \"\"\"\n",
    "WITH aov_buckets AS (\n",
    "    SELECT \n",
    "        *,\n",
    "        CASE \n",
    "            WHEN avg_order_value_scaled <= 0.33 THEN 'Low'\n",
    "            WHEN avg_order_value_scaled <= 0.66 THEN 'Medium'\n",
    "            ELSE 'High'\n",
    "        END AS aov_category\n",
    "    FROM processed_churn_data\n",
    ")\n",
    "SELECT \n",
    "    aov_category,\n",
    "    COUNT(*) AS total_customers,\n",
    "    SUM(CASE WHEN \"Churn_Probability\" > 0.5 THEN 1 ELSE 0 END) AS churned_customers,\n",
    "    ROUND((SUM(CASE WHEN \"Churn_Probability\" > 0.5 THEN 1 ELSE 0 END) * 100.0) / COUNT(*), 2) AS churn_rate\n",
    "FROM aov_buckets\n",
    "GROUP BY aov_category\n",
    "ORDER BY churn_rate DESC;\n",
    "\"\"\"\n",
    "\n",
    "df_engagement_check = pd.read_sql(query, conn)\n",
    "\n",
    "print(df_engagement_check)"
   ]
  },
  {
   "cell_type": "markdown",
   "metadata": {},
   "source": [
    "Observations:\n",
    "- Medium spenders have the highest churn rate (49.58%), followed by High spenders (49.49%), and then Low spenders (48.86%)\n",
    "- Mean churn might be driven by other factors e.g., engagement, tenure, or product satisfaction"
   ]
  },
  {
   "cell_type": "code",
   "execution_count": null,
   "metadata": {},
   "outputs": [],
   "source": []
  }
 ],
 "metadata": {
  "kernelspec": {
   "display_name": "churn_env",
   "language": "python",
   "name": "python3"
  },
  "language_info": {
   "codemirror_mode": {
    "name": "ipython",
    "version": 3
   },
   "file_extension": ".py",
   "mimetype": "text/x-python",
   "name": "python",
   "nbconvert_exporter": "python",
   "pygments_lexer": "ipython3",
   "version": "3.11.11"
  }
 },
 "nbformat": 4,
 "nbformat_minor": 2
}
